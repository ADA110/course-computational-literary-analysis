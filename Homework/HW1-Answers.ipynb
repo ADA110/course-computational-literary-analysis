{
 "cells": [
  {
   "cell_type": "markdown",
   "metadata": {},
   "source": [
    "# Homework 1\n",
    "\n",
    "## Your name here\n",
    "\n",
    "Instructions: \n",
    " 1. Replace \"Yourname\" in the title of this notebook with your first name, and replace \"your name here\" above, as well.\n",
    " 2. Complete all problems 1-8, and run the cell containing your solution, to show that it works. \n",
    " 3. Run \"restart and run all\" from the kernel menu, to make sure that your notebook runs fine sequentially (to avoid any problems with running cells out of order). \n",
    " 4. Email me this .ipynb file, to jonathan.reeve@columbia.edu, before our discussion section on Monday (i.e., before noon Berkeley time on Monday). "
   ]
  },
  {
   "cell_type": "markdown",
   "metadata": {},
   "source": [
    "### 1. Write a line of Python to split this passage into sentences. \n",
    "\n",
    "Here is the sentence to split:\n",
    "\n",
    "\"I am not superstitious. I have read a heap of books in my time. I am a scholar in my own way\"\n",
    "\n",
    "Your output should be a list like this: \n",
    "\n",
    "```python\n",
    "[\"I am not superstitious\", \" I have read a heap of books in my time\", \" I am a scholar in my own way\"]\n",
    "```"
   ]
  },
  {
   "cell_type": "code",
   "execution_count": 20,
   "metadata": {},
   "outputs": [
    {
     "name": "stdout",
     "output_type": "stream",
     "text": [
      "['I am not superstitious', ' I have read a heap of books in my time', ' I am a scholar in my own way']\n"
     ]
    }
   ],
   "source": [
    "sent = \"I am not superstitious. I have read a heap of books in my time. I am a scholar in my own way\"\n",
    "splitSent = sent.split('.')\n",
    "print(splitSent)"
   ]
  },
  {
   "cell_type": "markdown",
   "metadata": {},
   "source": [
    "### 2. Using the output from #1, split those three sentences into words. \n",
    "\n",
    "Your output should be something like this:\n",
    "\n",
    "```python\n",
    "['I', 'am', 'not', 'superstitious'],\n",
    "['I', 'have', 'read', 'a', 'heap', 'of', 'books', 'in', 'my', 'time'],\n",
    "['I', 'am', 'a', 'scholar', 'in', 'my', 'own', 'way.']\n",
    "```\n",
    "\n",
    "Hint: use a `for` loop. "
   ]
  },
  {
   "cell_type": "code",
   "execution_count": 4,
   "metadata": {},
   "outputs": [
    {
     "name": "stdout",
     "output_type": "stream",
     "text": [
      "['I', 'am', 'not', 'superstitious']\n",
      "['I', 'have', 'read', 'a', 'heap', 'of', 'books', 'in', 'my', 'time']\n",
      "['I', 'am', 'a', 'scholar', 'in', 'my', 'own', 'way']\n"
     ]
    }
   ],
   "source": [
    "sentences = ['I am not superstitious',\n",
    " ' I have read a heap of books in my time',\n",
    " ' I am a scholar in my own way']\n",
    "\n",
    "for sent in sentences: \n",
    "    print(sent.split())"
   ]
  },
  {
   "cell_type": "markdown",
   "metadata": {},
   "source": [
    "### 3. Using some of the output from #2, write a line of Python to extract the fifth through seventh words from the second sentence. \n",
    "\n",
    "Your output should be:\n",
    "\n",
    "```python\n",
    "[\"heap\", \"of\", \"books\"]\n",
    "```"
   ]
  },
  {
   "cell_type": "code",
   "execution_count": 9,
   "metadata": {},
   "outputs": [
    {
     "data": {
      "text/plain": [
       "['heap', 'of', 'books']"
      ]
     },
     "execution_count": 9,
     "metadata": {},
     "output_type": "execute_result"
    }
   ],
   "source": [
    "words = ['I', 'have', 'read', 'a', 'heap', 'of', 'books', 'in', 'my', 'time']\n",
    "\n",
    "words[4:7]\n",
    "\n"
   ]
  },
  {
   "cell_type": "markdown",
   "metadata": {},
   "source": [
    "### 4. Using a table of contents for _The Moonstone_, make a data structure that shows the hierarchy of the novel.\n",
    "\n",
    "Maybe consult a paper copy, since my electronic edition doesn't have a great table of contents. \n",
    "\n",
    "The data structure could be a dictionary of lists, or a dictionary containing dictionaries.  \n",
    "\n",
    "For example, the section called \"the story\" contains \"first period\" and \"second period.\" The \"second period\" contains several narratives, and some of those narratives have chapters. \n",
    "\n",
    "Write a sentence or two (in a markdown cell) with anything you notice about this structure. "
   ]
  },
  {
   "cell_type": "code",
   "execution_count": 2,
   "metadata": {},
   "outputs": [],
   "source": [
    "# Enter code here. "
   ]
  },
  {
   "cell_type": "markdown",
   "metadata": {},
   "source": [
    "Enter markdown here. "
   ]
  },
  {
   "cell_type": "markdown",
   "metadata": {},
   "source": [
    "### 5. Using your table of contents data, write a line of python to get the name of the second chapter of the first period.\n",
    "\n",
    "Your program should output \"Chapter II.\" "
   ]
  },
  {
   "cell_type": "code",
   "execution_count": 1,
   "metadata": {},
   "outputs": [],
   "source": [
    "# Enter code here. "
   ]
  },
  {
   "cell_type": "markdown",
   "metadata": {},
   "source": [
    "### 6. Write a little program that takes a name as user input, and checks whether it is in a list of *Moonstone* characters. \n",
    "\n",
    "Your character list doesn't have to be exhaustive. Here's a list you could use: \n",
    "\n",
    "```python\n",
    "characters = [\"Gabriel Betteredge\", \"Rachel Verinder\", \"Franklin Blake\", \"Rosanna Spearman\", \"Moonstone Diamond\"]\n",
    "```\n",
    "\n",
    "And here's what it would look like to run the program: \n",
    "\n",
    "```\n",
    "What's the name you want to check? Franklin\n",
    "Franklin Blake is a character in *The Moonstone*!\n",
    "\n",
    "What's the name you want to check? Jonathan\n",
    "Jonathan is not a character in *The Moonstone*!\n",
    "```\n",
    "\n",
    "Note that the program doesn't need to match a full name, but can match on the first name only.\n",
    "\n",
    "Hint: use the `input()` function to get user input, and then loop through each name in the list, checking whether the name starts with your input. "
   ]
  },
  {
   "cell_type": "code",
   "execution_count": 14,
   "metadata": {},
   "outputs": [
    {
     "name": "stdin",
     "output_type": "stream",
     "text": [
      "What's the name you want to check? jon\n"
     ]
    },
    {
     "name": "stdout",
     "output_type": "stream",
     "text": [
      "jon is not a character in *The Moonstone*!\n"
     ]
    }
   ],
   "source": [
    "characters = [\"Gabriel Betteredge\", \"Rachel Verinder\", \"Franklin Blake\", \"Rosanna Spearman\", \"Moonstone Diamond\"]\n",
    "\n",
    "answer = input(\"What's the name you want to check?\")\n",
    "\n",
    "success = False\n",
    "for character in characters: \n",
    "    if character.lower().startswith(answer): \n",
    "        print(f\"{answer} is a character is *The Moonstone!*\")\n",
    "        success = True\n",
    "\n",
    "if not success:\n",
    "    print(f\"{answer} is not a character in *The Moonstone*!\")"
   ]
  },
  {
   "cell_type": "markdown",
   "metadata": {},
   "source": [
    "### 7. Using the list of characters above, write some Python to print them out in a string like the one below. \n",
    "\n",
    "Your output should look like this: \n",
    "\n",
    "```\n",
    "Some characters in *The Moonstone* are: Gabriel Betteredge, Rachel Verinder, Franklin Blake, Rosanna Spearman, and Moonstone Diamond.\n",
    "```\n",
    "\n",
    "But it should work the same way, no matter the length or contents of the character list. So if you were to change your character list to just: \n",
    "\n",
    "```python\n",
    "characters = [\"Gabriel Betteredge\", \"Rachel Verinder\"]\n",
    "```\n",
    "\n",
    "It should then output: \n",
    "\n",
    "```\n",
    "Some characters in *The Moonstone* are: Gabriel Betteredge, and Rachel Verinder.\n",
    "```\n",
    "\n",
    "Note that before the final item in the series, there is the word \"and.\""
   ]
  },
  {
   "cell_type": "code",
   "execution_count": 21,
   "metadata": {},
   "outputs": [
    {
     "name": "stdout",
     "output_type": "stream",
     "text": [
      "Some characters in *The Moonstone* are Gabriel Betteredge, Rachel Verinder, Franklin Blake, Rosanna Spearman, and Moonstone Diamond\n"
     ]
    }
   ],
   "source": [
    "characters = [\"Gabriel Betteredge\", \"Rachel Verinder\", \"Franklin Blake\", \"Rosanna Spearman\", \"Moonstone Diamond\"]\n",
    "lastOne = characters.pop()\n",
    "charactersJoined = ', '.join(characters)\n",
    "print(f\"Some characters in *The Moonstone* are {charactersJoined}, and {lastOne}\")"
   ]
  },
  {
   "cell_type": "markdown",
   "metadata": {},
   "source": [
    "### 8. Write 1-2 paragraphs about something you notice happening in _The Moonstone_ that you think might be operationalized (i.e. tested using a computational analysis). \n",
    "\n",
    "And also, what do you think the results of the analysis will be? "
   ]
  },
  {
   "cell_type": "markdown",
   "metadata": {},
   "source": [
    "Enter markdown here. "
   ]
  }
 ],
 "metadata": {
  "kernelspec": {
   "display_name": "Python 3",
   "language": "python",
   "name": "python3"
  },
  "language_info": {
   "codemirror_mode": {
    "name": "ipython",
    "version": 3
   },
   "file_extension": ".py",
   "mimetype": "text/x-python",
   "name": "python",
   "nbconvert_exporter": "python",
   "pygments_lexer": "ipython3",
   "version": "3.7.7"
  }
 },
 "nbformat": 4,
 "nbformat_minor": 4
}
