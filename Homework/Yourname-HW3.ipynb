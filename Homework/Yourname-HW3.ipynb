{
 "cells": [
  {
   "cell_type": "markdown",
   "metadata": {},
   "source": [
    "# Homework 3\n",
    "\n",
    "## Your name here\n",
    "\n",
    "Instructions: \n",
    "\n",
    " 1. Please replace \"Yourname\" above, and in the title of this notebook. \n",
    " 2. Import all the libraries you end up using in the cell below. Please only use those libraries which we have used in class (i.e. nltk, collections, pandas, etc.). \n",
    " 3. Complete all the exercises, replacing \"enter code here\" with your code, and \"enter markdown here\" with your markdown. Annotate with comments (lines beginning with `#`) or with markdown cells, to show how you arrived at your answers.  \n",
    " 4. From the Kernel menu, select \"restart and run all.\" This will help me to see the output of your answers. \n",
    " 5. Email me your completed notebook: jonathan.reeve@columbia.edu\n"
   ]
  },
  {
   "cell_type": "code",
   "execution_count": 4,
   "metadata": {},
   "outputs": [],
   "source": [
    "# Import your libraries here. \n",
    "import nltk"
   ]
  },
  {
   "cell_type": "markdown",
   "metadata": {},
   "source": [
    "### 1. Find the longest word in _The Moonstone_. "
   ]
  },
  {
   "cell_type": "code",
   "execution_count": 3,
   "metadata": {},
   "outputs": [],
   "source": [
    "moonstone = open('../Texts/moonstone.md').read()"
   ]
  },
  {
   "cell_type": "code",
   "execution_count": 5,
   "metadata": {},
   "outputs": [],
   "source": [
    "moonstoneTokens = nltk.word_tokenize(moonstone)"
   ]
  },
  {
   "cell_type": "code",
   "execution_count": 7,
   "metadata": {},
   "outputs": [],
   "source": [
    "moonstoneTokensClean = [token for token in moonstoneTokens if token.isalpha()]"
   ]
  },
  {
   "cell_type": "code",
   "execution_count": 10,
   "metadata": {},
   "outputs": [],
   "source": [
    "longestLength = 0 \n",
    "longestWords = []\n",
    "for token in moonstoneTokensClean: \n",
    "    if len(token) > longestLength: \n",
    "        longestLength = len(token)\n",
    "        longestWords = [token]\n",
    "    if len(token) == longestLength:\n",
    "        longestWords.append(token)"
   ]
  },
  {
   "cell_type": "code",
   "execution_count": 12,
   "metadata": {},
   "outputs": [
    {
     "data": {
      "text/plain": [
       "{'misunderstandings'}"
      ]
     },
     "execution_count": 12,
     "metadata": {},
     "output_type": "execute_result"
    }
   ],
   "source": [
    "set(longestWords)"
   ]
  },
  {
   "cell_type": "markdown",
   "metadata": {},
   "source": [
    "### 2. Find the longest sentence in _The Moonstone_. Who is the speaker or narrator of that sentence? "
   ]
  },
  {
   "cell_type": "code",
   "execution_count": 4,
   "metadata": {},
   "outputs": [],
   "source": [
    "# Write your code here. "
   ]
  },
  {
   "cell_type": "markdown",
   "metadata": {},
   "source": [
    "### 3. Find the longest ngram in _The Moonstone_ that occurs at least twice. What you do notice about it? "
   ]
  },
  {
   "cell_type": "code",
   "execution_count": 5,
   "metadata": {},
   "outputs": [],
   "source": [
    "# Write your code here. "
   ]
  },
  {
   "cell_type": "markdown",
   "metadata": {},
   "source": [
    "### 4. Find a pattern, of 2-5 words, at least one of which is a part of speech, that occurs at least twice in _The Moonstone_. For example, you might look for JJS-NN (superlative - noun), very-JJ-NNP (\"very\" - adjective - proper noun), or '.'-CC (a period followed by a coordinating conjunction). What do you notice about your findings?"
   ]
  },
  {
   "cell_type": "markdown",
   "metadata": {},
   "source": [
    "Enter your markdown here. "
   ]
  },
  {
   "cell_type": "markdown",
   "metadata": {},
   "source": [
    "### 5. Write a couple paragraphs where you describe one or two ideas for a final project. What text(s) will you analyze? What technologies will you use? What literary questions do you hope to answer? This doesn't have to be your final decision. "
   ]
  },
  {
   "cell_type": "markdown",
   "metadata": {},
   "source": [
    "Enter your markdown here. "
   ]
  },
  {
   "cell_type": "markdown",
   "metadata": {},
   "source": [
    "### 6-8. Choose ONE of the following mini-projects to complete. Make sure that in each case, you discuss your results in well-formatted markdown. \n",
    "\n",
    "1. Make a big list of color words using WordNet, and then use that to find the predominant color of \"The Garden Party,\" in terms of color words. Then, in one paragraph, interpret your results in terms of the story. Make a visualization of your results. (You can get the colors right with something like pandas `DataFrame.plot(kind=\"pie\", colormap=\"your-colors-here\")`. You might have to read a little about how to use color maps.)\n",
    "\n",
    "2. Make a function to calculate the ratio of male pronouns to female pronouns. Then use that to test the male/female pronoun ratio of each narrator (you can treat Betteredge's two narratives as one). Create a chart with your results. \n",
    "\n",
    "3. Calculate how proportions of parts of speech are different for each narrator in _The Moonstone_. Do any narrators stand out in their usage of certain parts of speech? Discuss your results, and support your findings with a few examples from the text. Create a bar chart with your results. \n",
    "\n",
    "4. Categorize the nouns (or verbs, or another POS) of _The Moonstone_, by getting their WordNet hypernyms. (Hint: you can get more specific results than just \"entity\" by stopping at a pre-specified `max_depth` or `min_depth`.) Create a visualization with your results. \n",
    "\n",
    "5. Download a few more Collins novels, either manually or programmatically, using [corpus-db.org](http://corpus-db.org). What are the words that appear in _The Moonstone_ more than other novels of Collins's? (Be sure to use frequencies, rather than raw counts.) If you disregard proper names ('NNP' in terms of POS), what are the remaining distinctive words? \n",
    "\n"
   ]
  },
  {
   "cell_type": "code",
   "execution_count": 1,
   "metadata": {},
   "outputs": [],
   "source": [
    "# Write your code here. "
   ]
  },
  {
   "cell_type": "code",
   "execution_count": null,
   "metadata": {},
   "outputs": [],
   "source": []
  }
 ],
 "metadata": {
  "kernelspec": {
   "display_name": "Python 3",
   "language": "python",
   "name": "python3"
  },
  "language_info": {
   "codemirror_mode": {
    "name": "ipython",
    "version": 3
   },
   "file_extension": ".py",
   "mimetype": "text/x-python",
   "name": "python",
   "nbconvert_exporter": "python",
   "pygments_lexer": "ipython3",
   "version": "3.7.3"
  }
 },
 "nbformat": 4,
 "nbformat_minor": 2
}
