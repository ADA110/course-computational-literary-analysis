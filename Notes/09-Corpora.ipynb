{
 "cells": [
  {
   "cell_type": "markdown",
   "metadata": {},
   "source": [
    "# Corpora\n",
    "\n",
    "(Plural of corpus. A corpus is a collection of texts.)"
   ]
  },
  {
   "cell_type": "code",
   "execution_count": 42,
   "metadata": {},
   "outputs": [],
   "source": [
    "from nltk.corpus import brown\n",
    "from collections import Counter\n",
    "import pandas as pd\n",
    "from nltk import word_tokenize, pos_tag\n",
    "%matplotlib inline\n",
    "import matplotlib.pyplot as plt\n",
    "plt.rcParams['figure.figsize'] = [10, 5]"
   ]
  },
  {
   "cell_type": "markdown",
   "metadata": {},
   "source": [
    "## The Brown Corpus\n"
   ]
  },
  {
   "cell_type": "code",
   "execution_count": 3,
   "metadata": {},
   "outputs": [
    {
     "data": {
      "text/plain": [
       "['adventure',\n",
       " 'belles_lettres',\n",
       " 'editorial',\n",
       " 'fiction',\n",
       " 'government',\n",
       " 'hobbies',\n",
       " 'humor',\n",
       " 'learned',\n",
       " 'lore',\n",
       " 'mystery',\n",
       " 'news',\n",
       " 'religion',\n",
       " 'reviews',\n",
       " 'romance',\n",
       " 'science_fiction']"
      ]
     },
     "execution_count": 3,
     "metadata": {},
     "output_type": "execute_result"
    }
   ],
   "source": [
    "brown.categories()"
   ]
  },
  {
   "cell_type": "code",
   "execution_count": 7,
   "metadata": {},
   "outputs": [],
   "source": [
    "newsWords = brown.words(categories=['news'])\n",
    "scifiWords = brown.words(categories=['science_fiction'])"
   ]
  },
  {
   "cell_type": "code",
   "execution_count": 15,
   "metadata": {},
   "outputs": [],
   "source": [
    "newsWordsL = [word.lower() for word in newsWords]\n",
    "scifiWordsL = [word.lower() for word in scifiWords]"
   ]
  },
  {
   "cell_type": "code",
   "execution_count": 16,
   "metadata": {},
   "outputs": [],
   "source": [
    "newsCounts = Counter(newsWordsL)\n",
    "scifiCounts = Counter(scifiWordsL)"
   ]
  },
  {
   "cell_type": "code",
   "execution_count": 20,
   "metadata": {},
   "outputs": [
    {
     "data": {
      "text/plain": [
       "(100554, 14470)"
      ]
     },
     "execution_count": 20,
     "metadata": {},
     "output_type": "execute_result"
    }
   ],
   "source": [
    "len(newsWordsL), len(scifiWordsL)"
   ]
  },
  {
   "cell_type": "code",
   "execution_count": 21,
   "metadata": {},
   "outputs": [],
   "source": [
    "df = pd.DataFrame([newsCounts, scifiCounts], \n",
    "                  index=['news', 'scifi']).T.fillna(0)"
   ]
  },
  {
   "cell_type": "code",
   "execution_count": 22,
   "metadata": {},
   "outputs": [],
   "source": [
    "df['newsF'] = df['news']/len(newsWordsL)\n",
    "df['scifiF'] = df['scifi']/len(scifiWordsL)"
   ]
  },
  {
   "cell_type": "code",
   "execution_count": 24,
   "metadata": {},
   "outputs": [],
   "source": [
    "df['newsiness'] = df['newsF']- df['scifiF']"
   ]
  },
  {
   "cell_type": "code",
   "execution_count": 26,
   "metadata": {},
   "outputs": [
    {
     "data": {
      "text/html": [
       "<div>\n",
       "<style>\n",
       "    .dataframe thead tr:only-child th {\n",
       "        text-align: right;\n",
       "    }\n",
       "\n",
       "    .dataframe thead th {\n",
       "        text-align: left;\n",
       "    }\n",
       "\n",
       "    .dataframe tbody tr th {\n",
       "        vertical-align: top;\n",
       "    }\n",
       "</style>\n",
       "<table border=\"1\" class=\"dataframe\">\n",
       "  <thead>\n",
       "    <tr style=\"text-align: right;\">\n",
       "      <th></th>\n",
       "      <th>news</th>\n",
       "      <th>scifi</th>\n",
       "      <th>newsF</th>\n",
       "      <th>scifiF</th>\n",
       "      <th>newsiness</th>\n",
       "    </tr>\n",
       "  </thead>\n",
       "  <tbody>\n",
       "    <tr>\n",
       "      <th>the</th>\n",
       "      <td>6386.0</td>\n",
       "      <td>723.0</td>\n",
       "      <td>0.063508</td>\n",
       "      <td>0.049965</td>\n",
       "      <td>0.013543</td>\n",
       "    </tr>\n",
       "    <tr>\n",
       "      <th>in</th>\n",
       "      <td>2020.0</td>\n",
       "      <td>164.0</td>\n",
       "      <td>0.020089</td>\n",
       "      <td>0.011334</td>\n",
       "      <td>0.008755</td>\n",
       "    </tr>\n",
       "    <tr>\n",
       "      <th>of</th>\n",
       "      <td>2861.0</td>\n",
       "      <td>329.0</td>\n",
       "      <td>0.028452</td>\n",
       "      <td>0.022737</td>\n",
       "      <td>0.005716</td>\n",
       "    </tr>\n",
       "    <tr>\n",
       "      <th>a</th>\n",
       "      <td>2130.0</td>\n",
       "      <td>236.0</td>\n",
       "      <td>0.021183</td>\n",
       "      <td>0.016310</td>\n",
       "      <td>0.004873</td>\n",
       "    </tr>\n",
       "    <tr>\n",
       "      <th>is</th>\n",
       "      <td>733.0</td>\n",
       "      <td>50.0</td>\n",
       "      <td>0.007290</td>\n",
       "      <td>0.003455</td>\n",
       "      <td>0.003834</td>\n",
       "    </tr>\n",
       "    <tr>\n",
       "      <th>for</th>\n",
       "      <td>969.0</td>\n",
       "      <td>100.0</td>\n",
       "      <td>0.009637</td>\n",
       "      <td>0.006911</td>\n",
       "      <td>0.002726</td>\n",
       "    </tr>\n",
       "    <tr>\n",
       "      <th>will</th>\n",
       "      <td>389.0</td>\n",
       "      <td>17.0</td>\n",
       "      <td>0.003869</td>\n",
       "      <td>0.001175</td>\n",
       "      <td>0.002694</td>\n",
       "    </tr>\n",
       "    <tr>\n",
       "      <th>at</th>\n",
       "      <td>636.0</td>\n",
       "      <td>55.0</td>\n",
       "      <td>0.006325</td>\n",
       "      <td>0.003801</td>\n",
       "      <td>0.002524</td>\n",
       "    </tr>\n",
       "    <tr>\n",
       "      <th>by</th>\n",
       "      <td>504.0</td>\n",
       "      <td>37.0</td>\n",
       "      <td>0.005012</td>\n",
       "      <td>0.002557</td>\n",
       "      <td>0.002455</td>\n",
       "    </tr>\n",
       "    <tr>\n",
       "      <th>mrs.</th>\n",
       "      <td>253.0</td>\n",
       "      <td>1.0</td>\n",
       "      <td>0.002516</td>\n",
       "      <td>0.000069</td>\n",
       "      <td>0.002447</td>\n",
       "    </tr>\n",
       "    <tr>\n",
       "      <th>has</th>\n",
       "      <td>301.0</td>\n",
       "      <td>9.0</td>\n",
       "      <td>0.002993</td>\n",
       "      <td>0.000622</td>\n",
       "      <td>0.002371</td>\n",
       "    </tr>\n",
       "    <tr>\n",
       "      <th>new</th>\n",
       "      <td>241.0</td>\n",
       "      <td>9.0</td>\n",
       "      <td>0.002397</td>\n",
       "      <td>0.000622</td>\n",
       "      <td>0.001775</td>\n",
       "    </tr>\n",
       "    <tr>\n",
       "      <th>who</th>\n",
       "      <td>268.0</td>\n",
       "      <td>13.0</td>\n",
       "      <td>0.002665</td>\n",
       "      <td>0.000898</td>\n",
       "      <td>0.001767</td>\n",
       "    </tr>\n",
       "    <tr>\n",
       "      <th>mr.</th>\n",
       "      <td>170.0</td>\n",
       "      <td>1.0</td>\n",
       "      <td>0.001691</td>\n",
       "      <td>0.000069</td>\n",
       "      <td>0.001622</td>\n",
       "    </tr>\n",
       "    <tr>\n",
       "      <th>state</th>\n",
       "      <td>153.0</td>\n",
       "      <td>0.0</td>\n",
       "      <td>0.001522</td>\n",
       "      <td>0.000000</td>\n",
       "      <td>0.001522</td>\n",
       "    </tr>\n",
       "    <tr>\n",
       "      <th>are</th>\n",
       "      <td>330.0</td>\n",
       "      <td>26.0</td>\n",
       "      <td>0.003282</td>\n",
       "      <td>0.001797</td>\n",
       "      <td>0.001485</td>\n",
       "    </tr>\n",
       "    <tr>\n",
       "      <th>and</th>\n",
       "      <td>2186.0</td>\n",
       "      <td>294.0</td>\n",
       "      <td>0.021740</td>\n",
       "      <td>0.020318</td>\n",
       "      <td>0.001422</td>\n",
       "    </tr>\n",
       "    <tr>\n",
       "      <th>president</th>\n",
       "      <td>142.0</td>\n",
       "      <td>1.0</td>\n",
       "      <td>0.001412</td>\n",
       "      <td>0.000069</td>\n",
       "      <td>0.001343</td>\n",
       "    </tr>\n",
       "    <tr>\n",
       "      <th>year</th>\n",
       "      <td>142.0</td>\n",
       "      <td>2.0</td>\n",
       "      <td>0.001412</td>\n",
       "      <td>0.000138</td>\n",
       "      <td>0.001274</td>\n",
       "    </tr>\n",
       "    <tr>\n",
       "      <th>)</th>\n",
       "      <td>171.0</td>\n",
       "      <td>8.0</td>\n",
       "      <td>0.001701</td>\n",
       "      <td>0.000553</td>\n",
       "      <td>0.001148</td>\n",
       "    </tr>\n",
       "    <tr>\n",
       "      <th>also</th>\n",
       "      <td>129.0</td>\n",
       "      <td>2.0</td>\n",
       "      <td>0.001283</td>\n",
       "      <td>0.000138</td>\n",
       "      <td>0.001145</td>\n",
       "    </tr>\n",
       "    <tr>\n",
       "      <th>(</th>\n",
       "      <td>168.0</td>\n",
       "      <td>8.0</td>\n",
       "      <td>0.001671</td>\n",
       "      <td>0.000553</td>\n",
       "      <td>0.001118</td>\n",
       "    </tr>\n",
       "    <tr>\n",
       "      <th>home</th>\n",
       "      <td>132.0</td>\n",
       "      <td>3.0</td>\n",
       "      <td>0.001313</td>\n",
       "      <td>0.000207</td>\n",
       "      <td>0.001105</td>\n",
       "    </tr>\n",
       "    <tr>\n",
       "      <th>two</th>\n",
       "      <td>174.0</td>\n",
       "      <td>10.0</td>\n",
       "      <td>0.001730</td>\n",
       "      <td>0.000691</td>\n",
       "      <td>0.001039</td>\n",
       "    </tr>\n",
       "    <tr>\n",
       "      <th>house</th>\n",
       "      <td>97.0</td>\n",
       "      <td>0.0</td>\n",
       "      <td>0.000965</td>\n",
       "      <td>0.000000</td>\n",
       "      <td>0.000965</td>\n",
       "    </tr>\n",
       "    <tr>\n",
       "      <th>last</th>\n",
       "      <td>177.0</td>\n",
       "      <td>12.0</td>\n",
       "      <td>0.001760</td>\n",
       "      <td>0.000829</td>\n",
       "      <td>0.000931</td>\n",
       "    </tr>\n",
       "    <tr>\n",
       "      <th>said</th>\n",
       "      <td>406.0</td>\n",
       "      <td>45.0</td>\n",
       "      <td>0.004038</td>\n",
       "      <td>0.003110</td>\n",
       "      <td>0.000928</td>\n",
       "    </tr>\n",
       "    <tr>\n",
       "      <th>week</th>\n",
       "      <td>94.0</td>\n",
       "      <td>1.0</td>\n",
       "      <td>0.000935</td>\n",
       "      <td>0.000069</td>\n",
       "      <td>0.000866</td>\n",
       "    </tr>\n",
       "    <tr>\n",
       "      <th>city</th>\n",
       "      <td>93.0</td>\n",
       "      <td>1.0</td>\n",
       "      <td>0.000925</td>\n",
       "      <td>0.000069</td>\n",
       "      <td>0.000856</td>\n",
       "    </tr>\n",
       "    <tr>\n",
       "      <th>an</th>\n",
       "      <td>311.0</td>\n",
       "      <td>33.0</td>\n",
       "      <td>0.003093</td>\n",
       "      <td>0.002281</td>\n",
       "      <td>0.000812</td>\n",
       "    </tr>\n",
       "    <tr>\n",
       "      <th>...</th>\n",
       "      <td>...</td>\n",
       "      <td>...</td>\n",
       "      <td>...</td>\n",
       "      <td>...</td>\n",
       "      <td>...</td>\n",
       "    </tr>\n",
       "    <tr>\n",
       "      <th>helva</th>\n",
       "      <td>0.0</td>\n",
       "      <td>26.0</td>\n",
       "      <td>0.000000</td>\n",
       "      <td>0.001797</td>\n",
       "      <td>-0.001797</td>\n",
       "    </tr>\n",
       "    <tr>\n",
       "      <th>ekstrohm</th>\n",
       "      <td>0.0</td>\n",
       "      <td>26.0</td>\n",
       "      <td>0.000000</td>\n",
       "      <td>0.001797</td>\n",
       "      <td>-0.001797</td>\n",
       "    </tr>\n",
       "    <tr>\n",
       "      <th>what</th>\n",
       "      <td>95.0</td>\n",
       "      <td>41.0</td>\n",
       "      <td>0.000945</td>\n",
       "      <td>0.002833</td>\n",
       "      <td>-0.001889</td>\n",
       "    </tr>\n",
       "    <tr>\n",
       "      <th>they</th>\n",
       "      <td>267.0</td>\n",
       "      <td>67.0</td>\n",
       "      <td>0.002655</td>\n",
       "      <td>0.004630</td>\n",
       "      <td>-0.001975</td>\n",
       "    </tr>\n",
       "    <tr>\n",
       "      <th>did</th>\n",
       "      <td>64.0</td>\n",
       "      <td>38.0</td>\n",
       "      <td>0.000636</td>\n",
       "      <td>0.002626</td>\n",
       "      <td>-0.001990</td>\n",
       "    </tr>\n",
       "    <tr>\n",
       "      <th>we</th>\n",
       "      <td>107.0</td>\n",
       "      <td>45.0</td>\n",
       "      <td>0.001064</td>\n",
       "      <td>0.003110</td>\n",
       "      <td>-0.002046</td>\n",
       "    </tr>\n",
       "    <tr>\n",
       "      <th>them</th>\n",
       "      <td>96.0</td>\n",
       "      <td>47.0</td>\n",
       "      <td>0.000955</td>\n",
       "      <td>0.003248</td>\n",
       "      <td>-0.002293</td>\n",
       "    </tr>\n",
       "    <tr>\n",
       "      <th>could</th>\n",
       "      <td>87.0</td>\n",
       "      <td>49.0</td>\n",
       "      <td>0.000865</td>\n",
       "      <td>0.003386</td>\n",
       "      <td>-0.002521</td>\n",
       "    </tr>\n",
       "    <tr>\n",
       "      <th>all</th>\n",
       "      <td>181.0</td>\n",
       "      <td>66.0</td>\n",
       "      <td>0.001800</td>\n",
       "      <td>0.004561</td>\n",
       "      <td>-0.002761</td>\n",
       "    </tr>\n",
       "    <tr>\n",
       "      <th>his</th>\n",
       "      <td>428.0</td>\n",
       "      <td>102.0</td>\n",
       "      <td>0.004256</td>\n",
       "      <td>0.007049</td>\n",
       "      <td>-0.002793</td>\n",
       "    </tr>\n",
       "    <tr>\n",
       "      <th>!</th>\n",
       "      <td>38.0</td>\n",
       "      <td>46.0</td>\n",
       "      <td>0.000378</td>\n",
       "      <td>0.003179</td>\n",
       "      <td>-0.002801</td>\n",
       "    </tr>\n",
       "    <tr>\n",
       "      <th>;</th>\n",
       "      <td>314.0</td>\n",
       "      <td>88.0</td>\n",
       "      <td>0.003123</td>\n",
       "      <td>0.006082</td>\n",
       "      <td>-0.002959</td>\n",
       "    </tr>\n",
       "    <tr>\n",
       "      <th>,</th>\n",
       "      <td>5188.0</td>\n",
       "      <td>791.0</td>\n",
       "      <td>0.051594</td>\n",
       "      <td>0.054665</td>\n",
       "      <td>-0.003071</td>\n",
       "    </tr>\n",
       "    <tr>\n",
       "      <th>would</th>\n",
       "      <td>246.0</td>\n",
       "      <td>80.0</td>\n",
       "      <td>0.002446</td>\n",
       "      <td>0.005529</td>\n",
       "      <td>-0.003082</td>\n",
       "    </tr>\n",
       "    <tr>\n",
       "      <th>him</th>\n",
       "      <td>93.0</td>\n",
       "      <td>58.0</td>\n",
       "      <td>0.000925</td>\n",
       "      <td>0.004008</td>\n",
       "      <td>-0.003083</td>\n",
       "    </tr>\n",
       "    <tr>\n",
       "      <th>no</th>\n",
       "      <td>120.0</td>\n",
       "      <td>62.0</td>\n",
       "      <td>0.001193</td>\n",
       "      <td>0.004285</td>\n",
       "      <td>-0.003091</td>\n",
       "    </tr>\n",
       "    <tr>\n",
       "      <th>she</th>\n",
       "      <td>77.0</td>\n",
       "      <td>59.0</td>\n",
       "      <td>0.000766</td>\n",
       "      <td>0.004077</td>\n",
       "      <td>-0.003312</td>\n",
       "    </tr>\n",
       "    <tr>\n",
       "      <th>but</th>\n",
       "      <td>283.0</td>\n",
       "      <td>89.0</td>\n",
       "      <td>0.002814</td>\n",
       "      <td>0.006151</td>\n",
       "      <td>-0.003336</td>\n",
       "    </tr>\n",
       "    <tr>\n",
       "      <th>not</th>\n",
       "      <td>257.0</td>\n",
       "      <td>95.0</td>\n",
       "      <td>0.002556</td>\n",
       "      <td>0.006565</td>\n",
       "      <td>-0.004009</td>\n",
       "    </tr>\n",
       "    <tr>\n",
       "      <th>her</th>\n",
       "      <td>121.0</td>\n",
       "      <td>82.0</td>\n",
       "      <td>0.001203</td>\n",
       "      <td>0.005667</td>\n",
       "      <td>-0.004464</td>\n",
       "    </tr>\n",
       "    <tr>\n",
       "      <th>i</th>\n",
       "      <td>179.0</td>\n",
       "      <td>98.0</td>\n",
       "      <td>0.001780</td>\n",
       "      <td>0.006773</td>\n",
       "      <td>-0.004992</td>\n",
       "    </tr>\n",
       "    <tr>\n",
       "      <th>you</th>\n",
       "      <td>66.0</td>\n",
       "      <td>96.0</td>\n",
       "      <td>0.000656</td>\n",
       "      <td>0.006634</td>\n",
       "      <td>-0.005978</td>\n",
       "    </tr>\n",
       "    <tr>\n",
       "      <th>it</th>\n",
       "      <td>478.0</td>\n",
       "      <td>158.0</td>\n",
       "      <td>0.004754</td>\n",
       "      <td>0.010919</td>\n",
       "      <td>-0.006165</td>\n",
       "    </tr>\n",
       "    <tr>\n",
       "      <th>was</th>\n",
       "      <td>717.0</td>\n",
       "      <td>200.0</td>\n",
       "      <td>0.007130</td>\n",
       "      <td>0.013822</td>\n",
       "      <td>-0.006691</td>\n",
       "    </tr>\n",
       "    <tr>\n",
       "      <th>he</th>\n",
       "      <td>642.0</td>\n",
       "      <td>191.0</td>\n",
       "      <td>0.006385</td>\n",
       "      <td>0.013200</td>\n",
       "      <td>-0.006815</td>\n",
       "    </tr>\n",
       "    <tr>\n",
       "      <th>had</th>\n",
       "      <td>281.0</td>\n",
       "      <td>143.0</td>\n",
       "      <td>0.002795</td>\n",
       "      <td>0.009883</td>\n",
       "      <td>-0.007088</td>\n",
       "    </tr>\n",
       "    <tr>\n",
       "      <th>``</th>\n",
       "      <td>732.0</td>\n",
       "      <td>235.0</td>\n",
       "      <td>0.007280</td>\n",
       "      <td>0.016240</td>\n",
       "      <td>-0.008961</td>\n",
       "    </tr>\n",
       "    <tr>\n",
       "      <th>''</th>\n",
       "      <td>702.0</td>\n",
       "      <td>235.0</td>\n",
       "      <td>0.006981</td>\n",
       "      <td>0.016240</td>\n",
       "      <td>-0.009259</td>\n",
       "    </tr>\n",
       "    <tr>\n",
       "      <th>?</th>\n",
       "      <td>90.0</td>\n",
       "      <td>158.0</td>\n",
       "      <td>0.000895</td>\n",
       "      <td>0.010919</td>\n",
       "      <td>-0.010024</td>\n",
       "    </tr>\n",
       "    <tr>\n",
       "      <th>.</th>\n",
       "      <td>4030.0</td>\n",
       "      <td>786.0</td>\n",
       "      <td>0.040078</td>\n",
       "      <td>0.054319</td>\n",
       "      <td>-0.014241</td>\n",
       "    </tr>\n",
       "  </tbody>\n",
       "</table>\n",
       "<p>14227 rows × 5 columns</p>\n",
       "</div>"
      ],
      "text/plain": [
       "             news  scifi     newsF    scifiF  newsiness\n",
       "the        6386.0  723.0  0.063508  0.049965   0.013543\n",
       "in         2020.0  164.0  0.020089  0.011334   0.008755\n",
       "of         2861.0  329.0  0.028452  0.022737   0.005716\n",
       "a          2130.0  236.0  0.021183  0.016310   0.004873\n",
       "is          733.0   50.0  0.007290  0.003455   0.003834\n",
       "for         969.0  100.0  0.009637  0.006911   0.002726\n",
       "will        389.0   17.0  0.003869  0.001175   0.002694\n",
       "at          636.0   55.0  0.006325  0.003801   0.002524\n",
       "by          504.0   37.0  0.005012  0.002557   0.002455\n",
       "mrs.        253.0    1.0  0.002516  0.000069   0.002447\n",
       "has         301.0    9.0  0.002993  0.000622   0.002371\n",
       "new         241.0    9.0  0.002397  0.000622   0.001775\n",
       "who         268.0   13.0  0.002665  0.000898   0.001767\n",
       "mr.         170.0    1.0  0.001691  0.000069   0.001622\n",
       "state       153.0    0.0  0.001522  0.000000   0.001522\n",
       "are         330.0   26.0  0.003282  0.001797   0.001485\n",
       "and        2186.0  294.0  0.021740  0.020318   0.001422\n",
       "president   142.0    1.0  0.001412  0.000069   0.001343\n",
       "year        142.0    2.0  0.001412  0.000138   0.001274\n",
       ")           171.0    8.0  0.001701  0.000553   0.001148\n",
       "also        129.0    2.0  0.001283  0.000138   0.001145\n",
       "(           168.0    8.0  0.001671  0.000553   0.001118\n",
       "home        132.0    3.0  0.001313  0.000207   0.001105\n",
       "two         174.0   10.0  0.001730  0.000691   0.001039\n",
       "house        97.0    0.0  0.000965  0.000000   0.000965\n",
       "last        177.0   12.0  0.001760  0.000829   0.000931\n",
       "said        406.0   45.0  0.004038  0.003110   0.000928\n",
       "week         94.0    1.0  0.000935  0.000069   0.000866\n",
       "city         93.0    1.0  0.000925  0.000069   0.000856\n",
       "an          311.0   33.0  0.003093  0.002281   0.000812\n",
       "...           ...    ...       ...       ...        ...\n",
       "helva         0.0   26.0  0.000000  0.001797  -0.001797\n",
       "ekstrohm      0.0   26.0  0.000000  0.001797  -0.001797\n",
       "what         95.0   41.0  0.000945  0.002833  -0.001889\n",
       "they        267.0   67.0  0.002655  0.004630  -0.001975\n",
       "did          64.0   38.0  0.000636  0.002626  -0.001990\n",
       "we          107.0   45.0  0.001064  0.003110  -0.002046\n",
       "them         96.0   47.0  0.000955  0.003248  -0.002293\n",
       "could        87.0   49.0  0.000865  0.003386  -0.002521\n",
       "all         181.0   66.0  0.001800  0.004561  -0.002761\n",
       "his         428.0  102.0  0.004256  0.007049  -0.002793\n",
       "!            38.0   46.0  0.000378  0.003179  -0.002801\n",
       ";           314.0   88.0  0.003123  0.006082  -0.002959\n",
       ",          5188.0  791.0  0.051594  0.054665  -0.003071\n",
       "would       246.0   80.0  0.002446  0.005529  -0.003082\n",
       "him          93.0   58.0  0.000925  0.004008  -0.003083\n",
       "no          120.0   62.0  0.001193  0.004285  -0.003091\n",
       "she          77.0   59.0  0.000766  0.004077  -0.003312\n",
       "but         283.0   89.0  0.002814  0.006151  -0.003336\n",
       "not         257.0   95.0  0.002556  0.006565  -0.004009\n",
       "her         121.0   82.0  0.001203  0.005667  -0.004464\n",
       "i           179.0   98.0  0.001780  0.006773  -0.004992\n",
       "you          66.0   96.0  0.000656  0.006634  -0.005978\n",
       "it          478.0  158.0  0.004754  0.010919  -0.006165\n",
       "was         717.0  200.0  0.007130  0.013822  -0.006691\n",
       "he          642.0  191.0  0.006385  0.013200  -0.006815\n",
       "had         281.0  143.0  0.002795  0.009883  -0.007088\n",
       "``          732.0  235.0  0.007280  0.016240  -0.008961\n",
       "''          702.0  235.0  0.006981  0.016240  -0.009259\n",
       "?            90.0  158.0  0.000895  0.010919  -0.010024\n",
       ".          4030.0  786.0  0.040078  0.054319  -0.014241\n",
       "\n",
       "[14227 rows x 5 columns]"
      ]
     },
     "execution_count": 26,
     "metadata": {},
     "output_type": "execute_result"
    }
   ],
   "source": [
    "df.sort_values('newsiness', ascending=False)"
   ]
  },
  {
   "cell_type": "code",
   "execution_count": 28,
   "metadata": {},
   "outputs": [],
   "source": [
    "newsPOS = pos_tag(newsWordsL)\n",
    "scifiPOS = pos_tag(scifiWordsL)"
   ]
  },
  {
   "cell_type": "code",
   "execution_count": 29,
   "metadata": {},
   "outputs": [
    {
     "data": {
      "text/plain": [
       "('the', 'DT')"
      ]
     },
     "execution_count": 29,
     "metadata": {},
     "output_type": "execute_result"
    }
   ],
   "source": [
    "newsPOS[0]"
   ]
  },
  {
   "cell_type": "code",
   "execution_count": 30,
   "metadata": {},
   "outputs": [],
   "source": [
    "newsP = [pair[1] for pair in newsPOS]\n",
    "scifiP = [pair[1] for pair in scifiPOS]"
   ]
  },
  {
   "cell_type": "code",
   "execution_count": 31,
   "metadata": {},
   "outputs": [
    {
     "data": {
      "text/plain": [
       "['DT',\n",
       " 'NN',\n",
       " 'NN',\n",
       " 'JJ',\n",
       " 'NN',\n",
       " 'VBD',\n",
       " 'PDT',\n",
       " 'DT',\n",
       " 'NN',\n",
       " 'IN',\n",
       " 'JJ',\n",
       " 'JJ',\n",
       " 'JJ',\n",
       " 'NN',\n",
       " 'VBD',\n",
       " '``',\n",
       " 'DT',\n",
       " 'NN',\n",
       " \"''\",\n",
       " 'IN']"
      ]
     },
     "execution_count": 31,
     "metadata": {},
     "output_type": "execute_result"
    }
   ],
   "source": [
    "newsP[:20]"
   ]
  },
  {
   "cell_type": "code",
   "execution_count": 32,
   "metadata": {},
   "outputs": [],
   "source": [
    "newsPOSCounts = Counter(newsP)\n",
    "scifiPOSCounts = Counter(scifiP)"
   ]
  },
  {
   "cell_type": "code",
   "execution_count": 34,
   "metadata": {},
   "outputs": [
    {
     "data": {
      "text/html": [
       "<div>\n",
       "<style>\n",
       "    .dataframe thead tr:only-child th {\n",
       "        text-align: right;\n",
       "    }\n",
       "\n",
       "    .dataframe thead th {\n",
       "        text-align: left;\n",
       "    }\n",
       "\n",
       "    .dataframe tbody tr th {\n",
       "        vertical-align: top;\n",
       "    }\n",
       "</style>\n",
       "<table border=\"1\" class=\"dataframe\">\n",
       "  <thead>\n",
       "    <tr style=\"text-align: right;\">\n",
       "      <th></th>\n",
       "      <th>$</th>\n",
       "      <th>''</th>\n",
       "      <th>(</th>\n",
       "      <th>)</th>\n",
       "      <th>,</th>\n",
       "      <th>.</th>\n",
       "      <th>:</th>\n",
       "      <th>CC</th>\n",
       "      <th>CD</th>\n",
       "      <th>DT</th>\n",
       "      <th>...</th>\n",
       "      <th>VBD</th>\n",
       "      <th>VBG</th>\n",
       "      <th>VBN</th>\n",
       "      <th>VBP</th>\n",
       "      <th>VBZ</th>\n",
       "      <th>WDT</th>\n",
       "      <th>WP</th>\n",
       "      <th>WP$</th>\n",
       "      <th>WRB</th>\n",
       "      <th>``</th>\n",
       "    </tr>\n",
       "  </thead>\n",
       "  <tbody>\n",
       "    <tr>\n",
       "      <th>news</th>\n",
       "      <td>1.0</td>\n",
       "      <td>735</td>\n",
       "      <td>168</td>\n",
       "      <td>171</td>\n",
       "      <td>5188</td>\n",
       "      <td>4158</td>\n",
       "      <td>763</td>\n",
       "      <td>2752</td>\n",
       "      <td>2197</td>\n",
       "      <td>10101</td>\n",
       "      <td>...</td>\n",
       "      <td>3900</td>\n",
       "      <td>1388</td>\n",
       "      <td>2308</td>\n",
       "      <td>1157</td>\n",
       "      <td>1677</td>\n",
       "      <td>394</td>\n",
       "      <td>377</td>\n",
       "      <td>22</td>\n",
       "      <td>288</td>\n",
       "      <td>732</td>\n",
       "    </tr>\n",
       "    <tr>\n",
       "      <th>scifi</th>\n",
       "      <td>NaN</td>\n",
       "      <td>245</td>\n",
       "      <td>8</td>\n",
       "      <td>8</td>\n",
       "      <td>791</td>\n",
       "      <td>990</td>\n",
       "      <td>150</td>\n",
       "      <td>425</td>\n",
       "      <td>69</td>\n",
       "      <td>1277</td>\n",
       "      <td>...</td>\n",
       "      <td>940</td>\n",
       "      <td>201</td>\n",
       "      <td>345</td>\n",
       "      <td>195</td>\n",
       "      <td>106</td>\n",
       "      <td>54</td>\n",
       "      <td>57</td>\n",
       "      <td>3</td>\n",
       "      <td>68</td>\n",
       "      <td>235</td>\n",
       "    </tr>\n",
       "  </tbody>\n",
       "</table>\n",
       "<p>2 rows × 42 columns</p>\n",
       "</div>"
      ],
      "text/plain": [
       "         $   ''    (    )     ,     .    :    CC    CD     DT ...    VBD  \\\n",
       "news   1.0  735  168  171  5188  4158  763  2752  2197  10101 ...   3900   \n",
       "scifi  NaN  245    8    8   791   990  150   425    69   1277 ...    940   \n",
       "\n",
       "        VBG   VBN   VBP   VBZ  WDT   WP  WP$  WRB   ``  \n",
       "news   1388  2308  1157  1677  394  377   22  288  732  \n",
       "scifi   201   345   195   106   54   57    3   68  235  \n",
       "\n",
       "[2 rows x 42 columns]"
      ]
     },
     "execution_count": 34,
     "metadata": {},
     "output_type": "execute_result"
    }
   ],
   "source": [
    "df = pd.DataFrame([newsPOSCounts, scifiPOSCounts], \n",
    "             index=['news', 'scifi'])\n",
    "df"
   ]
  },
  {
   "cell_type": "code",
   "execution_count": 35,
   "metadata": {},
   "outputs": [],
   "source": [
    "df = df.fillna(0).T"
   ]
  },
  {
   "cell_type": "code",
   "execution_count": 38,
   "metadata": {},
   "outputs": [],
   "source": [
    "df['newsF'] = df['news'] / len(newsWordsL)\n",
    "df['scifiF'] = df['scifi'] / len(scifiWordsL)"
   ]
  },
  {
   "cell_type": "code",
   "execution_count": 43,
   "metadata": {},
   "outputs": [
    {
     "data": {
      "text/plain": [
       "<matplotlib.axes._subplots.AxesSubplot at 0x7f07ac162e48>"
      ]
     },
     "execution_count": 43,
     "metadata": {},
     "output_type": "execute_result"
    },
    {
     "data": {
      "image/png": "[encoded data removed]",
      "text/plain": [
       "<matplotlib.figure.Figure at 0x7f07ac22ac18>"
      ]
     },
     "metadata": {},
     "output_type": "display_data"
    }
   ],
   "source": [
    "df[['newsF', 'scifiF']].plot(kind='bar')"
   ]
  },
  {
   "cell_type": "markdown",
   "metadata": {},
   "source": [
    "## Corpus DB\n",
    "\n",
    "You can use my API, Corpus-DB, to easily extract metadata and full text from Project Gutenberg. For example, to get Wilkie Collins novels, you can run something like this. First, import the API interface module `requests` and the JSON parsing module, `json`. (Remember, this is bad practice. Always put your import statements in the first or second cell when you're doing this yourself.)"
   ]
  },
  {
   "cell_type": "code",
   "execution_count": 51,
   "metadata": {},
   "outputs": [],
   "source": [
    "import requests\n",
    "import json"
   ]
  },
  {
   "cell_type": "markdown",
   "metadata": {},
   "source": [
    "Then request metadata from corpus-db: "
   ]
  },
  {
   "cell_type": "code",
   "execution_count": 48,
   "metadata": {},
   "outputs": [],
   "source": [
    "response = requests.get('http://corpus-db.org/api/author/Collins, Wilkie')"
   ]
  },
  {
   "cell_type": "markdown",
   "metadata": {},
   "source": [
    "Verify that the request returned OK: "
   ]
  },
  {
   "cell_type": "code",
   "execution_count": 50,
   "metadata": {},
   "outputs": [
    {
     "data": {
      "text/plain": [
       "True"
      ]
     },
     "execution_count": 50,
     "metadata": {},
     "output_type": "execute_result"
    }
   ],
   "source": [
    "response.ok"
   ]
  },
  {
   "cell_type": "markdown",
   "metadata": {},
   "source": [
    "Parse the response (i.e. the metadata as JSON): "
   ]
  },
  {
   "cell_type": "code",
   "execution_count": 52,
   "metadata": {},
   "outputs": [],
   "source": [
    "parsed = json.loads(response.text)"
   ]
  },
  {
   "cell_type": "markdown",
   "metadata": {},
   "source": [
    "Then look at the titles we got: "
   ]
  },
  {
   "cell_type": "code",
   "execution_count": 56,
   "metadata": {},
   "outputs": [
    {
     "data": {
      "text/plain": [
       "['The Moonstone',\n",
       " 'The Haunted Hotel: A Mystery of Modern Venice',\n",
       " 'The Woman in White',\n",
       " 'No Name',\n",
       " 'Man and Wife',\n",
       " 'The Black Robe',\n",
       " \"A Rogue's Life\",\n",
       " 'Miss or Mrs.?',\n",
       " 'The Law and the Lady',\n",
       " 'The New Magdalen',\n",
       " 'The Two Destinies',\n",
       " 'The Frozen Deep',\n",
       " 'After Dark',\n",
       " 'The Evil Genius: A Domestic Story',\n",
       " \"My Lady's Money\",\n",
       " '\"I Say No\"',\n",
       " 'Little Novels',\n",
       " 'Armadale',\n",
       " 'The Queen of Hearts',\n",
       " 'The Legacy of Cain',\n",
       " 'A Fair Penitent',\n",
       " 'Antonina; Or, The Fall of Rome',\n",
       " 'Poor Miss Finch',\n",
       " \"Jezebel's Daughter\",\n",
       " 'The Guilty River',\n",
       " 'Basil',\n",
       " 'Blind Love',\n",
       " 'The Dead Alive',\n",
       " 'Heart and Science: A Story of the Present Time',\n",
       " 'Hide and Seek',\n",
       " 'The Fallen Leaves',\n",
       " \"L'hôtel hanté\",\n",
       " 'John Jagon henki tahi kuollutko vai elävä?',\n",
       " 'Ilman menestyksettä: Joulukertomus',\n",
       " 'Sisar Rosa',\n",
       " 'Rambles Beyond Railways; or, Notes in Cornwall taken A-foot',\n",
       " 'Kamala yösija',\n",
       " 'The Dead Secret: A Novel',\n",
       " 'My Miscellanies, Vol. 1 (of 2)',\n",
       " 'My Miscellanies, Vol. 2 (of 2)',\n",
       " 'Valkopukuinen nainen I: Perheromaani',\n",
       " 'Valkopukuinen nainen II: Perheromaani']"
      ]
     },
     "execution_count": 56,
     "metadata": {},
     "output_type": "execute_result"
    }
   ],
   "source": [
    "[item['title'] for item in parsed]"
   ]
  },
  {
   "cell_type": "markdown",
   "metadata": {},
   "source": [
    "Cool. Maybe we just need only the first 10 or so, though. Get the IDs of the first 10: "
   ]
  },
  {
   "cell_type": "code",
   "execution_count": 66,
   "metadata": {},
   "outputs": [],
   "source": [
    "first10Collins = [item['id'] for item in parsed[:10]]"
   ]
  },
  {
   "cell_type": "markdown",
   "metadata": {},
   "source": [
    "Now for each of these IDs, we'll get the full text from corpus-db, like this: "
   ]
  },
  {
   "cell_type": "code",
   "execution_count": 63,
   "metadata": {},
   "outputs": [],
   "source": [
    "def getFullText(bookID): \n",
    "    response = requests.get('http://corpus-db.org/api/id/' + bookID + '/fulltext')\n",
    "    if response.ok: \n",
    "        print('Got full text for ' + bookID)\n",
    "        parsed = json.loads(response.text)\n",
    "        if len(parsed)>0 and 'text' in parsed[0]: \n",
    "            return parsed[0]['text']\n",
    "    else: \n",
    "        print('Response came back bad: ' + response.status)"
   ]
  },
  {
   "cell_type": "code",
   "execution_count": 64,
   "metadata": {},
   "outputs": [
    {
     "name": "stdout",
     "output_type": "stream",
     "text": [
      "Got full text for 155.0\n"
     ]
    }
   ],
   "source": [
    "moonstoneResponse = getFullText('155.0')"
   ]
  },
  {
   "cell_type": "code",
   "execution_count": 65,
   "metadata": {},
   "outputs": [
    {
     "data": {
      "text/plain": [
       "'\\n\\n\\n\\n\\n\\n\\nTHE MOONSTONE\\n\\nA Romanc'"
      ]
     },
     "execution_count": 65,
     "metadata": {},
     "output_type": "execute_result"
    }
   ],
   "source": [
    "moonstoneResponse[:30]"
   ]
  },
  {
   "cell_type": "code",
   "execution_count": 67,
   "metadata": {},
   "outputs": [
    {
     "name": "stdout",
     "output_type": "stream",
     "text": [
      "Got full text for 155.0\n",
      "Got full text for 170.0\n",
      "Got full text for 583.0\n",
      "Got full text for 1438.0\n",
      "Got full text for 1586.0\n",
      "Got full text for 1587.0\n",
      "Got full text for 1588.0\n",
      "Got full text for 1621.0\n",
      "Got full text for 1622.0\n",
      "Got full text for 1623.0\n"
     ]
    }
   ],
   "source": [
    "collinsTexts = [getFullText(bookID) for bookID in first10Collins]"
   ]
  },
  {
   "cell_type": "markdown",
   "metadata": {},
   "source": [
    "Now we can verify that we have the full text of the first 10 Collins works:"
   ]
  },
  {
   "cell_type": "code",
   "execution_count": 70,
   "metadata": {},
   "outputs": [
    {
     "data": {
      "text/plain": [
       "['THE MOONSTONE\\n\\nA Romance\\n\\nby Wilkie Collins\\n\\n\\n\\n\\nPROLOGUE\\n\\nTHE STORMING OF SERINGAPATAM (1799)',\n",
       " 'THE HAUNTED HOTEL\\n\\nA Mystery of Modern Venice\\n\\n\\nby\\n\\nWilkie Collins (1824-1889)\\n\\n\\n\\n(aft',\n",
       " 'The Woman in White\\n\\n\\nby\\n\\nWilkie Collins\\n\\n\\n\\n\\nCONTENTS\\n\\nFirst Epoch\\n\\n  THE STORY BEGUN BY',\n",
       " 'NO NAME\\n\\n\\nby Wilkie Collins\\n\\n\\n     [editorial note: italics are indicated by the underscore',\n",
       " 'MAN AND WIFE\\n\\nby Wilkie Collins\\n\\n\\n\\n\\nPROLOGUE.--THE IRISH MARRIAGE.\\n\\n\\n\\nPart the First.\\n\\n\\n\\nTHE VI',\n",
       " 'THE BLACK ROBE\\n\\nby Wilkie Collins\\n\\n\\n\\n\\nBEFORE THE STORY.\\n\\n\\n\\n\\nFIRST SCENE.--BOULOGNE-SUR-MER.--TH',\n",
       " \"A ROGUE'S LIFE\\n\\nby Wilkie Collins\\n\\n\\n\\n\\nINTRODUCTORY WORDS.\\n\\nThe following pages were written mor\",\n",
       " 'MISS OR MRS.?\\n\\nby Wilkie Collins\\n\\n\\n\\n\\nPERSONS OF THE STORY.\\n\\n     Sir Joseph Graybrooke. . . . .',\n",
       " 'THE LAW AND THE LADY\\n\\nby Wilkie Collins\\n\\n\\n\\n\\nNOTE:\\n\\nADDRESSED TO THE READER.\\n\\nIN offering this b',\n",
       " 'THE NEW MAGDALEN\\n\\nby Wilkie Collins\\n\\n\\n\\n\\nTO THE MEMORY OF CHARLES ALLSTON COLLINS. (9th April, 1']"
      ]
     },
     "execution_count": 70,
     "metadata": {},
     "output_type": "execute_result"
    }
   ],
   "source": [
    "[text[:100].strip() for text in collinsTexts]"
   ]
  },
  {
   "cell_type": "code",
   "execution_count": null,
   "metadata": {},
   "outputs": [],
   "source": []
  }
 ],
 "metadata": {
  "kernelspec": {
   "display_name": "Python 3",
   "language": "python",
   "name": "python3"
  },
  "language_info": {
   "codemirror_mode": {
    "name": "ipython",
    "version": 3
   },
   "file_extension": ".py",
   "mimetype": "text/x-python",
   "name": "python",
   "nbconvert_exporter": "python",
   "pygments_lexer": "ipython3",
   "version": "3.6.6"
  }
 },
 "nbformat": 4,
 "nbformat_minor": 2
}
