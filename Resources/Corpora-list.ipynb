{
 "cells": [
  {
   "cell_type": "markdown",
   "metadata": {},
   "source": [
    "# Corpora\n",
    "\n",
    "Here's a list of corpora that you might be interested in using for your final project. \n",
    "\n",
    "Here are some included with NLTK. [Read about how to use them in the NLTK Book, Ch. 2](http://www.nltk.org/book/ch02.html).  \n",
    " - Reuters News Corpus: 10,000 news articles\n",
    " - Brown Corpus: linguistics, categories like \"adventure novels\" and \"government documents\"\n",
    " - Inaugural Address Corpus: contains all inaugural addresses of US presidents (except the most recent one, I think)\n",
    " - Movie Reviews: 2,000 movie reviews\n",
    " - Gutenberg: 18 texts, literature\n",
    "\n",
    "[Corpus-db.org](http://corpus-db.org) is an API for Project Gutenberg texts. Use it to generate any collection of texts you want from Project Gutenberg's collection. Example usage can either be found in my corpora notes, or in the examples in the \"examples\" directory of the corpus-db GitHub repository. Examples: \n",
    " - Novels set in London\n",
    " - Books of poems\n",
    " - Novels featuring young women\n",
    " - Novels about seafaring\n",
    " - All of Jane Austen's works\n",
    " - All of Wilkie Collins's novels\n",
    " \n",
    "[Textacy](https://textacy.readthedocs.io/en/latest/api_reference.html#module-textacy.datasets.capitol_words) also comes with lots of corpora you can use: \n",
    " - Capitol Words: speeches given during the 2016 US presidential race\n",
    " - Supreme Court Decisions: decisions given by US Supreme Court judges\n",
    " - Wikipedia: lots of Wikipedia articles\n",
    " - Reddit Comments: comments from the site reddit.com\n",
    " - Oxford Text Archive: about 2,000 books from the Oxford Text Archive\n",
    "\n",
    "[Corpus-downloader](https://github.com/DH-Box/corpus-downloader) is a command-line tool to download corpora to your machine. Its list is relatively short, but contains a few entries that might be of interest, for instance: \n",
    " - Shakespeare His Contemporaries: a corpus of early modern English texts\n",
    " - ECCO-TCP: Eighteenth Century Collections Online is a collection of 18th C texts, mostly English\n",
    " \n",
    "[CENLab](https://github.com/JonathanReeve/cenlab/blob/master/cenlab-index.csv) is a corpus I made with around 500 literary works, compiled from the CEN (Corpus of English Novels) and TxtLab's corpus of novels. \n",
    "\n",
    "Also feel free to compile your own corpora from [Project Gutenberg](http://www.gutenberg.org/), which has lots of public-domain books available. You can get ASCIIDOC versions of many of these books from [GITenberg](https://github.com/GITenberg/), a project to put Gutenberg books on GitHub. \n",
    "\n",
    "If there's an another area that you're interested in studying, let me know! There are way more corpora available than just these. "
   ]
  }
 ],
 "metadata": {
  "kernelspec": {
   "display_name": "Python 3",
   "language": "python",
   "name": "python3"
  },
  "language_info": {
   "codemirror_mode": {
    "name": "ipython",
    "version": 3
   },
   "file_extension": ".py",
   "mimetype": "text/x-python",
   "name": "python",
   "nbconvert_exporter": "python",
   "pygments_lexer": "ipython3",
   "version": "3.6.6"
  }
 },
 "nbformat": 4,
 "nbformat_minor": 2
}
