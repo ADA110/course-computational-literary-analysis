{
 "cells": [
  {
   "cell_type": "markdown",
   "metadata": {},
   "source": [
    "# Quantitative Analysis of the Relationship Between Length of the Text and Amount of Features It Contains in an Instance of _The Moonstone_\n",
    "\n",
    "## Ziyang\n"
   ]
  },
  {
   "cell_type": "code",
   "execution_count": 1,
   "metadata": {},
   "outputs": [
    {
     "name": "stderr",
     "output_type": "stream",
     "text": [
      "C:\\Users\\JackC\\AppData\\Local\\Continuum\\anaconda3\\lib\\site-packages\\IPython\\nbformat.py:13: ShimWarning: The `IPython.nbformat` package has been deprecated since IPython 4.0. You should import from nbformat instead.\n",
      "  \"You should import from nbformat instead.\", ShimWarning)\n",
      "C:\\Users\\JackC\\AppData\\Local\\Continuum\\anaconda3\\lib\\site-packages\\nbformat\\current.py:19: UserWarning: nbformat.current is deprecated.\n",
      "\n",
      "- use nbformat for read/write/validate public API\n",
      "- use nbformat.vX directly to composing notebooks of a particular version\n",
      "\n",
      "  \"\"\")\n"
     ]
    }
   ],
   "source": [
    "# Import all your libraries here, and only here, please.\n",
    "import os\n",
    "import pandas as pd\n",
    "import matplotlib.pyplot as plt\n",
    "from collections import Counter\n",
    "from nltk.corpus import stopwords\n",
    "from nltk.corpus import PlaintextCorpusReader\n",
    "from sklearn.feature_extraction.text import CountVectorizer\n",
    "from sklearn.decomposition import LatentDirichletAllocation\n",
    "from nltk import ngrams,pos_tag,sent_tokenize,word_tokenize\n",
    "\n",
    "import predictPrecise\n",
    "\n",
    "# Don't remove this line. It's necessary for the wordcount function \n",
    "# below to work. \n",
    "from IPython.nbformat import current\n",
    "\n",
    "# This is to make your plots a little bigger.\n",
    "# You may adjust this, but be careful of making your plots too big or too small.\n",
    "import matplotlib.pyplot as plt\n",
    "plt.rcParams['figure.figsize'] = [10, 6]"
   ]
  },
  {
   "cell_type": "markdown",
   "metadata": {},
   "source": [
    "Abstract: It’s challenging to find where a short sentence comes from. To a longer paragraph, however, it is relatively more facile. Does something like a minimum length exist over which the sentences include much text features makes it possible to find where it comes from? In this paper, we analyze the above question.\n",
    "\n",
    "Keywords: NLP, Text Feature Extraction\n",
    "\n",
    "PS: We in this article means my laptop and me."
   ]
  },
  {
   "cell_type": "markdown",
   "metadata": {},
   "source": [
    "## Hypotheses\n",
    "<br></br>\n",
    "### 1. There's a positive relationship between the length of the text and amount of features it contains.\n",
    "### 2. There's a certain number, when the length of the text is below that, with length increased, the growth in the amount of features it contains is much more significant."
   ]
  },
  {
   "cell_type": "markdown",
   "metadata": {},
   "source": [
    "We find that it’s difficult to determine where a short sentence comes from. For example, \"I attempted to speak. Betteredge held up his hand, in token that he had not done yet.\" (I selected this sentence randomly from the novel _The Moonstone_.) We can infer that the guy who narrates this sentence has a senior position or he is close to Betteredge, so he does not add something like Mr. before Betteredge’s name. And in his talk, we feel that he is likely to be well-educated. That’s all. It’s hard to find the source with these text features. But to a long sentence, it’s relatively easier to find where it from. \n",
    "For example:"
   ]
  },
  {
   "cell_type": "markdown",
   "metadata": {},
   "source": [
    "\"In my aunt’s state of health, visitors in general were not admitted. To my horror and amazement, the performer of the soft little knock proved to be an exception to general rules. Samuel’s voice below me (after apparently answering some questions which I did not hear) said, unmistakably, “Upstairs, if you please, sir.” The next moment I heard footsteps–a man’s footsteps–approaching the drawing-room floor. Who could this favoured male visitor possibly be? Almost as soon as I asked myself the question, the answer occurred to me. Who COULD it be but the doctor? In the case of any other visitor, I should have allowed myself to be discovered in the drawing-room.\""
   ]
  },
  {
   "cell_type": "markdown",
   "metadata": {},
   "source": [
    "(I selected these sentences randomly from the novel _The Moonstone_.) In these sentences, the word “aunt” appeared, so we are clear about the main speaker. And it looks like the word/token ratio is kind of high, in previous classes we’ve analyzed the word/token ratio of each narrator. Last but not least, in these sentences, the inner movement of the narrator is very rich. With these features, it’s easy to judge that this paragraph is narrated by Clark. We infer that there is a pervasive length. When the length of a sentence is above this, the sentence will include much text features, which is enough for us to determine where it comes from with high accuracy rate."
   ]
  },
  {
   "cell_type": "markdown",
   "metadata": {},
   "source": [
    "To conduct this experiment, we chose _The Moonstone_ as our experiment material. We did data enhancement to the text in order to reduce the negative impact created by the length difference of the narrations. We analyzed the text features in the common ngrams, usually used words and core word families.\n",
    "\n",
    "Below are my codes.\n"
   ]
  },
  {
   "cell_type": "markdown",
   "metadata": {},
   "source": [
    "Open the corpus I used."
   ]
  },
  {
   "cell_type": "code",
   "execution_count": 3,
   "metadata": {},
   "outputs": [],
   "source": [
    "path='C:\\\\corpus\\\\'\n",
    "mst=PlaintextCorpusReader(path,os.listdir(path))"
   ]
  },
  {
   "cell_type": "markdown",
   "metadata": {},
   "source": [
    "Load the tested sentences.\n",
    "\n",
    "The length (counted in words) of sentences are close to $e^i$($i$ from 3 to 7). All the sentences are selected randomly."
   ]
  },
  {
   "cell_type": "code",
   "execution_count": 4,
   "metadata": {},
   "outputs": [],
   "source": [
    "path='C:\\\\inputs\\\\'\n",
    "ospath=os.listdir(path)\n",
    "\n",
    "inputs={}\n",
    "for file in ospath:\n",
    "    if not file[2:5] in inputs.keys():\n",
    "        inputs[file[2:5]]=[0,0,0,0,0]\n",
    "    inputs[file[2:5]][int(file[1])]=open(path+file,encoding='utf-8').read()"
   ]
  },
  {
   "cell_type": "markdown",
   "metadata": {},
   "source": [
    "This function gets an input whose type is string, and outputs a list of words in this string without the stop words."
   ]
  },
  {
   "cell_type": "code",
   "execution_count": 5,
   "metadata": {},
   "outputs": [],
   "source": [
    "def TKdeleteStopwds(inp):\n",
    "    stpwds_set=set(stopwords.words('english'))\n",
    "    outp=[]\n",
    "    for wd in word_tokenize(inp):\n",
    "        if ((not wd in stpwds_set) and wd.isalpha()):\n",
    "            outp.append(wd)\n",
    "    return outp"
   ]
  },
  {
   "cell_type": "markdown",
   "metadata": {},
   "source": [
    "In this page, a wordset is a dictionary whose keys are the file IDs in the corpus. And each key point to a list of words."
   ]
  },
  {
   "cell_type": "markdown",
   "metadata": {},
   "source": [
    "In this page, _the four types_ mean the raw texts, texts without stop words, pos_tags of raw texts and pos_tags of texts without stop words."
   ]
  },
  {
   "cell_type": "markdown",
   "metadata": {},
   "source": [
    "This function gets an input of a wordset, and get the common ngrams of _the four types_."
   ]
  },
  {
   "cell_type": "code",
   "execution_count": 6,
   "metadata": {},
   "outputs": [],
   "source": [
    "def ngrmcrt(inp):\n",
    "    ngrms={}\n",
    "    for sty in inp[0].keys():\n",
    "        ngrms[sty]={}\n",
    "        ngrms[sty]['rw']=[[],[]]\n",
    "        ngrms[sty]['rt']=[[],[]]\n",
    "        ngrms[sty]['pw']=[[],[]]\n",
    "        ngrms[sty]['pt']=[[],[]]\n",
    "        for i in range(2,7):\n",
    "            ct=Counter(ngrams(inp[0][sty],i)).most_common(10)\n",
    "            ct1=[(it[0]) for it in ct]\n",
    "            ct2=[it[1]/len(inp[0][sty]) for it in ct]\n",
    "            ngrms[sty]['rw'][0].append(ct1)\n",
    "            ngrms[sty]['rw'][1].append(ct2)\n",
    "        for i in range(3,9):\n",
    "            ct=Counter(ngrams([tsg[1] for tsg in pos_tag(inp[0][sty])],i)).most_common(10)\n",
    "            ct1=[(it[0]) for it in ct]\n",
    "            ct2=[it[1]/len(inp[0][sty]) for it in ct]\n",
    "            ngrms[sty]['rt'][0].append(ct1)\n",
    "            ngrms[sty]['rt'][1].append(ct2)\n",
    "        for i in range(2,4):\n",
    "            ct=Counter(ngrams(inp[1][sty],i)).most_common(10)\n",
    "            ct1=[(it[0]) for it in ct]\n",
    "            ct2=[it[1]/len(inp[1][sty]) for it in ct]\n",
    "            ngrms[sty]['pw'][0].append(ct1)\n",
    "            ngrms[sty]['pw'][1].append(ct2)\n",
    "        for i in range(2,7):\n",
    "            ct=Counter(ngrams([tsg[1] for tsg in pos_tag(inp[1][sty])],i)).most_common(10)\n",
    "            ct1=[(it[0]) for it in ct]\n",
    "            ct2=[it[1]/len(inp[1][sty]) for it in ct]\n",
    "            ngrms[sty]['pt'][0].append(ct1)\n",
    "            ngrms[sty]['pt'][1].append(ct2)\n",
    "    return ngrms"
   ]
  },
  {
   "cell_type": "markdown",
   "metadata": {},
   "source": [
    "This function gets an input of a wordset, and get the common words of _the four types_."
   ]
  },
  {
   "cell_type": "code",
   "execution_count": 7,
   "metadata": {},
   "outputs": [],
   "source": [
    "def uswds(inp):\n",
    "    usws={}\n",
    "    for sty in inp[0].keys():\n",
    "        usws[sty]={'rw':[[],[]],'rt':[[],[]],'pw':[[],[]],'pt':[[],[]]}\n",
    "        ct=Counter(inp[0][sty]).most_common(300)\n",
    "        usws[sty]['rw'][0]=[it[0] for it in ct]\n",
    "        usws[sty]['rw'][1]=[it[1]/len(inp[0][sty]) for it in ct]\n",
    "        ct=Counter([tsg[1] for tsg in pos_tag(inp[0][sty])]).most_common(30)\n",
    "        usws[sty]['rt'][0]=[it[0] for it in ct]\n",
    "        usws[sty]['rt'][1]=[it[1]/len(inp[0][sty]) for it in ct]\n",
    "        ct=Counter(inp[1][sty]).most_common(300)\n",
    "        usws[sty]['pw'][0]=[it[0] for it in ct]\n",
    "        usws[sty]['pw'][1]=[it[1]/len(inp[1][sty]) for it in ct]\n",
    "        ct=Counter([tsg[1] for tsg in pos_tag(inp[1][sty])]).most_common(30)\n",
    "        usws[sty]['pt'][0]=[it[0] for it in ct]\n",
    "        usws[sty]['pt'][1]=[it[1]/len(inp[1][sty]) for it in ct]\n",
    "    return usws"
   ]
  },
  {
   "cell_type": "markdown",
   "metadata": {},
   "source": [
    "The function _wdfami_ which means wordfamily gets the input of a string and two integers. <br></br>\n",
    "The string _inp_ means is the string in which the wordfamilies to find. The int n means the amount of wordfamilies to find. The int l means the length of the clips of the input text.<br></br><br></br>\n",
    "The function _getwdfa_ uses the function _wdfami_ to creat a dictionary of wordfamilies for every text in a corpus.<br></br>\n",
    "The optional parameter l would change the clip length in the _wdfami_ function to make it more precise for long input of strings to predict."
   ]
  },
  {
   "cell_type": "code",
   "execution_count": 8,
   "metadata": {},
   "outputs": [],
   "source": [
    "def wdfami(inp,n,l): \n",
    "    wdlst=[inp[i:i+l] for i in range(0,len(inp)-l,l)]\n",
    "    cv = CountVectorizer(min_df=2, max_df=0.95, stop_words='english')\n",
    "    counts = cv.fit_transform(wdlst)\n",
    "    wordLabels = cv.get_feature_names()\n",
    "    lda = LatentDirichletAllocation(n_components=n, learning_method='online')\n",
    "    lda.fit_transform(counts)\n",
    "    topicLabels = []\n",
    "    for i, topic in enumerate(lda.components_):\n",
    "        topicLabel = [wordLabels[i] for i in topic.argsort()[:-10 - 1:-1]]\n",
    "        topicLabels.append(topicLabel)\n",
    "    return topicLabels\n",
    "\n",
    "def getwdfa(inp,l=300):\n",
    "    wdfa={}\n",
    "    for sty in inp.fileids():\n",
    "        wdfa[sty]=wdfami(inp.raw(sty),20,l)\n",
    "    return wdfa"
   ]
  },
  {
   "cell_type": "markdown",
   "metadata": {},
   "source": [
    "This function takes the data _ngrmcrt_ created and a string to be predicted as the inputs, and output the similarities of ngrams between the string and each fileid in the corpus."
   ]
  },
  {
   "cell_type": "code",
   "execution_count": 9,
   "metadata": {},
   "outputs": [],
   "source": [
    "def ngrmcal(ngsi,inp):\n",
    "    inptk=word_tokenize(inp)\n",
    "    outp={sty:0 for sty in ngsi.keys()}\n",
    "    if len(inptk)<5:\n",
    "        return 0\n",
    "    elif len(inptk)<11:\n",
    "        cd=(1,1,1,0)\n",
    "    elif len(inptk)<51:\n",
    "        cd=(2,2,1,1)\n",
    "    elif len(inptk)<201:\n",
    "        cd=(4,3,3,1)\n",
    "    elif len(inptk)<501:\n",
    "        cd=(5,4,4,2)\n",
    "    else:\n",
    "        cd=(6,5,5,2)\n",
    "    inptkp=TKdeleteStopwds(inp)\n",
    "    ngmw=[]\n",
    "    ngmt=[]\n",
    "    ngmpw=[]\n",
    "    ngmpt=[]\n",
    "    for i in range(0,cd[0]):\n",
    "        ngmt.append(list(ngrams([tsg[1] for tsg in pos_tag(inptk)],i+3)))\n",
    "    for i in range(0,cd[1]):\n",
    "        ngmpt.append(list(ngrams([tsg[1] for tsg in pos_tag(inptkp)],i+2)))\n",
    "    for i in range(0,cd[2]):\n",
    "        ngmw.append(list(ngrams(inptk,i+2)))\n",
    "    for i in range(0,cd[3]):\n",
    "        ngmpw.append(list(ngrams(inptkp,i+2)))\n",
    "    for sty in ngsi.keys():\n",
    "        for i in range(0,cd[0]):\n",
    "            for ngs in ngmt[i]:\n",
    "                if ngs in ngsi[sty]['rt'][0][i]:\n",
    "                    outp[sty]+=ngsi[sty]['rt'][1][i][ngsi[sty]['rt'][0][i].index(ngs)]*(i+2)**4\n",
    "        for i in range(0,cd[1]):\n",
    "            for ngs in ngmpt[i]:\n",
    "                if ngs in ngsi[sty]['pt'][0][i]:\n",
    "                    outp[sty]+=ngsi[sty]['pt'][1][i][ngsi[sty]['pt'][0][i].index(ngs)]*(i+2)**4\n",
    "        for i in range(0,cd[2]):\n",
    "            for ngs in ngmw[i]:\n",
    "                if ngs in ngsi[sty]['rw'][0][i]:\n",
    "                    outp[sty]+=10*ngsi[sty]['rw'][1][i][ngsi[sty]['rw'][0][i].index(ngs)]*(i+2)**4\n",
    "        for i in range(0,cd[3]):\n",
    "            for ngs in ngmpw[i]:\n",
    "                if ngs in ngsi[sty]['pw'][0][i]:\n",
    "                    outp[sty]+=10*ngsi[sty]['pw'][1][i][ngsi[sty]['pw'][0][i].index(ngs)]*(i+2)**4\n",
    "    return outp"
   ]
  },
  {
   "cell_type": "markdown",
   "metadata": {},
   "source": [
    "This function takes the data _uswds_ created and a string to be predicted as the inputs, and output the similarities of usually used words between the string and each fileid in the corpus."
   ]
  },
  {
   "cell_type": "code",
   "execution_count": 10,
   "metadata": {},
   "outputs": [],
   "source": [
    "def uswdcal(usds,inp):\n",
    "    outp={sty:0 for sty in usds.keys()}\n",
    "    inptk=word_tokenize(inp)\n",
    "    inpt=[tag[1] for tag in pos_tag(inptk)]\n",
    "    inptkp=TKdeleteStopwds(inp)\n",
    "    inptp=[tag[1] for tag in pos_tag(inptkp)]\n",
    "    for sty in usds.keys():\n",
    "        for wd in inptk:\n",
    "            if wd in usds[sty]['rw'][0]:\n",
    "                outp[sty]+=6*usds[sty]['rw'][1][usds[sty]['rw'][0].index(wd)]\n",
    "        for wd in inpt:\n",
    "            if wd in usds[sty]['rt'][0]:\n",
    "                outp[sty]+=2*usds[sty]['rt'][1][usds[sty]['rt'][0].index(wd)]\n",
    "        for wd in inptkp:\n",
    "            if wd in usds[sty]['pw'][0]:\n",
    "                outp[sty]+=10*usds[sty]['pw'][1][usds[sty]['pw'][0].index(wd)]\n",
    "        for wd in inptp:\n",
    "            if wd in usds[sty]['pt'][0]:\n",
    "                outp[sty]+=usds[sty]['pt'][1][usds[sty]['pt'][0].index(wd)]\n",
    "    return outp"
   ]
  },
  {
   "cell_type": "markdown",
   "metadata": {},
   "source": [
    "This function takes the data _getwdfa_ created and a string to be predicted as the inputs, and output the similarities of wordfamilies between the string and each fileid in the corpus. <br></br>\n",
    "I left 2 parameters optional. So, we can try to change the clip length, and observe the result."
   ]
  },
  {
   "cell_type": "code",
   "execution_count": 11,
   "metadata": {},
   "outputs": [],
   "source": [
    "def wdfacal(wdfa,inp,l=300,corpus=0):\n",
    "    if l!=300:\n",
    "        if corpus!=0:\n",
    "            wdfa=getwdfa(corpus,l)\n",
    "        elif len(wdfa.keys)!=0:\n",
    "            return {sty:0 for sty in wdfa.keys()}\n",
    "        else:\n",
    "            raise Error('Input unavailable.')\n",
    "    outp={sty:0 for sty in wdfa.keys()}\n",
    "    tks=word_tokenize(inp)\n",
    "    tkset=set(tks)\n",
    "    for sty in wdfa.keys():\n",
    "        stycont=0\n",
    "        for fa in wdfa[sty]:\n",
    "            oncecont=0\n",
    "            for wd in fa:\n",
    "                if wd in tkset:\n",
    "                    if oncecont==0:\n",
    "                        oncecont=1\n",
    "                    oncecont*=tks.count(wd)\n",
    "            stycont+=oncecont\n",
    "        outp[sty]=stycont\n",
    "    return outp"
   ]
  },
  {
   "cell_type": "markdown",
   "metadata": {},
   "source": [
    "This function does all the preprocess stuff."
   ]
  },
  {
   "cell_type": "code",
   "execution_count": 12,
   "metadata": {},
   "outputs": [],
   "source": [
    "def preprocess(corpus):\n",
    "    processResult=[]\n",
    "    stpwds_set=set(stopwords.words('english'))\n",
    "    wds1={}#all words\n",
    "    wds2={}#processed words\n",
    "    for sty in corpus.fileids():\n",
    "        wds2[sty]=[]\n",
    "        for wd in corpus.words(sty):\n",
    "            if ((not wd in stpwds_set) and wd.isalpha()):\n",
    "                wds2[sty].append(wd)\n",
    "        wds1[sty]=corpus.words(sty)\n",
    "    wdset=[wds1,wds2]\n",
    "    \n",
    "    processResult.append(ngrmcrt(wdset))\n",
    "    processResult.append(uswds(wdset))\n",
    "    processResult.append(getwdfa(corpus))\n",
    "    processResult.append(corpus)\n",
    "    \n",
    "    return processResult"
   ]
  },
  {
   "cell_type": "markdown",
   "metadata": {},
   "source": [
    "This function takes the data _preprocess_ created and a string to be predicted as the inputs, and return the predict results."
   ]
  },
  {
   "cell_type": "code",
   "execution_count": 13,
   "metadata": {},
   "outputs": [],
   "source": [
    "def predict(preprocessResult,inp):\n",
    "    predictResult={sty:[] for sty in preprocessResult[0].keys()}\n",
    "    \n",
    "    ngrmResult=ngrmcal(preprocessResult[0],inp)\n",
    "    uswdResult=uswdcal(preprocessResult[1],inp)\n",
    "    wdfaResult=wdfacal(preprocessResult[2],inp)\n",
    "    \n",
    "    for sty in preprocessResult[0].keys():\n",
    "        predictResult[sty].append(ngrmResult[sty])\n",
    "        predictResult[sty].append(uswdResult[sty])\n",
    "        predictResult[sty].append(wdfaResult[sty])\n",
    "        \n",
    "    return predictResult"
   ]
  },
  {
   "cell_type": "markdown",
   "metadata": {},
   "source": [
    "This function turns the results to the precise of the results. So that it could be observed more clearly."
   ]
  },
  {
   "cell_type": "code",
   "execution_count": 14,
   "metadata": {},
   "outputs": [],
   "source": [
    "def precisecal(inp,inpLabel):\n",
    "    precise=[0,0,0]\n",
    "    avr=[sum([inp[sty][i] for sty in inp])/len(inp.keys()) for i in range(0,3)]\n",
    "    for i in range(0,3):\n",
    "        precise[i]=100*(list(inp[sty][i] for sty in inp if inpLabel in sty)[0]/avr[i]-1)\n",
    "    return precise"
   ]
  },
  {
   "cell_type": "markdown",
   "metadata": {},
   "source": [
    "This module was written by me and a friend of mine. My friend doesn’t want it be spread, so I imported it as a module. These codes haven’t been published in any form at any place. I’ve obtained every rights of these codes.\n",
    "\n",
    "Here is the accuracy rate of the predict."
   ]
  },
  {
   "cell_type": "code",
   "execution_count": 15,
   "metadata": {},
   "outputs": [
    {
     "name": "stdout",
     "output_type": "stream",
     "text": [
      "NGM\t0.118439\t0.422183\t0.662902\t0.965215\t0.987211\n",
      "UWD\t0.371592\t0.601738\t0.791473\t0.811059\t0.841364\n",
      "WFM\t0.311575\t0.632395\t0.842413\t0.850893\t0.882137\n",
      "All\t0.470582\t0.781349\t0.901473\t0.985431\t0.992124\n"
     ]
    }
   ],
   "source": [
    "accuracyRate=predictPrecise.calc(mst,preprocess,predict)"
   ]
  },
  {
   "cell_type": "code",
   "execution_count": 16,
   "metadata": {},
   "outputs": [
    {
     "data": {
      "text/plain": [
       "<matplotlib.axes._subplots.AxesSubplot at 0x1bc57ef2ac8>"
      ]
     },
     "execution_count": 16,
     "metadata": {},
     "output_type": "execute_result"
    },
    {
     "data": {
      "image/png": "[encoded data removed]",
      "text/plain": [
       "<Figure size 432x288 with 1 Axes>"
      ]
     },
     "metadata": {},
     "output_type": "display_data"
    }
   ],
   "source": [
    "pd.DataFrame(accuracyRate).plot()"
   ]
  },
  {
   "cell_type": "code",
   "execution_count": 17,
   "metadata": {},
   "outputs": [],
   "source": [
    "preprocessData=preprocess(mst)"
   ]
  },
  {
   "cell_type": "code",
   "execution_count": 18,
   "metadata": {},
   "outputs": [],
   "source": [
    "predictData=[]\n",
    "for i in range(0,5):\n",
    "    predictDataOfLengthOfI={}\n",
    "    for sty in inputs:\n",
    "        predictDataOfLengthOfI[sty]=precisecal(predict(preprocessData,inputs[sty][i]),sty)\n",
    "    predictData.append(predictDataOfLengthOfI)"
   ]
  },
  {
   "cell_type": "code",
   "execution_count": 19,
   "metadata": {},
   "outputs": [],
   "source": [
    "predictDataByNgrams=[{sty:its[sty][0] for sty in its} for its in predictData]\n",
    "predictDataByUswds=[{sty:its[sty][1] for sty in its} for its in predictData]\n",
    "predictDataByWdfami=[{sty:its[sty][2] for sty in its} for its in predictData]"
   ]
  },
  {
   "cell_type": "code",
   "execution_count": 20,
   "metadata": {},
   "outputs": [
    {
     "data": {
      "text/html": [
       "<div>\n",
       "<style scoped>\n",
       "    .dataframe tbody tr th:only-of-type {\n",
       "        vertical-align: middle;\n",
       "    }\n",
       "\n",
       "    .dataframe tbody tr th {\n",
       "        vertical-align: top;\n",
       "    }\n",
       "\n",
       "    .dataframe thead th {\n",
       "        text-align: right;\n",
       "    }\n",
       "</style>\n",
       "<table border=\"1\" class=\"dataframe\">\n",
       "  <thead>\n",
       "    <tr style=\"text-align: right;\">\n",
       "      <th></th>\n",
       "      <th>bet</th>\n",
       "      <th>blk</th>\n",
       "      <th>brf</th>\n",
       "      <th>clk</th>\n",
       "      <th>cuf</th>\n",
       "      <th>jns</th>\n",
       "    </tr>\n",
       "  </thead>\n",
       "  <tbody>\n",
       "    <tr>\n",
       "      <th>0</th>\n",
       "      <td>1.713834</td>\n",
       "      <td>4.124576</td>\n",
       "      <td>-2.502498</td>\n",
       "      <td>-5.581214</td>\n",
       "      <td>3.668973</td>\n",
       "      <td>-3.599469</td>\n",
       "    </tr>\n",
       "    <tr>\n",
       "      <th>1</th>\n",
       "      <td>-3.666835</td>\n",
       "      <td>5.000967</td>\n",
       "      <td>7.420226</td>\n",
       "      <td>5.218328</td>\n",
       "      <td>3.931076</td>\n",
       "      <td>-1.001674</td>\n",
       "    </tr>\n",
       "    <tr>\n",
       "      <th>2</th>\n",
       "      <td>1.658597</td>\n",
       "      <td>2.687283</td>\n",
       "      <td>4.042794</td>\n",
       "      <td>-7.024038</td>\n",
       "      <td>23.160785</td>\n",
       "      <td>0.764085</td>\n",
       "    </tr>\n",
       "    <tr>\n",
       "      <th>3</th>\n",
       "      <td>6.526310</td>\n",
       "      <td>12.647311</td>\n",
       "      <td>11.291967</td>\n",
       "      <td>9.921979</td>\n",
       "      <td>34.757284</td>\n",
       "      <td>15.307037</td>\n",
       "    </tr>\n",
       "    <tr>\n",
       "      <th>4</th>\n",
       "      <td>18.850020</td>\n",
       "      <td>20.348776</td>\n",
       "      <td>11.676842</td>\n",
       "      <td>16.597434</td>\n",
       "      <td>17.239594</td>\n",
       "      <td>22.476635</td>\n",
       "    </tr>\n",
       "  </tbody>\n",
       "</table>\n",
       "</div>"
      ],
      "text/plain": [
       "         bet        blk        brf        clk        cuf        jns\n",
       "0   1.713834   4.124576  -2.502498  -5.581214   3.668973  -3.599469\n",
       "1  -3.666835   5.000967   7.420226   5.218328   3.931076  -1.001674\n",
       "2   1.658597   2.687283   4.042794  -7.024038  23.160785   0.764085\n",
       "3   6.526310  12.647311  11.291967   9.921979  34.757284  15.307037\n",
       "4  18.850020  20.348776  11.676842  16.597434  17.239594  22.476635"
      ]
     },
     "execution_count": 20,
     "metadata": {},
     "output_type": "execute_result"
    }
   ],
   "source": [
    "pd.DataFrame(predictDataByNgrams)"
   ]
  },
  {
   "cell_type": "code",
   "execution_count": 21,
   "metadata": {},
   "outputs": [
    {
     "data": {
      "text/html": [
       "<div>\n",
       "<style scoped>\n",
       "    .dataframe tbody tr th:only-of-type {\n",
       "        vertical-align: middle;\n",
       "    }\n",
       "\n",
       "    .dataframe tbody tr th {\n",
       "        vertical-align: top;\n",
       "    }\n",
       "\n",
       "    .dataframe thead th {\n",
       "        text-align: right;\n",
       "    }\n",
       "</style>\n",
       "<table border=\"1\" class=\"dataframe\">\n",
       "  <thead>\n",
       "    <tr style=\"text-align: right;\">\n",
       "      <th></th>\n",
       "      <th>bet</th>\n",
       "      <th>blk</th>\n",
       "      <th>brf</th>\n",
       "      <th>clk</th>\n",
       "      <th>cuf</th>\n",
       "      <th>jns</th>\n",
       "    </tr>\n",
       "  </thead>\n",
       "  <tbody>\n",
       "    <tr>\n",
       "      <th>0</th>\n",
       "      <td>-0.064872</td>\n",
       "      <td>-0.042962</td>\n",
       "      <td>4.696137</td>\n",
       "      <td>2.332633</td>\n",
       "      <td>0.039601</td>\n",
       "      <td>1.792004</td>\n",
       "    </tr>\n",
       "    <tr>\n",
       "      <th>1</th>\n",
       "      <td>-1.250001</td>\n",
       "      <td>2.575739</td>\n",
       "      <td>2.891125</td>\n",
       "      <td>2.187461</td>\n",
       "      <td>-0.228228</td>\n",
       "      <td>2.078593</td>\n",
       "    </tr>\n",
       "    <tr>\n",
       "      <th>2</th>\n",
       "      <td>4.386256</td>\n",
       "      <td>2.115989</td>\n",
       "      <td>4.352199</td>\n",
       "      <td>2.820151</td>\n",
       "      <td>1.295318</td>\n",
       "      <td>3.158008</td>\n",
       "    </tr>\n",
       "    <tr>\n",
       "      <th>3</th>\n",
       "      <td>6.287850</td>\n",
       "      <td>1.496406</td>\n",
       "      <td>3.259613</td>\n",
       "      <td>3.302898</td>\n",
       "      <td>4.317366</td>\n",
       "      <td>2.805619</td>\n",
       "    </tr>\n",
       "    <tr>\n",
       "      <th>4</th>\n",
       "      <td>6.298483</td>\n",
       "      <td>4.141865</td>\n",
       "      <td>5.052934</td>\n",
       "      <td>5.609973</td>\n",
       "      <td>10.474747</td>\n",
       "      <td>3.497735</td>\n",
       "    </tr>\n",
       "  </tbody>\n",
       "</table>\n",
       "</div>"
      ],
      "text/plain": [
       "        bet       blk       brf       clk        cuf       jns\n",
       "0 -0.064872 -0.042962  4.696137  2.332633   0.039601  1.792004\n",
       "1 -1.250001  2.575739  2.891125  2.187461  -0.228228  2.078593\n",
       "2  4.386256  2.115989  4.352199  2.820151   1.295318  3.158008\n",
       "3  6.287850  1.496406  3.259613  3.302898   4.317366  2.805619\n",
       "4  6.298483  4.141865  5.052934  5.609973  10.474747  3.497735"
      ]
     },
     "execution_count": 21,
     "metadata": {},
     "output_type": "execute_result"
    }
   ],
   "source": [
    "pd.DataFrame(predictDataByUswds)"
   ]
  },
  {
   "cell_type": "code",
   "execution_count": 22,
   "metadata": {},
   "outputs": [
    {
     "data": {
      "text/html": [
       "<div>\n",
       "<style scoped>\n",
       "    .dataframe tbody tr th:only-of-type {\n",
       "        vertical-align: middle;\n",
       "    }\n",
       "\n",
       "    .dataframe tbody tr th {\n",
       "        vertical-align: top;\n",
       "    }\n",
       "\n",
       "    .dataframe thead th {\n",
       "        text-align: right;\n",
       "    }\n",
       "</style>\n",
       "<table border=\"1\" class=\"dataframe\">\n",
       "  <thead>\n",
       "    <tr style=\"text-align: right;\">\n",
       "      <th></th>\n",
       "      <th>bet</th>\n",
       "      <th>blk</th>\n",
       "      <th>brf</th>\n",
       "      <th>clk</th>\n",
       "      <th>cuf</th>\n",
       "      <th>jns</th>\n",
       "    </tr>\n",
       "  </thead>\n",
       "  <tbody>\n",
       "    <tr>\n",
       "      <th>0</th>\n",
       "      <td>-100.000000</td>\n",
       "      <td>-25.000000</td>\n",
       "      <td>300.000000</td>\n",
       "      <td>-100.000000</td>\n",
       "      <td>33.333333</td>\n",
       "      <td>9.090909</td>\n",
       "    </tr>\n",
       "    <tr>\n",
       "      <th>1</th>\n",
       "      <td>100.000000</td>\n",
       "      <td>-68.421053</td>\n",
       "      <td>33.333333</td>\n",
       "      <td>36.363636</td>\n",
       "      <td>63.636364</td>\n",
       "      <td>111.764706</td>\n",
       "    </tr>\n",
       "    <tr>\n",
       "      <th>2</th>\n",
       "      <td>37.931034</td>\n",
       "      <td>23.076923</td>\n",
       "      <td>105.839416</td>\n",
       "      <td>285.714286</td>\n",
       "      <td>117.021277</td>\n",
       "      <td>36.363636</td>\n",
       "    </tr>\n",
       "    <tr>\n",
       "      <th>3</th>\n",
       "      <td>237.500000</td>\n",
       "      <td>47.540984</td>\n",
       "      <td>127.285714</td>\n",
       "      <td>0.000000</td>\n",
       "      <td>105.839416</td>\n",
       "      <td>74.324324</td>\n",
       "    </tr>\n",
       "    <tr>\n",
       "      <th>4</th>\n",
       "      <td>187.934211</td>\n",
       "      <td>13.385827</td>\n",
       "      <td>109.768638</td>\n",
       "      <td>55.789474</td>\n",
       "      <td>313.691932</td>\n",
       "      <td>127.642857</td>\n",
       "    </tr>\n",
       "  </tbody>\n",
       "</table>\n",
       "</div>"
      ],
      "text/plain": [
       "          bet        blk         brf         clk         cuf         jns\n",
       "0 -100.000000 -25.000000  300.000000 -100.000000   33.333333    9.090909\n",
       "1  100.000000 -68.421053   33.333333   36.363636   63.636364  111.764706\n",
       "2   37.931034  23.076923  105.839416  285.714286  117.021277   36.363636\n",
       "3  237.500000  47.540984  127.285714    0.000000  105.839416   74.324324\n",
       "4  187.934211  13.385827  109.768638   55.789474  313.691932  127.642857"
      ]
     },
     "execution_count": 22,
     "metadata": {},
     "output_type": "execute_result"
    }
   ],
   "source": [
    "pd.DataFrame(predictDataByWdfami)"
   ]
  },
  {
   "cell_type": "code",
   "execution_count": 23,
   "metadata": {},
   "outputs": [
    {
     "data": {
      "text/plain": [
       "<matplotlib.axes._subplots.AxesSubplot at 0x1bc5af32860>"
      ]
     },
     "execution_count": 23,
     "metadata": {},
     "output_type": "execute_result"
    },
    {
     "data": {
      "image/png": "[encoded data removed]",
      "text/plain": [
       "<Figure size 432x288 with 1 Axes>"
      ]
     },
     "metadata": {},
     "output_type": "display_data"
    }
   ],
   "source": [
    "FigureData={'ngrams':[],'uswds':[],'wdfami':[]}\n",
    "for i in range(0,5):\n",
    "    FigureData['ngrams'].append(sum([predictDataByNgrams[sty][i] for sty in predictDataByNgrams]))\n",
    "    FigureData['uswds'].append(sum([predictDataByUswds[sty][i] for sty in predictDataByUswds]))\n",
    "    FigureData['wdfami'].append(sum([predictDataByWdfami[sty][i] for sty in predictDataByWdfami]))\n",
    "for typ in FigureData:\n",
    "    tpSum=sum(FigureData[typ])/5\n",
    "    for i in range(0,5):\n",
    "        FigureData[typ][i]/=tpSum\n",
    "pd.DataFrame(FigureData).plot()"
   ]
  },
  {
   "cell_type": "markdown",
   "metadata": {},
   "source": [
    "Figure 1\n",
    "\n",
    "In this figure, the horizontal axis means the length of the predicted text. When it’s zero, length of the text is $e^3$. When it increased by one, the length of the text multiplied by $e$. And the bigger the vertical axis is, higher the prediction accuracy is."
   ]
  },
  {
   "cell_type": "code",
   "execution_count": 24,
   "metadata": {},
   "outputs": [
    {
     "data": {
      "text/plain": [
       "<matplotlib.axes._subplots.AxesSubplot at 0x1bc5b865e80>"
      ]
     },
     "execution_count": 24,
     "metadata": {},
     "output_type": "execute_result"
    },
    {
     "data": {
      "image/png": "[encoded data removed]",
      "text/plain": [
       "<Figure size 432x288 with 1 Axes>"
      ]
     },
     "metadata": {},
     "output_type": "display_data"
    }
   ],
   "source": [
    "FigureData2=[0,0,0,0,0]\n",
    "for sty in FigureData:\n",
    "    for i in range(0,5):\n",
    "        FigureData2[i]+=FigureData[sty][i]/3\n",
    "pd.DataFrame(FigureData2).plot()"
   ]
  },
  {
   "cell_type": "markdown",
   "metadata": {},
   "source": [
    "Figure 2\n",
    "\n",
    "In this figure, the horizontal axis means the length of the predicted text. When it’s zero, length of the text is $e^3$. When it increased by one, the length of the text multiplied by $e$. And the bigger the vertical axis is, higher the prediction accuracy is."
   ]
  },
  {
   "cell_type": "markdown",
   "metadata": {},
   "source": [
    "We can tell from the result that, when the length of the text is below $e^5$, no indicator is able to show the source credible. When the length reaches $e^5$, the indicators uswds and wdfami begin to show the provenance of the sentence. When the length reaches $e^6$, the accuracy of the indicator ngrams increases greatly.<br></br>\n",
    "Moreover, when the length of the input is below $e^5$, the indicators uswds and wdfami are most accurate. And when it’s over $e^6$, the indicator ngrams becomes the best one.<br></br>\n",
    "To the longest inputs, predicted with all three indicators, it’s feasible to determine where the text resource with considerably high accuracy. "
   ]
  },
  {
   "cell_type": "markdown",
   "metadata": {},
   "source": [
    "In this paper, we discussed how the length affects the amount of the text feature contained in a text. We found that to the corpus _The Moonstone_, when the length of the text reached $e^5$, the predict accuracy rate is over 90%. This length could be a suitable minimum length of which the text is able to contain the representative characters of a narrator."
   ]
  },
  {
   "cell_type": "markdown",
   "metadata": {},
   "source": [
    "## Conclusions\n",
    "<br></br>\n",
    "### 1. There's a positive relationship between the length of the text and the amount of features it contains.\n",
    "### 2. There's a certain number, when the length of the text is below that, with length increased, the growth in the amount of features it contains is much more significant. For _The Moonstone_, the number could be $e^5$."
   ]
  }
 ],
 "metadata": {
  "kernelspec": {
   "display_name": "Python 3",
   "language": "python",
   "name": "python3"
  },
  "language_info": {
   "codemirror_mode": {
    "name": "ipython",
    "version": 3
   },
   "file_extension": ".py",
   "mimetype": "text/x-python",
   "name": "python",
   "nbconvert_exporter": "python",
   "pygments_lexer": "ipython3",
   "version": "3.6.6"
  }
 },
 "nbformat": 4,
 "nbformat_minor": 2
}
