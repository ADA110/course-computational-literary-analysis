{
 "cells": [
  {
   "cell_type": "markdown",
   "metadata": {},
   "source": [
    "# \"A Revolution in the Golden Age\": A Compuational Analysis of Character,  Environment, Plot\n",
    "\n",
    "\n",
    "## Ziyi Wang\n",
    "\n",
    "Instructions: \n",
    "\n",
    "1. Replace \"yourname\" in the title of this notebook, and \"your name here\" in the markdown above, with your name.\n",
    "2. Create a title for your final project. Preferably, this should indicate what your argument is. Replace \"your title here\" in the markdown above with your title.\n",
    "3. Write your paper, and include everything (your prose in Markdown, your code, and your figures) in this notebook. Don't include the texts you're analyzing. If you generated your corpus programmatically (i.e. using corpus-db.org or some fancy Python), maybe you'll want to include that in the code somewhere here. Your notebook file (`.ipynb`) will be the only thing you turn in.  \n",
    "3. Annotate your code using markdown cells, and/or comment lines (lines beginning with `#`), explaining why you're doing what you're doing. If one of your functions takes certain parameters, for instance, why did you choose those parameters? \n",
    "3. Prune your notebook of unnecessary or redundant code. Run all your code again, to show that it works as-is. Each code cell should have a number in it, and an output, if applicable. \n",
    "4. Proofread well! If English is not your first language, you might consider making an appointment with [the Writing Center](https://slc.berkeley.edu/appointment-service) to get help polishing the language of your paper. At minimum, you'll want to use a spell checker and maybe even an automatic grammar-checking service like [Grammerly](https://www.grammarly.com/). (Of course, you now have the tools to analyze your own writing, if you want. You can get your markdown text into Python by adapting the word count function below, and use it to analyze your most frequent n-grams!) You might also consider organizing a mutual editing session with classmates.\n",
    "4. Ensure that you have no more than three plots (figures). One figure with several subplots is OK, and counts as one figure.\n",
    "4. If you quote from or reference literary works, or works of criticirm, provide in-text parenthetical citations. Then create a bibliographic entry for each work you cite, and include them at the end. Unless your discipline requires a different format, use [MLA Style](https://style.mla.org/) as the format for your bibliography, and title it \"works cited.\" \n",
    "4. Replace the value of the `filename` variable in the wordcount cell below to the name your file. (E.g., `Jonathan-Final.ipynb`.) Then run the wordcount cell. Ensure that your paper is between 1000 and 2000 words, so it doesn't give you any errors or warnings.  \n",
    "5. Optionally, and for a 5% bonus, add your notebook to the `/Projects` directory of the course repository, and submit it as a pull request. Your project will then become public. \n",
    "6. Email me your `.ipynb` file: jonathan.reeve@columbia.edu. Please email me only your `.ipynb` file, alone and uncompressed. Please don't respond to an existing email, but create a new email, with the subject: `Yourname: Final Project`, replacing `yourname` with your name. Do this regardless of whether you also submit a pull request. \n",
    "7. Celebrate! You've finished your final project, and gloriously completed _Introduction to Computational Literary Analysis_!"
   ]
  },
  {
   "cell_type": "code",
   "execution_count": 1,
   "metadata": {},
   "outputs": [
    {
     "name": "stderr",
     "output_type": "stream",
     "text": [
      "/Users/wzy/anaconda3/lib/python3.6/site-packages/IPython/nbformat.py:13: ShimWarning: The `IPython.nbformat` package has been deprecated since IPython 4.0. You should import from nbformat instead.\n",
      "  \"You should import from nbformat instead.\", ShimWarning)\n",
      "/Users/wzy/anaconda3/lib/python3.6/site-packages/nbformat/current.py:19: UserWarning: nbformat.current is deprecated.\n",
      "\n",
      "- use nbformat for read/write/validate public API\n",
      "- use nbformat.vX directly to composing notebooks of a particular version\n",
      "\n",
      "  \"\"\")\n"
     ]
    }
   ],
   "source": [
    "# Import all your libraries here, and only here, please.\n",
    "import spacy\n",
    "from collections import Counter\n",
    "import pandas as pd\n",
    "import numpy as np\n",
    "from nltk import word_tokenize as tokenize\n",
    "import nltk\n",
    "import matplotlib.pyplot as plt\n",
    "%matplotlib inline\n",
    "from sklearn.feature_extraction.text import CountVectorizer,TfidfVectorizer\n",
    "from sklearn.cluster import KMeans\n",
    "from sklearn.tree import DecisionTreeClassifier\n",
    "from sklearn.decomposition import PCA\n",
    "import macroetym\n",
    "from macroetym import main\n",
    "import os\n",
    "from textblob import TextBlob\n",
    "import pickle\n",
    "# Don't remove this line. It's necessary for the wordcount function \n",
    "# below to work. \n",
    "from IPython.nbformat import current\n",
    "# This is to make your plots a little bigger.\n",
    "# You may adjust this, but be careful of making your plots too big or too small.\n",
    "import matplotlib.pyplot as plt\n",
    "from wordcloud import WordCloud   #词云库\n",
    "plt.rcParams['figure.figsize'] = [10, 6]"
   ]
  },
  {
   "cell_type": "markdown",
   "metadata": {},
   "source": [
    "## 1 Background \n",
    "To begin with, we will provide a brief background on the development of detective novel. Many litterateurs suppose that the history of the detective novel can be divided into three stages. The first stage is from 1841 to 1911, which is the early stage of the detective novel. The second stage is from 1912 to 1945, which It is also called The Golden ages. Ellery Queen John Dickson Carr and Agatha Christie are the three most famous writer of this period, they are also called “The big three”. The detective novel in the first two periods is regarded as the classical detective novel, while the detective novel in the third period is commonly called hard-boiled detective novel.\n",
    "<br><br>\n",
    "The Golden Age of classical detective fiction is one of the most important phases in the development of detective novels. It is different from the early detective novel. Therefore, the paper makes a detailed discussion about the difference between the early detective novel and the golden age detective novel from the perspective of \n",
    "the figures, the environment and plot which are the three most necessary element in a novel. "
   ]
  },
  {
   "cell_type": "markdown",
   "metadata": {},
   "source": [
    "## 2 Corpus"
   ]
  },
  {
   "cell_type": "markdown",
   "metadata": {},
   "source": [
    "\n",
    "Due to the limitation of the computer memory, only four early detective and golden age detective novel are included in the corpus, but they are all the typical novel which are distinctively characteristic of their period. Selection rules are as follow:\n",
    "- are more than 50000 words\n",
    "- are included in “Julian Symons Top 100 Crime and Mystery Novels”\n",
    "- are not the novel in the transitional period\n",
    "\n",
    "\n"
   ]
  },
  {
   "cell_type": "code",
   "execution_count": 2,
   "metadata": {
    "collapsed": true
   },
   "outputs": [],
   "source": [
    "def file_name(file_dir,file_type):   \n",
    "#Get all txt file\n",
    "    L=[]   \n",
    "    for root, dirs, files in os.walk(file_dir):  \n",
    "        for file in files:  \n",
    "            if os.path.splitext(file)[1] == file_type:  \n",
    "                # L.append(os.path.join(root, file))  \n",
    "                file_name = file[0:-4]  #去掉.txt\n",
    "                L.append(file)  \n",
    "    return L"
   ]
  },
  {
   "cell_type": "code",
   "execution_count": 3,
   "metadata": {
    "collapsed": true
   },
   "outputs": [],
   "source": [
    "#Get file name\n",
    "file_dir='new_corpus/'\n",
    "file_type='.txt'\n",
    "file_list=file_name(file_dir,file_type)\n",
    "first_list=[file for file in file_list if file[0]=='1']\n",
    "second_list=[file for file in file_list if file[0]=='2']"
   ]
  },
  {
   "cell_type": "code",
   "execution_count": 4,
   "metadata": {},
   "outputs": [],
   "source": [
    "file_name1=[file[:-4] for file in first_list]\n",
    "file_name2=[file[:-4] for file in second_list]"
   ]
  },
  {
   "cell_type": "code",
   "execution_count": 5,
   "metadata": {},
   "outputs": [
    {
     "data": {
      "text/html": [
       "<div>\n",
       "<style>\n",
       "    .dataframe thead tr:only-child th {\n",
       "        text-align: right;\n",
       "    }\n",
       "\n",
       "    .dataframe thead th {\n",
       "        text-align: left;\n",
       "    }\n",
       "\n",
       "    .dataframe tbody tr th {\n",
       "        vertical-align: top;\n",
       "    }\n",
       "</style>\n",
       "<table border=\"1\" class=\"dataframe\">\n",
       "  <thead>\n",
       "    <tr style=\"text-align: right;\">\n",
       "      <th></th>\n",
       "      <th>0</th>\n",
       "      <th>1</th>\n",
       "    </tr>\n",
       "  </thead>\n",
       "  <tbody>\n",
       "    <tr>\n",
       "      <th>0</th>\n",
       "      <td>1The Hound of the Baskervilles</td>\n",
       "      <td>2The Pit Prop Syndicate</td>\n",
       "    </tr>\n",
       "    <tr>\n",
       "      <th>1</th>\n",
       "      <td>1The Moonstone</td>\n",
       "      <td>2The Three Coffins</td>\n",
       "    </tr>\n",
       "    <tr>\n",
       "      <th>2</th>\n",
       "      <td>1The Mystery of a Hansom Cab</td>\n",
       "      <td>2Murder Of Roger Ackroyd By Agatha Christie</td>\n",
       "    </tr>\n",
       "    <tr>\n",
       "      <th>3</th>\n",
       "      <td>1The Mystery of Orcival</td>\n",
       "      <td>2The Greek Coffin Mystery</td>\n",
       "    </tr>\n",
       "  </tbody>\n",
       "</table>\n",
       "</div>"
      ],
      "text/plain": [
       "                                0                                            1\n",
       "0  1The Hound of the Baskervilles                      2The Pit Prop Syndicate\n",
       "1                  1The Moonstone                           2The Three Coffins\n",
       "2    1The Mystery of a Hansom Cab  2Murder Of Roger Ackroyd By Agatha Christie\n",
       "3         1The Mystery of Orcival                    2The Greek Coffin Mystery"
      ]
     },
     "execution_count": 5,
     "metadata": {},
     "output_type": "execute_result"
    }
   ],
   "source": [
    "pd.DataFrame([file_name1,file_name2]).T"
   ]
  },
  {
   "cell_type": "markdown",
   "metadata": {},
   "source": [
    "## 3 Character\n",
    "Hypothesis:\n",
    "- the golden age detective novel pay more effort to character creation.\n",
    "- the major character image of the golden age detective novel is more rational than that of the early detective novel."
   ]
  },
  {
   "cell_type": "markdown",
   "metadata": {},
   "source": [
    "The vivid character is the main features of the golden age. Compared to the early detective novel, the writers in the golden age paid more attention to Character creation and gave a vivid description of many distinctive characters. Ellery, the major character of The Greek Coffin Mystery, gives the reader a strong impression because of his frankness and talent. Meanwhile, Agatha Christie’s Poirot and John Dickson Carr’s Dr. Fell all become a well-known public hero. This part discusses the character image and Character creation method in the golden age.<br><br>\n",
    "Speaking of the character image, the major character who are in the golden age detective novel has similar features. They tend to find out the criminal through logical reasoning, science, and psychoanalysis. In the majority of the golden age detective novel, the detective will give the very careful process of reasoning, which can reassure the reader. While the original novel commonly figures out the truth by accident or the intuition of the detective. A typical example is that Cuff(the detective in _The Moonstone_) write the criminal’s name on one envelope. In the end, his judgment is correct, but he did not give any interpretation of his judgment. "
   ]
  },
  {
   "cell_type": "markdown",
   "metadata": {},
   "source": [
    "### 3.2 Computational analysis"
   ]
  },
  {
   "cell_type": "markdown",
   "metadata": {},
   "source": [
    "### 3.2.1 Analysis process"
   ]
  },
  {
   "cell_type": "markdown",
   "metadata": {
    "collapsed": true
   },
   "source": [
    "![Aaron Swartz](https://raw.githubusercontent.com/wangziyi2016/Text-analize/master/process.png)"
   ]
  },
  {
   "cell_type": "markdown",
   "metadata": {},
   "source": [
    "#### 3.2.2 Preparatory work"
   ]
  },
  {
   "cell_type": "code",
   "execution_count": 6,
   "metadata": {
    "collapsed": true
   },
   "outputs": [],
   "source": [
    "def cutoverlenth(label_list,text_list):\n",
    "#Sometimes the novel is too long for Spacy, so I cut it into two parts\n",
    "    new_label=[]\n",
    "    new_text=[]\n",
    "    for (j,i) in zip(label_list,text_list):\n",
    "        if len(i)>1000000:\n",
    "            new_text.append(i[:500000])\n",
    "            new_text.append(i[500000:])\n",
    "            new_label.append(j[:-4]+str(1)+j[-4:])\n",
    "            new_label.append(j[:-4]+str(2)+j[-4:])\n",
    "        else:\n",
    "            new_text.append(i)\n",
    "            new_label.append(j)\n",
    "    return new_label,new_text"
   ]
  },
  {
   "cell_type": "markdown",
   "metadata": {},
   "source": [
    "Read the text from my computer"
   ]
  },
  {
   "cell_type": "code",
   "execution_count": 7,
   "metadata": {
    "collapsed": true
   },
   "outputs": [],
   "source": [
    "#read the txt file\n",
    "target_text1=[open(file_dir+file).read() for file in first_list]\n",
    "target_text2=[open(file_dir+file).read() for file in second_list]\n",
    "target_text3=[open(file_dir+file).read() for file in file_list]"
   ]
  },
  {
   "cell_type": "markdown",
   "metadata": {},
   "source": [
    "Sometimes the novels are too long for Spacy, so I cut them into two parts"
   ]
  },
  {
   "cell_type": "code",
   "execution_count": 8,
   "metadata": {
    "collapsed": true
   },
   "outputs": [],
   "source": [
    "spacy_list2,spacy_text2=cutoverlenth(second_list,target_text2)\n",
    "spacy_list1,spacy_text1=cutoverlenth(first_list,target_text1)"
   ]
  },
  {
   "cell_type": "markdown",
   "metadata": {},
   "source": [
    "Transforming string to nlp data structure can cost a lot of time, So I save it as pkl file, and I only need to reload them every times I want to use them."
   ]
  },
  {
   "cell_type": "code",
   "execution_count": 9,
   "metadata": {
    "collapsed": true
   },
   "outputs": [],
   "source": [
    "nlp = spacy.load('en') "
   ]
  },
  {
   "cell_type": "code",
   "execution_count": 10,
   "metadata": {},
   "outputs": [],
   "source": [
    "#function nlp() can costs large amout of time, So I save it.\n",
    "dr='new_corpus/'\n",
    "nlp1=[]\n",
    "for name in spacy_list1:\n",
    "    pkl_file = open(dr+name[:-4]+'.pkl', 'rb')\n",
    "    data1 = pickle.load(pkl_file)\n",
    "    pkl_file.close()\n",
    "    nlp1.append(data1)"
   ]
  },
  {
   "cell_type": "code",
   "execution_count": 11,
   "metadata": {
    "collapsed": true
   },
   "outputs": [],
   "source": [
    "nlp2=[]\n",
    "for name in spacy_list2:\n",
    "    pkl_file = open(dr+name[:-4]+'.pkl', 'rb')\n",
    "    data1 = pickle.load(pkl_file)\n",
    "    pkl_file.close()\n",
    "    nlp2.append(data1)"
   ]
  },
  {
   "cell_type": "markdown",
   "metadata": {},
   "source": [
    "#### 3.2.3 Select the sentences that contain character's name and count _the character ratio_\n",
    "To focus on the major character creation, the First step is to find the words that related to the major character. We list all the major character's name and go through every sentence to select the sentences that contain a major character's name. Secondly, I create a ratio index to measure how much sentences the writer spend on the major character. The definition is as follow：\n",
    "$$ R_{c}=\\frac{n}{N}$$\n",
    "where n and N denote the number of sentences that contain the name of the character and the total number of the sentences, respectively."
   ]
  },
  {
   "cell_type": "code",
   "execution_count": 12,
   "metadata": {
    "collapsed": true
   },
   "outputs": [],
   "source": [
    "def select_name(text1,name_list):\n",
    "#Find the sentence that contains the major character's name\n",
    "    sent_list=nltk.sent_tokenize(text1)\n",
    "    name_sentence=[]\n",
    "    for sent in sent_list:\n",
    "        for name in name_list:\n",
    "            if name in sent:\n",
    "                name_sentence.append(sent)\n",
    "                break\n",
    "    return len(name_sentence)/len(sent_list),name_sentence"
   ]
  },
  {
   "cell_type": "markdown",
   "metadata": {},
   "source": [
    "Form a dictionary of the name of major charachter"
   ]
  },
  {
   "cell_type": "code",
   "execution_count": 13,
   "metadata": {
    "collapsed": true
   },
   "outputs": [],
   "source": [
    "name_lists1={'1The Hound of the Baskervilles':['Holmes'],\n",
    "            \"1The Moonstone\":['Cuff','Sergeant'],\n",
    "            \"1The Mystery of a Hansom Cab\":['Calton'],\n",
    "            \"1The Mystery of Orcival\":['Lecoq']}\n",
    "name_lists2={\"2The Pit Prop Syndicate\":['Merriman']\n",
    "             ,\"2The Greek Coffin Mystery\":['Ellery'],\n",
    "             \"2Murder Of Roger Ackroyd By Agatha Christie\":['Poirot'],\n",
    "             \"2The Three Coffins\":['Dr','doctor','Fell']}"
   ]
  },
  {
   "cell_type": "markdown",
   "metadata": {},
   "source": [
    "Count the character ratio\n"
   ]
  },
  {
   "cell_type": "code",
   "execution_count": 14,
   "metadata": {
    "collapsed": true
   },
   "outputs": [],
   "source": [
    "ratio1=[]\n",
    "t_list1=[]\n",
    "for (file_name,text1) in zip(first_list,target_text1):\n",
    "    name=name_lists1[file_name[0:-4]]\n",
    "    ratio,name_list=select_name(text1,name)\n",
    "    ratio1.append(ratio)\n",
    "    t_list1.append(name_list)\n",
    "\n"
   ]
  },
  {
   "cell_type": "code",
   "execution_count": 15,
   "metadata": {
    "collapsed": true
   },
   "outputs": [],
   "source": [
    "ratio2=[]\n",
    "t_list2=[]\n",
    "for (file_name,text2) in zip(second_list,target_text2):\n",
    "    name=name_lists2[file_name[0:-4]]\n",
    "    ratio,name_list=select_name(text2,name)\n",
    "    ratio2.append(ratio)\n",
    "    t_list2.append(name_list)\n",
    "\n",
    "\n"
   ]
  },
  {
   "cell_type": "code",
   "execution_count": 16,
   "metadata": {
    "collapsed": true
   },
   "outputs": [],
   "source": [
    "def ratio_dic(file_list,ratio_list):\n",
    "    ratio_dic={}\n",
    "    for name,ratio in zip(file_list,ratio_list):\n",
    "        ratio_dic[name[0:-4]]=ratio\n",
    "    return ratio_dic"
   ]
  },
  {
   "cell_type": "markdown",
   "metadata": {},
   "source": [
    "Plot the character ratio in different period "
   ]
  },
  {
   "cell_type": "code",
   "execution_count": 17,
   "metadata": {},
   "outputs": [
    {
     "data": {
      "image/png": "[encoded data removed]",
      "text/plain": [
       "<matplotlib.figure.Figure at 0x1a2cae3c18>"
      ]
     },
     "metadata": {},
     "output_type": "display_data"
    }
   ],
   "source": [
    "x1=np.linspace(1,len(first_list),len(first_list))\n",
    "x2=np.linspace(len(first_list)+1,len(first_list)+len(second_list),len(second_list))\n",
    "plt.bar(x1,ratio1,1, color=\"blue\",alpha=0.6,label='The original detective novel')  \n",
    "plt.bar(x2,ratio2,1, color=\"yellow\",alpha=0.6,label='The golden detective novel')  \n",
    "plt.xlabel(\"novel\")  #设置X轴Y轴名称  \n",
    "plt.ylabel(\"major character ratio\")  \n",
    "plt.title(\"The major character ratio in different period \")\n",
    "plt.legend()\n",
    "plt.tight_layout()\n",
    "plt.show()"
   ]
  },
  {
   "cell_type": "markdown",
   "metadata": {},
   "source": [
    "##### Analysis:"
   ]
  },
  {
   "cell_type": "markdown",
   "metadata": {},
   "source": [
    "As is shown in the chart, the character ratio in the golden age detective novel is strictly higher than that of the original detective novel. It verifies the first hypothesis that the golden age detective novel spends more effort on the character creation.\n"
   ]
  },
  {
   "cell_type": "markdown",
   "metadata": {},
   "source": [
    "#### 3.2.4Find the keywords of the major character\n",
    "The adjective and adverb are the significant words to the character's feature. I try to use the tree sentence model to find the children of characters' name, but the sentence structure in the detective novel is too difficult for Spacy to analyze. So I choose a simpler way to solve this problem. I pick out all the adjective and adverb in the sentences that contain a major character's name. However, the selected words are too much and too complicated to analyze. I classify the words into many groups by clustering analysis and find the central words to be the keywords of the major character"
   ]
  },
  {
   "cell_type": "code",
   "execution_count": 18,
   "metadata": {
    "collapsed": true
   },
   "outputs": [],
   "source": [
    "def adjectives_around_characters(sents,stop_list):\n",
    "    #Find the adjectives and adverbs around the major character\n",
    "    word_list = []\n",
    "    vector_list= []\n",
    "    for sent1 in sents: \n",
    "        sent=nlp(sent1)\n",
    "        for word in sent:\n",
    "            #print(word,word.pos_)\n",
    "            if word.pos_ in ['ADJ','ADV']: \n",
    "                if word.text.lower() not in stop_list :\n",
    "                    vector_list.append(word.vector)\n",
    "                    word_list.append(word.string)\n",
    "    return word_list,vector_list"
   ]
  },
  {
   "cell_type": "code",
   "execution_count": 19,
   "metadata": {
    "collapsed": true
   },
   "outputs": [],
   "source": [
    "def k_cluster(vector_list,n_clusters1=10,random_state=1):\n",
    "    #Set up the k-mean cluster model\n",
    "    data = np.array(vector_list) \n",
    "    estimator = KMeans(n_clusters=n_clusters1,random_state=random_state)#构造聚类器\n",
    "    estimator.fit(data)\n",
    "    centroids = estimator.cluster_centers_ \n",
    "    label_pred = estimator.labels_ \n",
    "    return label_pred,centroids"
   ]
  },
  {
   "cell_type": "code",
   "execution_count": 20,
   "metadata": {
    "collapsed": true
   },
   "outputs": [],
   "source": [
    "def find_centeral_words(centroids,word_list,vector_list):\n",
    "    '''Find the word whose word vector is the most similar to the \n",
    "    center of clustering'''\n",
    "    mind=100\n",
    "    index1=0\n",
    "    index_list=[]\n",
    "    for center in centroids:\n",
    "        mind=100\n",
    "        i=0\n",
    "        for vector1 in vector_list:\n",
    "            delta=vector1-center\n",
    "            a=np.dot(delta,delta)\n",
    "            if mind>a:\n",
    "                mind=a\n",
    "                index1=i\n",
    "            i+=1\n",
    "        index_list.append(index1)\n",
    "    central_word=[word_list[index1] for index1 in index_list]\n",
    "    return central_word\n",
    "        "
   ]
  },
  {
   "cell_type": "markdown",
   "metadata": {},
   "source": [
    "#### Load stop words"
   ]
  },
  {
   "cell_type": "code",
   "execution_count": 21,
   "metadata": {
    "collapsed": true
   },
   "outputs": [],
   "source": [
    "stop_words=open('stop_words.txt').read()\n",
    "stop_list= stop_words.split('\\n')"
   ]
  },
  {
   "cell_type": "code",
   "execution_count": 22,
   "metadata": {
    "collapsed": true
   },
   "outputs": [],
   "source": [
    "cluster_rate=60"
   ]
  },
  {
   "cell_type": "code",
   "execution_count": 23,
   "metadata": {
    "collapsed": true
   },
   "outputs": [],
   "source": [
    "keywords_dic1={}\n",
    "for (file_name,t_sent) in zip(first_list,t_list1):\n",
    "    name=name_lists1[file_name[0:-4]]\n",
    "    word_list,vector_list=adjectives_around_characters(t_sent,stop_list)\n",
    "    n_clusters=int(len(vector_list)/cluster_rate)\n",
    "    if n_clusters<8:\n",
    "        n_clusters=8\n",
    "    label_list,centroids=k_cluster(vector_list,n_clusters,3)\n",
    "    central_word=find_centeral_words(centroids,word_list,vector_list)\n",
    "    keywords_dic1[name[0]]=central_word"
   ]
  },
  {
   "cell_type": "code",
   "execution_count": 24,
   "metadata": {
    "collapsed": true
   },
   "outputs": [],
   "source": [
    "keywords_dic2={}\n",
    "for (file_name,t_sent) in zip(second_list,t_list2):\n",
    "    name=name_lists2[file_name[0:-4]]\n",
    "    word_list,vector_list=adjectives_around_characters(t_sent,stop_list)\n",
    "    n_clusters=int(len(vector_list)/cluster_rate)\n",
    "    if n_clusters<8:\n",
    "        n_clusters=8\n",
    "    label_list,centroids=k_cluster(vector_list,n_clusters,6)\n",
    "    central_word=find_centeral_words(centroids,word_list,vector_list)\n",
    "    keywords_dic2[name[0]]=central_word"
   ]
  },
  {
   "cell_type": "markdown",
   "metadata": {},
   "source": [
    "##### Put the keywords into DataFrame"
   ]
  },
  {
   "cell_type": "code",
   "execution_count": 25,
   "metadata": {
    "collapsed": true
   },
   "outputs": [],
   "source": [
    "def same_lenth(tar_dic):\n",
    "#make every list in the dictionary same lenth\n",
    "    maxlenth=max([len(tar_dic[words]) for words in tar_dic])\n",
    "    for name in tar_dic:\n",
    "        words=tar_dic[name]\n",
    "        lenth=len(words)\n",
    "        if lenth<maxlenth:\n",
    "            num=maxlenth-lenth\n",
    "            for i in range(num):\n",
    "                words.append(' ')\n",
    "            tar_dic[name]=words   \n",
    "    return tar_dic"
   ]
  },
  {
   "cell_type": "code",
   "execution_count": 26,
   "metadata": {
    "collapsed": true
   },
   "outputs": [],
   "source": [
    "def color_yellow1(val):\n",
    "    \"\"\"\n",
    "    Takes a scalar and returns a string with\n",
    "    the css property `'color: red'` for negative\n",
    "    strings, black otherwise.\n",
    "    \"\"\"\n",
    "    target_list=['dramatic ','persistent ']\n",
    "    color = 'yellow' if val in target_list else 'white'\n",
    "    return 'background-color: %s' % color\n"
   ]
  },
  {
   "cell_type": "code",
   "execution_count": 27,
   "metadata": {
    "collapsed": true
   },
   "outputs": [],
   "source": [
    "def color_yellow2(val):\n",
    "    \"\"\"\n",
    "    Takes a scalar and returns a string with\n",
    "    the css property `'color: red'` for negative\n",
    "    strings, black otherwise.\n",
    "    \"\"\"\n",
    "    target_list=['scientific ','forcibly']\n",
    "    color = 'yellow' if val in target_list else 'white'\n",
    "    return 'background-color: %s' % color\n",
    "\n"
   ]
  },
  {
   "cell_type": "markdown",
   "metadata": {},
   "source": [
    "#### The keywords for the major character in the original detective novel"
   ]
  },
  {
   "cell_type": "code",
   "execution_count": 28,
   "metadata": {},
   "outputs": [
    {
     "data": {
      "text/html": [
       "<style  type=\"text/css\" >\n",
       "    #T_13f93412_9d02_11e8_b8b9_9801a7d6a3d7row0_col0 {\n",
       "            background-color:  white;\n",
       "        }    #T_13f93412_9d02_11e8_b8b9_9801a7d6a3d7row0_col1 {\n",
       "            background-color:  white;\n",
       "        }    #T_13f93412_9d02_11e8_b8b9_9801a7d6a3d7row0_col2 {\n",
       "            background-color:  white;\n",
       "        }    #T_13f93412_9d02_11e8_b8b9_9801a7d6a3d7row0_col3 {\n",
       "            background-color:  white;\n",
       "        }    #T_13f93412_9d02_11e8_b8b9_9801a7d6a3d7row1_col0 {\n",
       "            background-color:  white;\n",
       "        }    #T_13f93412_9d02_11e8_b8b9_9801a7d6a3d7row1_col1 {\n",
       "            background-color:  white;\n",
       "        }    #T_13f93412_9d02_11e8_b8b9_9801a7d6a3d7row1_col2 {\n",
       "            background-color:  yellow;\n",
       "        }    #T_13f93412_9d02_11e8_b8b9_9801a7d6a3d7row1_col3 {\n",
       "            background-color:  white;\n",
       "        }    #T_13f93412_9d02_11e8_b8b9_9801a7d6a3d7row2_col0 {\n",
       "            background-color:  white;\n",
       "        }    #T_13f93412_9d02_11e8_b8b9_9801a7d6a3d7row2_col1 {\n",
       "            background-color:  white;\n",
       "        }    #T_13f93412_9d02_11e8_b8b9_9801a7d6a3d7row2_col2 {\n",
       "            background-color:  white;\n",
       "        }    #T_13f93412_9d02_11e8_b8b9_9801a7d6a3d7row2_col3 {\n",
       "            background-color:  white;\n",
       "        }    #T_13f93412_9d02_11e8_b8b9_9801a7d6a3d7row3_col0 {\n",
       "            background-color:  white;\n",
       "        }    #T_13f93412_9d02_11e8_b8b9_9801a7d6a3d7row3_col1 {\n",
       "            background-color:  white;\n",
       "        }    #T_13f93412_9d02_11e8_b8b9_9801a7d6a3d7row3_col2 {\n",
       "            background-color:  white;\n",
       "        }    #T_13f93412_9d02_11e8_b8b9_9801a7d6a3d7row3_col3 {\n",
       "            background-color:  white;\n",
       "        }    #T_13f93412_9d02_11e8_b8b9_9801a7d6a3d7row4_col0 {\n",
       "            background-color:  yellow;\n",
       "        }    #T_13f93412_9d02_11e8_b8b9_9801a7d6a3d7row4_col1 {\n",
       "            background-color:  white;\n",
       "        }    #T_13f93412_9d02_11e8_b8b9_9801a7d6a3d7row4_col2 {\n",
       "            background-color:  white;\n",
       "        }    #T_13f93412_9d02_11e8_b8b9_9801a7d6a3d7row4_col3 {\n",
       "            background-color:  white;\n",
       "        }    #T_13f93412_9d02_11e8_b8b9_9801a7d6a3d7row5_col0 {\n",
       "            background-color:  white;\n",
       "        }    #T_13f93412_9d02_11e8_b8b9_9801a7d6a3d7row5_col1 {\n",
       "            background-color:  white;\n",
       "        }    #T_13f93412_9d02_11e8_b8b9_9801a7d6a3d7row5_col2 {\n",
       "            background-color:  white;\n",
       "        }    #T_13f93412_9d02_11e8_b8b9_9801a7d6a3d7row5_col3 {\n",
       "            background-color:  white;\n",
       "        }    #T_13f93412_9d02_11e8_b8b9_9801a7d6a3d7row6_col0 {\n",
       "            background-color:  white;\n",
       "        }    #T_13f93412_9d02_11e8_b8b9_9801a7d6a3d7row6_col1 {\n",
       "            background-color:  white;\n",
       "        }    #T_13f93412_9d02_11e8_b8b9_9801a7d6a3d7row6_col2 {\n",
       "            background-color:  yellow;\n",
       "        }    #T_13f93412_9d02_11e8_b8b9_9801a7d6a3d7row6_col3 {\n",
       "            background-color:  white;\n",
       "        }    #T_13f93412_9d02_11e8_b8b9_9801a7d6a3d7row7_col0 {\n",
       "            background-color:  white;\n",
       "        }    #T_13f93412_9d02_11e8_b8b9_9801a7d6a3d7row7_col1 {\n",
       "            background-color:  white;\n",
       "        }    #T_13f93412_9d02_11e8_b8b9_9801a7d6a3d7row7_col2 {\n",
       "            background-color:  white;\n",
       "        }    #T_13f93412_9d02_11e8_b8b9_9801a7d6a3d7row7_col3 {\n",
       "            background-color:  white;\n",
       "        }</style>  \n",
       "<table id=\"T_13f93412_9d02_11e8_b8b9_9801a7d6a3d7\" > \n",
       "<thead>    <tr> \n",
       "        <th class=\"blank level0\" ></th> \n",
       "        <th class=\"col_heading level0 col0\" >Calton</th> \n",
       "        <th class=\"col_heading level0 col1\" >Cuff</th> \n",
       "        <th class=\"col_heading level0 col2\" >Holmes</th> \n",
       "        <th class=\"col_heading level0 col3\" >Lecoq</th> \n",
       "    </tr></thead> \n",
       "<tbody>    <tr> \n",
       "        <th id=\"T_13f93412_9d02_11e8_b8b9_9801a7d6a3d7level0_row0\" class=\"row_heading level0 row0\" >0</th> \n",
       "        <td id=\"T_13f93412_9d02_11e8_b8b9_9801a7d6a3d7row0_col0\" class=\"data row0 col0\" >actual </td> \n",
       "        <td id=\"T_13f93412_9d02_11e8_b8b9_9801a7d6a3d7row0_col1\" class=\"data row0 col1\" >equal </td> \n",
       "        <td id=\"T_13f93412_9d02_11e8_b8b9_9801a7d6a3d7row0_col2\" class=\"data row0 col2\" >congenial </td> \n",
       "        <td id=\"T_13f93412_9d02_11e8_b8b9_9801a7d6a3d7row0_col3\" class=\"data row0 col3\" >True</td> \n",
       "    </tr>    <tr> \n",
       "        <th id=\"T_13f93412_9d02_11e8_b8b9_9801a7d6a3d7level0_row1\" class=\"row_heading level0 row1\" >1</th> \n",
       "        <td id=\"T_13f93412_9d02_11e8_b8b9_9801a7d6a3d7row1_col0\" class=\"data row1 col0\" >guilty </td> \n",
       "        <td id=\"T_13f93412_9d02_11e8_b8b9_9801a7d6a3d7row1_col1\" class=\"data row1 col1\" >odd </td> \n",
       "        <td id=\"T_13f93412_9d02_11e8_b8b9_9801a7d6a3d7row1_col2\" class=\"data row1 col2\" >dramatic </td> \n",
       "        <td id=\"T_13f93412_9d02_11e8_b8b9_9801a7d6a3d7row1_col3\" class=\"data row1 col3\" >friendly</td> \n",
       "    </tr>    <tr> \n",
       "        <th id=\"T_13f93412_9d02_11e8_b8b9_9801a7d6a3d7level0_row2\" class=\"row_heading level0 row2\" >2</th> \n",
       "        <td id=\"T_13f93412_9d02_11e8_b8b9_9801a7d6a3d7row2_col0\" class=\"data row2 col0\" >dead </td> \n",
       "        <td id=\"T_13f93412_9d02_11e8_b8b9_9801a7d6a3d7row2_col1\" class=\"data row2 col1\" >evergreen </td> \n",
       "        <td id=\"T_13f93412_9d02_11e8_b8b9_9801a7d6a3d7row2_col2\" class=\"data row2 col2\" >infrequent </td> \n",
       "        <td id=\"T_13f93412_9d02_11e8_b8b9_9801a7d6a3d7row2_col3\" class=\"data row2 col3\" >pretentiously </td> \n",
       "    </tr>    <tr> \n",
       "        <th id=\"T_13f93412_9d02_11e8_b8b9_9801a7d6a3d7level0_row3\" class=\"row_heading level0 row3\" >3</th> \n",
       "        <td id=\"T_13f93412_9d02_11e8_b8b9_9801a7d6a3d7row3_col0\" class=\"data row3 col0\" >dead </td> \n",
       "        <td id=\"T_13f93412_9d02_11e8_b8b9_9801a7d6a3d7row3_col1\" class=\"data row3 col1\" >true</td> \n",
       "        <td id=\"T_13f93412_9d02_11e8_b8b9_9801a7d6a3d7row3_col2\" class=\"data row3 col2\" >observed</td> \n",
       "        <td id=\"T_13f93412_9d02_11e8_b8b9_9801a7d6a3d7row3_col3\" class=\"data row3 col3\" >satisfied </td> \n",
       "    </tr>    <tr> \n",
       "        <th id=\"T_13f93412_9d02_11e8_b8b9_9801a7d6a3d7level0_row4\" class=\"row_heading level0 row4\" >4</th> \n",
       "        <td id=\"T_13f93412_9d02_11e8_b8b9_9801a7d6a3d7row4_col0\" class=\"data row4 col0\" >persistent </td> \n",
       "        <td id=\"T_13f93412_9d02_11e8_b8b9_9801a7d6a3d7row4_col1\" class=\"data row4 col1\" >right </td> \n",
       "        <td id=\"T_13f93412_9d02_11e8_b8b9_9801a7d6a3d7row4_col2\" class=\"data row4 col2\" >curious </td> \n",
       "        <td id=\"T_13f93412_9d02_11e8_b8b9_9801a7d6a3d7row4_col3\" class=\"data row4 col3\" >useless</td> \n",
       "    </tr>    <tr> \n",
       "        <th id=\"T_13f93412_9d02_11e8_b8b9_9801a7d6a3d7level0_row5\" class=\"row_heading level0 row5\" >5</th> \n",
       "        <td id=\"T_13f93412_9d02_11e8_b8b9_9801a7d6a3d7row5_col0\" class=\"data row5 col0\" >anxious </td> \n",
       "        <td id=\"T_13f93412_9d02_11e8_b8b9_9801a7d6a3d7row5_col1\" class=\"data row5 col1\" >melancholy </td> \n",
       "        <td id=\"T_13f93412_9d02_11e8_b8b9_9801a7d6a3d7row5_col2\" class=\"data row5 col2\" >infrequent </td> \n",
       "        <td id=\"T_13f93412_9d02_11e8_b8b9_9801a7d6a3d7row5_col3\" class=\"data row5 col3\" >vague </td> \n",
       "    </tr>    <tr> \n",
       "        <th id=\"T_13f93412_9d02_11e8_b8b9_9801a7d6a3d7level0_row6\" class=\"row_heading level0 row6\" >6</th> \n",
       "        <td id=\"T_13f93412_9d02_11e8_b8b9_9801a7d6a3d7row6_col0\" class=\"data row6 col0\" >dead </td> \n",
       "        <td id=\"T_13f93412_9d02_11e8_b8b9_9801a7d6a3d7row6_col1\" class=\"data row6 col1\" >comforting </td> \n",
       "        <td id=\"T_13f93412_9d02_11e8_b8b9_9801a7d6a3d7row6_col2\" class=\"data row6 col2\" >dramatic </td> \n",
       "        <td id=\"T_13f93412_9d02_11e8_b8b9_9801a7d6a3d7row6_col3\" class=\"data row6 col3\" >humble </td> \n",
       "    </tr>    <tr> \n",
       "        <th id=\"T_13f93412_9d02_11e8_b8b9_9801a7d6a3d7level0_row7\" class=\"row_heading level0 row7\" >7</th> \n",
       "        <td id=\"T_13f93412_9d02_11e8_b8b9_9801a7d6a3d7row7_col0\" class=\"data row7 col0\" >desirous </td> \n",
       "        <td id=\"T_13f93412_9d02_11e8_b8b9_9801a7d6a3d7row7_col1\" class=\"data row7 col1\" >capable </td> \n",
       "        <td id=\"T_13f93412_9d02_11e8_b8b9_9801a7d6a3d7row7_col2\" class=\"data row7 col2\" >darting </td> \n",
       "        <td id=\"T_13f93412_9d02_11e8_b8b9_9801a7d6a3d7row7_col3\" class=\"data row7 col3\" >satisfied </td> \n",
       "    </tr></tbody> \n",
       "</table> "
      ],
      "text/plain": [
       "<pandas.io.formats.style.Styler at 0x1a2cae9ac8>"
      ]
     },
     "execution_count": 28,
     "metadata": {},
     "output_type": "execute_result"
    }
   ],
   "source": [
    "pd.DataFrame(same_lenth(keywords_dic1)).style.applymap(\n",
    "    color_yellow1)"
   ]
  },
  {
   "cell_type": "markdown",
   "metadata": {},
   "source": [
    "#### The keywords for  the major character in the golden age detective novel"
   ]
  },
  {
   "cell_type": "code",
   "execution_count": 29,
   "metadata": {},
   "outputs": [
    {
     "data": {
      "text/html": [
       "<style  type=\"text/css\" >\n",
       "    #T_1409ec08_9d02_11e8_b119_9801a7d6a3d7row0_col0 {\n",
       "            background-color:  white;\n",
       "        }    #T_1409ec08_9d02_11e8_b119_9801a7d6a3d7row0_col1 {\n",
       "            background-color:  white;\n",
       "        }    #T_1409ec08_9d02_11e8_b119_9801a7d6a3d7row0_col2 {\n",
       "            background-color:  white;\n",
       "        }    #T_1409ec08_9d02_11e8_b119_9801a7d6a3d7row0_col3 {\n",
       "            background-color:  white;\n",
       "        }    #T_1409ec08_9d02_11e8_b119_9801a7d6a3d7row1_col0 {\n",
       "            background-color:  white;\n",
       "        }    #T_1409ec08_9d02_11e8_b119_9801a7d6a3d7row1_col1 {\n",
       "            background-color:  white;\n",
       "        }    #T_1409ec08_9d02_11e8_b119_9801a7d6a3d7row1_col2 {\n",
       "            background-color:  white;\n",
       "        }    #T_1409ec08_9d02_11e8_b119_9801a7d6a3d7row1_col3 {\n",
       "            background-color:  white;\n",
       "        }    #T_1409ec08_9d02_11e8_b119_9801a7d6a3d7row2_col0 {\n",
       "            background-color:  white;\n",
       "        }    #T_1409ec08_9d02_11e8_b119_9801a7d6a3d7row2_col1 {\n",
       "            background-color:  white;\n",
       "        }    #T_1409ec08_9d02_11e8_b119_9801a7d6a3d7row2_col2 {\n",
       "            background-color:  white;\n",
       "        }    #T_1409ec08_9d02_11e8_b119_9801a7d6a3d7row2_col3 {\n",
       "            background-color:  white;\n",
       "        }    #T_1409ec08_9d02_11e8_b119_9801a7d6a3d7row3_col0 {\n",
       "            background-color:  white;\n",
       "        }    #T_1409ec08_9d02_11e8_b119_9801a7d6a3d7row3_col1 {\n",
       "            background-color:  white;\n",
       "        }    #T_1409ec08_9d02_11e8_b119_9801a7d6a3d7row3_col2 {\n",
       "            background-color:  white;\n",
       "        }    #T_1409ec08_9d02_11e8_b119_9801a7d6a3d7row3_col3 {\n",
       "            background-color:  white;\n",
       "        }    #T_1409ec08_9d02_11e8_b119_9801a7d6a3d7row4_col0 {\n",
       "            background-color:  white;\n",
       "        }    #T_1409ec08_9d02_11e8_b119_9801a7d6a3d7row4_col1 {\n",
       "            background-color:  white;\n",
       "        }    #T_1409ec08_9d02_11e8_b119_9801a7d6a3d7row4_col2 {\n",
       "            background-color:  white;\n",
       "        }    #T_1409ec08_9d02_11e8_b119_9801a7d6a3d7row4_col3 {\n",
       "            background-color:  white;\n",
       "        }    #T_1409ec08_9d02_11e8_b119_9801a7d6a3d7row5_col0 {\n",
       "            background-color:  white;\n",
       "        }    #T_1409ec08_9d02_11e8_b119_9801a7d6a3d7row5_col1 {\n",
       "            background-color:  white;\n",
       "        }    #T_1409ec08_9d02_11e8_b119_9801a7d6a3d7row5_col2 {\n",
       "            background-color:  white;\n",
       "        }    #T_1409ec08_9d02_11e8_b119_9801a7d6a3d7row5_col3 {\n",
       "            background-color:  white;\n",
       "        }    #T_1409ec08_9d02_11e8_b119_9801a7d6a3d7row6_col0 {\n",
       "            background-color:  yellow;\n",
       "        }    #T_1409ec08_9d02_11e8_b119_9801a7d6a3d7row6_col1 {\n",
       "            background-color:  white;\n",
       "        }    #T_1409ec08_9d02_11e8_b119_9801a7d6a3d7row6_col2 {\n",
       "            background-color:  white;\n",
       "        }    #T_1409ec08_9d02_11e8_b119_9801a7d6a3d7row6_col3 {\n",
       "            background-color:  white;\n",
       "        }    #T_1409ec08_9d02_11e8_b119_9801a7d6a3d7row7_col0 {\n",
       "            background-color:  white;\n",
       "        }    #T_1409ec08_9d02_11e8_b119_9801a7d6a3d7row7_col1 {\n",
       "            background-color:  white;\n",
       "        }    #T_1409ec08_9d02_11e8_b119_9801a7d6a3d7row7_col2 {\n",
       "            background-color:  white;\n",
       "        }    #T_1409ec08_9d02_11e8_b119_9801a7d6a3d7row7_col3 {\n",
       "            background-color:  white;\n",
       "        }    #T_1409ec08_9d02_11e8_b119_9801a7d6a3d7row8_col0 {\n",
       "            background-color:  white;\n",
       "        }    #T_1409ec08_9d02_11e8_b119_9801a7d6a3d7row8_col1 {\n",
       "            background-color:  white;\n",
       "        }    #T_1409ec08_9d02_11e8_b119_9801a7d6a3d7row8_col2 {\n",
       "            background-color:  white;\n",
       "        }    #T_1409ec08_9d02_11e8_b119_9801a7d6a3d7row8_col3 {\n",
       "            background-color:  white;\n",
       "        }    #T_1409ec08_9d02_11e8_b119_9801a7d6a3d7row9_col0 {\n",
       "            background-color:  white;\n",
       "        }    #T_1409ec08_9d02_11e8_b119_9801a7d6a3d7row9_col1 {\n",
       "            background-color:  white;\n",
       "        }    #T_1409ec08_9d02_11e8_b119_9801a7d6a3d7row9_col2 {\n",
       "            background-color:  white;\n",
       "        }    #T_1409ec08_9d02_11e8_b119_9801a7d6a3d7row9_col3 {\n",
       "            background-color:  white;\n",
       "        }    #T_1409ec08_9d02_11e8_b119_9801a7d6a3d7row10_col0 {\n",
       "            background-color:  white;\n",
       "        }    #T_1409ec08_9d02_11e8_b119_9801a7d6a3d7row10_col1 {\n",
       "            background-color:  white;\n",
       "        }    #T_1409ec08_9d02_11e8_b119_9801a7d6a3d7row10_col2 {\n",
       "            background-color:  white;\n",
       "        }    #T_1409ec08_9d02_11e8_b119_9801a7d6a3d7row10_col3 {\n",
       "            background-color:  white;\n",
       "        }    #T_1409ec08_9d02_11e8_b119_9801a7d6a3d7row11_col0 {\n",
       "            background-color:  white;\n",
       "        }    #T_1409ec08_9d02_11e8_b119_9801a7d6a3d7row11_col1 {\n",
       "            background-color:  white;\n",
       "        }    #T_1409ec08_9d02_11e8_b119_9801a7d6a3d7row11_col2 {\n",
       "            background-color:  white;\n",
       "        }    #T_1409ec08_9d02_11e8_b119_9801a7d6a3d7row11_col3 {\n",
       "            background-color:  white;\n",
       "        }    #T_1409ec08_9d02_11e8_b119_9801a7d6a3d7row12_col0 {\n",
       "            background-color:  white;\n",
       "        }    #T_1409ec08_9d02_11e8_b119_9801a7d6a3d7row12_col1 {\n",
       "            background-color:  white;\n",
       "        }    #T_1409ec08_9d02_11e8_b119_9801a7d6a3d7row12_col2 {\n",
       "            background-color:  white;\n",
       "        }    #T_1409ec08_9d02_11e8_b119_9801a7d6a3d7row12_col3 {\n",
       "            background-color:  white;\n",
       "        }    #T_1409ec08_9d02_11e8_b119_9801a7d6a3d7row13_col0 {\n",
       "            background-color:  white;\n",
       "        }    #T_1409ec08_9d02_11e8_b119_9801a7d6a3d7row13_col1 {\n",
       "            background-color:  yellow;\n",
       "        }    #T_1409ec08_9d02_11e8_b119_9801a7d6a3d7row13_col2 {\n",
       "            background-color:  white;\n",
       "        }    #T_1409ec08_9d02_11e8_b119_9801a7d6a3d7row13_col3 {\n",
       "            background-color:  white;\n",
       "        }    #T_1409ec08_9d02_11e8_b119_9801a7d6a3d7row14_col0 {\n",
       "            background-color:  white;\n",
       "        }    #T_1409ec08_9d02_11e8_b119_9801a7d6a3d7row14_col1 {\n",
       "            background-color:  white;\n",
       "        }    #T_1409ec08_9d02_11e8_b119_9801a7d6a3d7row14_col2 {\n",
       "            background-color:  white;\n",
       "        }    #T_1409ec08_9d02_11e8_b119_9801a7d6a3d7row14_col3 {\n",
       "            background-color:  white;\n",
       "        }    #T_1409ec08_9d02_11e8_b119_9801a7d6a3d7row15_col0 {\n",
       "            background-color:  white;\n",
       "        }    #T_1409ec08_9d02_11e8_b119_9801a7d6a3d7row15_col1 {\n",
       "            background-color:  white;\n",
       "        }    #T_1409ec08_9d02_11e8_b119_9801a7d6a3d7row15_col2 {\n",
       "            background-color:  white;\n",
       "        }    #T_1409ec08_9d02_11e8_b119_9801a7d6a3d7row15_col3 {\n",
       "            background-color:  white;\n",
       "        }    #T_1409ec08_9d02_11e8_b119_9801a7d6a3d7row16_col0 {\n",
       "            background-color:  white;\n",
       "        }    #T_1409ec08_9d02_11e8_b119_9801a7d6a3d7row16_col1 {\n",
       "            background-color:  white;\n",
       "        }    #T_1409ec08_9d02_11e8_b119_9801a7d6a3d7row16_col2 {\n",
       "            background-color:  white;\n",
       "        }    #T_1409ec08_9d02_11e8_b119_9801a7d6a3d7row16_col3 {\n",
       "            background-color:  white;\n",
       "        }</style>  \n",
       "<table id=\"T_1409ec08_9d02_11e8_b119_9801a7d6a3d7\" > \n",
       "<thead>    <tr> \n",
       "        <th class=\"blank level0\" ></th> \n",
       "        <th class=\"col_heading level0 col0\" >Dr</th> \n",
       "        <th class=\"col_heading level0 col1\" >Ellery</th> \n",
       "        <th class=\"col_heading level0 col2\" >Merriman</th> \n",
       "        <th class=\"col_heading level0 col3\" >Poirot</th> \n",
       "    </tr></thead> \n",
       "<tbody>    <tr> \n",
       "        <th id=\"T_1409ec08_9d02_11e8_b119_9801a7d6a3d7level0_row0\" class=\"row_heading level0 row0\" >0</th> \n",
       "        <td id=\"T_1409ec08_9d02_11e8_b119_9801a7d6a3d7row0_col0\" class=\"data row0 col0\" >retold </td> \n",
       "        <td id=\"T_1409ec08_9d02_11e8_b119_9801a7d6a3d7row0_col1\" class=\"data row0 col1\" >young </td> \n",
       "        <td id=\"T_1409ec08_9d02_11e8_b119_9801a7d6a3d7row0_col2\" class=\"data row0 col2\" >aback</td> \n",
       "        <td id=\"T_1409ec08_9d02_11e8_b119_9801a7d6a3d7row0_col3\" class=\"data row0 col3\" >unimportant</td> \n",
       "    </tr>    <tr> \n",
       "        <th id=\"T_1409ec08_9d02_11e8_b119_9801a7d6a3d7level0_row1\" class=\"row_heading level0 row1\" >1</th> \n",
       "        <td id=\"T_1409ec08_9d02_11e8_b119_9801a7d6a3d7row1_col0\" class=\"data row1 col0\" >exactly </td> \n",
       "        <td id=\"T_1409ec08_9d02_11e8_b119_9801a7d6a3d7row1_col1\" class=\"data row1 col1\" >considerably </td> \n",
       "        <td id=\"T_1409ec08_9d02_11e8_b119_9801a7d6a3d7row1_col2\" class=\"data row1 col2\" >tired </td> \n",
       "        <td id=\"T_1409ec08_9d02_11e8_b119_9801a7d6a3d7row1_col3\" class=\"data row1 col3\" >young </td> \n",
       "    </tr>    <tr> \n",
       "        <th id=\"T_1409ec08_9d02_11e8_b119_9801a7d6a3d7level0_row2\" class=\"row_heading level0 row2\" >2</th> \n",
       "        <td id=\"T_1409ec08_9d02_11e8_b119_9801a7d6a3d7row2_col0\" class=\"data row2 col0\" >Upstairs </td> \n",
       "        <td id=\"T_1409ec08_9d02_11e8_b119_9801a7d6a3d7row2_col1\" class=\"data row2 col1\" >young </td> \n",
       "        <td id=\"T_1409ec08_9d02_11e8_b119_9801a7d6a3d7row2_col2\" class=\"data row2 col2\" >suddenly</td> \n",
       "        <td id=\"T_1409ec08_9d02_11e8_b119_9801a7d6a3d7row2_col3\" class=\"data row2 col3\" >exactly </td> \n",
       "    </tr>    <tr> \n",
       "        <th id=\"T_1409ec08_9d02_11e8_b119_9801a7d6a3d7level0_row3\" class=\"row_heading level0 row3\" >3</th> \n",
       "        <td id=\"T_1409ec08_9d02_11e8_b119_9801a7d6a3d7row3_col0\" class=\"data row3 col0\" >ruddy</td> \n",
       "        <td id=\"T_1409ec08_9d02_11e8_b119_9801a7d6a3d7row3_col1\" class=\"data row3 col1\" >violent </td> \n",
       "        <td id=\"T_1409ec08_9d02_11e8_b119_9801a7d6a3d7row3_col2\" class=\"data row3 col2\" >surprised </td> \n",
       "        <td id=\"T_1409ec08_9d02_11e8_b119_9801a7d6a3d7row3_col3\" class=\"data row3 col3\" >carefully </td> \n",
       "    </tr>    <tr> \n",
       "        <th id=\"T_1409ec08_9d02_11e8_b119_9801a7d6a3d7level0_row4\" class=\"row_heading level0 row4\" >4</th> \n",
       "        <td id=\"T_1409ec08_9d02_11e8_b119_9801a7d6a3d7row4_col0\" class=\"data row4 col0\" >scary </td> \n",
       "        <td id=\"T_1409ec08_9d02_11e8_b119_9801a7d6a3d7row4_col1\" class=\"data row4 col1\" >blind </td> \n",
       "        <td id=\"T_1409ec08_9d02_11e8_b119_9801a7d6a3d7row4_col2\" class=\"data row4 col2\" >unexpected </td> \n",
       "        <td id=\"T_1409ec08_9d02_11e8_b119_9801a7d6a3d7row4_col3\" class=\"data row4 col3\" >nodded </td> \n",
       "    </tr>    <tr> \n",
       "        <th id=\"T_1409ec08_9d02_11e8_b119_9801a7d6a3d7level0_row5\" class=\"row_heading level0 row5\" >5</th> \n",
       "        <td id=\"T_1409ec08_9d02_11e8_b119_9801a7d6a3d7row5_col0\" class=\"data row5 col0\" >Upstairs </td> \n",
       "        <td id=\"T_1409ec08_9d02_11e8_b119_9801a7d6a3d7row5_col1\" class=\"data row5 col1\" >violent </td> \n",
       "        <td id=\"T_1409ec08_9d02_11e8_b119_9801a7d6a3d7row5_col2\" class=\"data row5 col2\" >tired</td> \n",
       "        <td id=\"T_1409ec08_9d02_11e8_b119_9801a7d6a3d7row5_col3\" class=\"data row5 col3\" >busy </td> \n",
       "    </tr>    <tr> \n",
       "        <th id=\"T_1409ec08_9d02_11e8_b119_9801a7d6a3d7level0_row6\" class=\"row_heading level0 row6\" >6</th> \n",
       "        <td id=\"T_1409ec08_9d02_11e8_b119_9801a7d6a3d7row6_col0\" class=\"data row6 col0\" >scientific </td> \n",
       "        <td id=\"T_1409ec08_9d02_11e8_b119_9801a7d6a3d7row6_col1\" class=\"data row6 col1\" >lazily</td> \n",
       "        <td id=\"T_1409ec08_9d02_11e8_b119_9801a7d6a3d7row6_col2\" class=\"data row6 col2\" >quiet </td> \n",
       "        <td id=\"T_1409ec08_9d02_11e8_b119_9801a7d6a3d7row6_col3\" class=\"data row6 col3\" >surprised </td> \n",
       "    </tr>    <tr> \n",
       "        <th id=\"T_1409ec08_9d02_11e8_b119_9801a7d6a3d7level0_row7\" class=\"row_heading level0 row7\" >7</th> \n",
       "        <td id=\"T_1409ec08_9d02_11e8_b119_9801a7d6a3d7row7_col0\" class=\"data row7 col0\" >terrifying</td> \n",
       "        <td id=\"T_1409ec08_9d02_11e8_b119_9801a7d6a3d7row7_col1\" class=\"data row7 col1\" >trifle </td> \n",
       "        <td id=\"T_1409ec08_9d02_11e8_b119_9801a7d6a3d7row7_col2\" class=\"data row7 col2\" >quiet </td> \n",
       "        <td id=\"T_1409ec08_9d02_11e8_b119_9801a7d6a3d7row7_col3\" class=\"data row7 col3\" >thoughtfully</td> \n",
       "    </tr>    <tr> \n",
       "        <th id=\"T_1409ec08_9d02_11e8_b119_9801a7d6a3d7level0_row8\" class=\"row_heading level0 row8\" >8</th> \n",
       "        <td id=\"T_1409ec08_9d02_11e8_b119_9801a7d6a3d7row8_col0\" class=\"data row8 col0\" > </td> \n",
       "        <td id=\"T_1409ec08_9d02_11e8_b119_9801a7d6a3d7row8_col1\" class=\"data row8 col1\" >cockier </td> \n",
       "        <td id=\"T_1409ec08_9d02_11e8_b119_9801a7d6a3d7row8_col2\" class=\"data row8 col2\" >cultured </td> \n",
       "        <td id=\"T_1409ec08_9d02_11e8_b119_9801a7d6a3d7row8_col3\" class=\"data row8 col3\" > </td> \n",
       "    </tr>    <tr> \n",
       "        <th id=\"T_1409ec08_9d02_11e8_b119_9801a7d6a3d7level0_row9\" class=\"row_heading level0 row9\" >9</th> \n",
       "        <td id=\"T_1409ec08_9d02_11e8_b119_9801a7d6a3d7row9_col0\" class=\"data row9 col0\" > </td> \n",
       "        <td id=\"T_1409ec08_9d02_11e8_b119_9801a7d6a3d7row9_col1\" class=\"data row9 col1\" >interesting </td> \n",
       "        <td id=\"T_1409ec08_9d02_11e8_b119_9801a7d6a3d7row9_col2\" class=\"data row9 col2\" >annually </td> \n",
       "        <td id=\"T_1409ec08_9d02_11e8_b119_9801a7d6a3d7row9_col3\" class=\"data row9 col3\" > </td> \n",
       "    </tr>    <tr> \n",
       "        <th id=\"T_1409ec08_9d02_11e8_b119_9801a7d6a3d7level0_row10\" class=\"row_heading level0 row10\" >10</th> \n",
       "        <td id=\"T_1409ec08_9d02_11e8_b119_9801a7d6a3d7row10_col0\" class=\"data row10 col0\" > </td> \n",
       "        <td id=\"T_1409ec08_9d02_11e8_b119_9801a7d6a3d7row10_col1\" class=\"data row10 col1\" >cockier </td> \n",
       "        <td id=\"T_1409ec08_9d02_11e8_b119_9801a7d6a3d7row10_col2\" class=\"data row10 col2\" >dreary</td> \n",
       "        <td id=\"T_1409ec08_9d02_11e8_b119_9801a7d6a3d7row10_col3\" class=\"data row10 col3\" > </td> \n",
       "    </tr>    <tr> \n",
       "        <th id=\"T_1409ec08_9d02_11e8_b119_9801a7d6a3d7level0_row11\" class=\"row_heading level0 row11\" >11</th> \n",
       "        <td id=\"T_1409ec08_9d02_11e8_b119_9801a7d6a3d7row11_col0\" class=\"data row11 col0\" > </td> \n",
       "        <td id=\"T_1409ec08_9d02_11e8_b119_9801a7d6a3d7row11_col1\" class=\"data row11 col1\" >violent </td> \n",
       "        <td id=\"T_1409ec08_9d02_11e8_b119_9801a7d6a3d7row11_col2\" class=\"data row11 col2\" >tired </td> \n",
       "        <td id=\"T_1409ec08_9d02_11e8_b119_9801a7d6a3d7row11_col3\" class=\"data row11 col3\" > </td> \n",
       "    </tr>    <tr> \n",
       "        <th id=\"T_1409ec08_9d02_11e8_b119_9801a7d6a3d7level0_row12\" class=\"row_heading level0 row12\" >12</th> \n",
       "        <td id=\"T_1409ec08_9d02_11e8_b119_9801a7d6a3d7row12_col0\" class=\"data row12 col0\" > </td> \n",
       "        <td id=\"T_1409ec08_9d02_11e8_b119_9801a7d6a3d7row12_col1\" class=\"data row12 col1\" >violent </td> \n",
       "        <td id=\"T_1409ec08_9d02_11e8_b119_9801a7d6a3d7row12_col2\" class=\"data row12 col2\" >unexpected </td> \n",
       "        <td id=\"T_1409ec08_9d02_11e8_b119_9801a7d6a3d7row12_col3\" class=\"data row12 col3\" > </td> \n",
       "    </tr>    <tr> \n",
       "        <th id=\"T_1409ec08_9d02_11e8_b119_9801a7d6a3d7level0_row13\" class=\"row_heading level0 row13\" >13</th> \n",
       "        <td id=\"T_1409ec08_9d02_11e8_b119_9801a7d6a3d7row13_col0\" class=\"data row13 col0\" > </td> \n",
       "        <td id=\"T_1409ec08_9d02_11e8_b119_9801a7d6a3d7row13_col1\" class=\"data row13 col1\" >forcibly</td> \n",
       "        <td id=\"T_1409ec08_9d02_11e8_b119_9801a7d6a3d7row13_col2\" class=\"data row13 col2\" >tired </td> \n",
       "        <td id=\"T_1409ec08_9d02_11e8_b119_9801a7d6a3d7row13_col3\" class=\"data row13 col3\" > </td> \n",
       "    </tr>    <tr> \n",
       "        <th id=\"T_1409ec08_9d02_11e8_b119_9801a7d6a3d7level0_row14\" class=\"row_heading level0 row14\" >14</th> \n",
       "        <td id=\"T_1409ec08_9d02_11e8_b119_9801a7d6a3d7row14_col0\" class=\"data row14 col0\" > </td> \n",
       "        <td id=\"T_1409ec08_9d02_11e8_b119_9801a7d6a3d7row14_col1\" class=\"data row14 col1\" >younger </td> \n",
       "        <td id=\"T_1409ec08_9d02_11e8_b119_9801a7d6a3d7row14_col2\" class=\"data row14 col2\" > </td> \n",
       "        <td id=\"T_1409ec08_9d02_11e8_b119_9801a7d6a3d7row14_col3\" class=\"data row14 col3\" > </td> \n",
       "    </tr>    <tr> \n",
       "        <th id=\"T_1409ec08_9d02_11e8_b119_9801a7d6a3d7level0_row15\" class=\"row_heading level0 row15\" >15</th> \n",
       "        <td id=\"T_1409ec08_9d02_11e8_b119_9801a7d6a3d7row15_col0\" class=\"data row15 col0\" > </td> \n",
       "        <td id=\"T_1409ec08_9d02_11e8_b119_9801a7d6a3d7row15_col1\" class=\"data row15 col1\" >violent </td> \n",
       "        <td id=\"T_1409ec08_9d02_11e8_b119_9801a7d6a3d7row15_col2\" class=\"data row15 col2\" > </td> \n",
       "        <td id=\"T_1409ec08_9d02_11e8_b119_9801a7d6a3d7row15_col3\" class=\"data row15 col3\" > </td> \n",
       "    </tr>    <tr> \n",
       "        <th id=\"T_1409ec08_9d02_11e8_b119_9801a7d6a3d7level0_row16\" class=\"row_heading level0 row16\" >16</th> \n",
       "        <td id=\"T_1409ec08_9d02_11e8_b119_9801a7d6a3d7row16_col0\" class=\"data row16 col0\" > </td> \n",
       "        <td id=\"T_1409ec08_9d02_11e8_b119_9801a7d6a3d7row16_col1\" class=\"data row16 col1\" >temporarily</td> \n",
       "        <td id=\"T_1409ec08_9d02_11e8_b119_9801a7d6a3d7row16_col2\" class=\"data row16 col2\" > </td> \n",
       "        <td id=\"T_1409ec08_9d02_11e8_b119_9801a7d6a3d7row16_col3\" class=\"data row16 col3\" > </td> \n",
       "    </tr></tbody> \n",
       "</table> "
      ],
      "text/plain": [
       "<pandas.io.formats.style.Styler at 0x1a2c8c4f98>"
      ]
     },
     "execution_count": 29,
     "metadata": {},
     "output_type": "execute_result"
    }
   ],
   "source": [
    "pd.DataFrame(same_lenth(keywords_dic2)).style.applymap(\n",
    "    color_yellow2)\n"
   ]
  },
  {
   "cell_type": "markdown",
   "metadata": {},
   "source": [
    "##### Analysis:"
   ]
  },
  {
   "cell_type": "markdown",
   "metadata": {},
   "source": [
    "There are many noticeable words. \"scientific\" is the keywords of Dr. Fell. He is a very knowledgeable person. He always finds out the criminal through some chemical or other scientific experiments. What's more, \"forcibly\" is the keywords of Ellery. He is famous for his strong logical reasoning ability. His reasoning makes readers convinced completely. They all find the criminal through reasoning or knowledge rather than intuition. However, the detective in the original novel behaves oppositely. The keywords for them are emotional and subjective. \"Dramatic\" indicates that the investigation of the detective contains contingency to some extent. The outcomes verified the second hypothesis."
   ]
  },
  {
   "cell_type": "markdown",
   "metadata": {},
   "source": [
    "#### 3.4.5 Sentimental analysis for the sentence that contains the name of the major character\n",
    "To forth prove my hypothesis, I measure the subjectivity of the sentences through sentimental analysis.\n"
   ]
  },
  {
   "cell_type": "code",
   "execution_count": 30,
   "metadata": {
    "collapsed": true
   },
   "outputs": [],
   "source": [
    "def SA_sent_list(sent_list):\n",
    "    blob = [TextBlob(sent) for sent in sent_list]\n",
    "    out=[text.sentiment for text in blob]\n",
    "    subjectivity_out=np.mean(np.array([i[0] for i in out]))\n",
    "    return subjectivity_out"
   ]
  },
  {
   "cell_type": "code",
   "execution_count": 31,
   "metadata": {},
   "outputs": [
    {
     "name": "stdout",
     "output_type": "stream",
     "text": [
      "Average subjectivity of the original detective novel: 0.0545234453713\n",
      "Average subjectivity of the golden age detective novel: 0.0408547590825\n"
     ]
    }
   ],
   "source": [
    "subjectivity_list1=np.array([SA_sent_list(sent_list) \n",
    "                        for sent_list in t_list1])\n",
    "print('Average subjectivity of the original detective novel:'\n",
    "      ,np.mean(np.array([SA_sent_list(sent_list) \n",
    "                        for sent_list in t_list1])))\n",
    "subjectivity_list2=np.array([SA_sent_list(sent_list) \n",
    "                        for sent_list in t_list2])\n",
    "print('Average subjectivity of the golden age detective novel:',np.mean(np.array([SA_sent_list(sent_list) \n",
    "                        for sent_list in t_list2])))\n"
   ]
  },
  {
   "cell_type": "markdown",
   "metadata": {},
   "source": [
    "##### Analysis:"
   ]
  },
  {
   "cell_type": "markdown",
   "metadata": {},
   "source": [
    "The average sujectivity of the golden age dtective novel is significantly lower than that of the earlier detective novel，which means the detective in the golden age investigate the case more objectively. It verified the second hypothesis from another aspect."
   ]
  },
  {
   "cell_type": "markdown",
   "metadata": {},
   "source": [
    "## 4 Environment "
   ]
  },
  {
   "cell_type": "markdown",
   "metadata": {},
   "source": [
    "Hypothesis:\n",
    "- There is less scene change in the golden age detective novel.\n"
   ]
  },
  {
   "cell_type": "markdown",
   "metadata": {},
   "source": [
    "I find that he golden age detective story often fell into the “country house” or “locked room” and other limited place. As a result, they have less scence change."
   ]
  },
  {
   "cell_type": "markdown",
   "metadata": {},
   "source": [
    "#### 4.1 Find place's name and count _the GPE ratio_\n",
    "The scene change is always accompany by place change. So, I set a ratio index to measure the frequency of scene change. The defination is as follow：\n",
    "$$ R_{G}=\\frac{P}{Q}$$\n",
    "where P and Q denote the number of GPE and the total number of tokens, respectively.\n"
   ]
  },
  {
   "cell_type": "code",
   "execution_count": 32,
   "metadata": {
    "collapsed": true
   },
   "outputs": [],
   "source": [
    "def place1(text_list):\n",
    "    len_list=[]\n",
    "    for text in text_list:\n",
    "        word_gpe=[word.text for word in text if word.ent_type_=='GPE' \n",
    "                  and '\\n' not in word.text and ' ' not in word.text ]\n",
    "        len_list.append(len(word_gpe))\n",
    "    return len_list"
   ]
  },
  {
   "cell_type": "code",
   "execution_count": 33,
   "metadata": {
    "collapsed": true
   },
   "outputs": [],
   "source": [
    "gpe1=place1(nlp1)\n",
    "gpe2=place1(nlp2)\n",
    "len_list1=[len(text_nlp) for text_nlp in nlp1]\n",
    "len_list2=[len(text_nlp) for text_nlp in nlp2]"
   ]
  },
  {
   "cell_type": "code",
   "execution_count": 34,
   "metadata": {
    "collapsed": true
   },
   "outputs": [],
   "source": [
    "#I cut some the novels into two parts. They are supposed to be combined now\n",
    "total_gpe1=[gpe1[0],gpe1[1]+gpe1[2],gpe1[3],gpe1[4]]\n",
    "total_gpe2=[gpe2[0]+gpe2[1],gpe2[2],gpe2[3],gpe2[4]]\n",
    "total_len1=[len_list1[0],len_list1[1]+len_list1[2],\n",
    "            len_list1[3],len_list1[4]]\n",
    "total_len2=[len_list2[0]+len_list2[1],len_list2[2]\n",
    "            ,len_list2[3],len_list2[4]]\n",
    "gpe_ratio1=[gpe/len1 for (gpe,len1) in zip(total_gpe1,total_len1)]\n",
    "gpe_ratio2=[gpe/len1 for (gpe,len1) in zip(total_gpe2,total_len2)]"
   ]
  },
  {
   "cell_type": "code",
   "execution_count": 35,
   "metadata": {},
   "outputs": [
    {
     "data": {
      "image/png": "[encoded data removed]",
      "text/plain": [
       "<matplotlib.figure.Figure at 0x1a2c9266d8>"
      ]
     },
     "metadata": {},
     "output_type": "display_data"
    }
   ],
   "source": [
    "plt.bar(x1,gpe_ratio1,1, color=\"blue\",alpha=0.6,label='classical ')  \n",
    "plt.bar(x2,gpe_ratio2,1, color=\"yellow\",alpha=0.6,label='golden age')  \n",
    "plt.xlabel(\"novel\")  #设置X轴Y轴名称  \n",
    "plt.ylabel(\"The GPE ratio\")  \n",
    "plt.title(\"The GPE ratio in different period \")\n",
    "plt.legend()\n",
    "plt.tight_layout()\n",
    "plt.show()"
   ]
  },
  {
   "cell_type": "markdown",
   "metadata": {},
   "source": [
    "##### Analysis:"
   ]
  },
  {
   "cell_type": "markdown",
   "metadata": {
    "collapsed": true
   },
   "source": [
    "As it shown in the chart, The GPE ratios of the golden age detective novel are significantly higher than that of the early detective novel. It verified the hythposs. But,Why the writer prefer limited space and use less scene change? I need to further study it through close reading."
   ]
  },
  {
   "cell_type": "markdown",
   "metadata": {
    "collapsed": true
   },
   "source": [
    "#### 4.2 Close Reading"
   ]
  },
  {
   "cell_type": "markdown",
   "metadata": {},
   "source": [
    "_On this particular night our guests were Miss Gannett and Colonel Carter, who lives near the church. A good deal of gossip is handed round at these evenings, sometimes seriously interfering with the game in progress. We used to play bridge - chatty bridge of the worst description...We sat round the table. For some five minutes there was complete silence, owing to the fact that there is tremendous secret competition amongst us as to who can build their wall quickest._ (_The Murder Of Roger Ackroyd_ Agatha Christie 2865 )"
   ]
  },
  {
   "cell_type": "markdown",
   "metadata": {},
   "source": [
    "The excerpt above describes a nomal Mah Jong party in the King's Abbot(a isolated village). People from all walks of life gather in a limited place reaonabley and exchange information with each other.  Agatha Christie the reveals the contradiction between the character and show some information and clues to promote the development of the plot through the party. Similar party sence is very common in the works of Agatha Christie. From the anlysis to the works of Agatha Christie's works, I think that the reason why the golden age detective story often fell into the limited space is as follow:\n",
    "Firstly, Less scence change make the reader easy to understand the story. The plots in the detective is often very complex, so if differnt scenarios the happens in different place, it will make the reader comfused. Secondly, it make the plot more compact because the novel don't have to spend a lot words on introducing different places and why the character transport to another place. The compact plot make keep interest to the novel all the time."
   ]
  },
  {
   "cell_type": "code",
   "execution_count": 36,
   "metadata": {},
   "outputs": [
    {
     "data": {
      "text/plain": [
       "['2The Pit Prop Syndicate.txt',\n",
       " '2The Three Coffins.txt',\n",
       " '2Murder Of Roger Ackroyd By Agatha Christie.txt',\n",
       " '2The Greek Coffin Mystery.txt']"
      ]
     },
     "execution_count": 36,
     "metadata": {},
     "output_type": "execute_result"
    }
   ],
   "source": [
    "second_list"
   ]
  },
  {
   "cell_type": "markdown",
   "metadata": {},
   "source": [
    "### 5 Plot \n",
    "Hythposs:\n",
    "- The golden age detective tends to show all the clues and information first without clear interpretation and reveal the truth through logical reasoning in the end, while the early detective novel often shows the clues and reasoning together.\n"
   ]
  },
  {
   "cell_type": "markdown",
   "metadata": {},
   "source": [
    "#### 5.1 Find the narrative time of the clues\n"
   ]
  },
  {
   "cell_type": "code",
   "execution_count": 37,
   "metadata": {
    "collapsed": true
   },
   "outputs": [],
   "source": [
    "tokens1=tokenize(target_text1[1].lower())\n",
    "tokens2=tokenize(target_text2[3].lower())"
   ]
  },
  {
   "cell_type": "code",
   "execution_count": 38,
   "metadata": {},
   "outputs": [
    {
     "data": {
      "image/png": "[encoded data removed]",
      "text/plain": [
       "<matplotlib.figure.Figure at 0x1acd73bfd0>"
      ]
     },
     "metadata": {},
     "output_type": "display_data"
    },
    {
     "data": {
      "image/png": "[encoded data removed]",
      "text/plain": [
       "<matplotlib.figure.Figure at 0x1acd37a860>"
      ]
     },
     "metadata": {},
     "output_type": "display_data"
    }
   ],
   "source": [
    "clues_words2=['typewriter','painting','blackmail','3']\n",
    "text2=nltk.Text(tokens2)\n",
    "plt.subplot(2,1,1)\n",
    "nltk.draw.dispersion_plot(text2, clues_words2, \n",
    "                          title='Dispersion of the clues in The Greek Coffin Mystery')\n",
    "\n",
    "clues_words1=['opium','paint','receipt','letter']\n",
    "text1=nltk.Text(tokens1)\n",
    "plt.subplot(2,1,2)\n",
    "nltk.draw.dispersion_plot(text1, clues_words1,\n",
    "                          title='Dispersion of the clues in The Moonstone')\n",
    "\n"
   ]
  },
  {
   "cell_type": "markdown",
   "metadata": {},
   "source": [
    "##### Analysis:"
   ]
  },
  {
   "cell_type": "markdown",
   "metadata": {},
   "source": [
    "The normal pattern of the detective novel is that the detective finds some clues and analyze the clues to reveal the truth. I think the first appearance of the clues means that the detective finds the clues. \n",
    "The high frequencies of clues mean that the detective is analyzing the clues. As it is shown in the first chart, all the clues are present to the reader before 12000 words, but they do not occur very frequently before 12000 words which means the writer only present the clues to the writer but do not interpret them. In about 12000 words, all the clues occur very frequently, which means that the detective starts to reveal the truth through these clues. However, in _the moonstone_, all the clues don't frequently occur together in the end.\n",
    "The reason why the golden age detective novel put all the logical reasoning, in the end, is that the writer hopes the reader can investigate and reason with the detective. It looks like the writer pose a big problem for the reader by showing them all the clues and  reveal the results in the end."
   ]
  },
  {
   "cell_type": "markdown",
   "metadata": {
    "collapsed": true
   },
   "source": [
    "## 6 Conclusion"
   ]
  },
  {
   "cell_type": "markdown",
   "metadata": {},
   "source": [
    "- In the golden age, the reader can not satisfy only by the fancy story, so the writer pays more attention to build up vivid character.\n",
    "- To make the plot compact, the golden age detective novel often in limited place and has less scene change.\n",
    "- To invite readers to participate in the chase, the writer shows the clues without interpretation and reveal the truth in the end."
   ]
  },
  {
   "cell_type": "markdown",
   "metadata": {},
   "source": [
    "### Wordcount Function\n",
    "\n",
    "Please replace `Yourname-Final.ipynb` with the filename of this notebook. For instance, if my name is Jonathan, and I've renamed this notebook to `Jonathan-Final.ipynb`, I'd change `filename = 'Yourname-Final.ipynb'` below to `filename = 'Jonathan-Final.ipynb`. "
   ]
  },
  {
   "cell_type": "code",
   "execution_count": 39,
   "metadata": {},
   "outputs": [
    {
     "name": "stdout",
     "output_type": "stream",
     "text": [
      "Total words: 1697\n"
     ]
    }
   ],
   "source": [
    "filename = 'ZiyiWang-Final.ipynb'\n",
    "\n",
    "if filename == 'Yourname-Final.ipynb': \n",
    "    raise ValueError(\"You forgot to change the filename above!\")\n",
    "\n",
    "with open(filename, encoding='utf-8') as f:\n",
    "    nb = current.read(f, 'json')\n",
    "\n",
    "wordCount = 0\n",
    "\n",
    "for cell in nb.worksheets[0].cells:\n",
    "    if cell.cell_type == \"markdown\":\n",
    "        wordCount += len(cell['source'].replace('#', '').lstrip().split(' '))\n",
    "\n",
    "# This is the word count of my instructions. \n",
    "# My instructions obviously don't count toward the final word count, \n",
    "tare = 533\n",
    "\n",
    "wordCount = wordCount - tare\n",
    "\n",
    "print(\"Total words: {}\".format(wordCount))\n",
    "\n",
    "if wordCount < 1000: \n",
    "    raise Warning('Your paper has not yet met the minimum required length.')\n",
    "if wordCount > 2000: \n",
    "    raise Warning('Your paper has exceeded the maximum allowed length. Please edit for concision.')"
   ]
  },
  {
   "cell_type": "code",
   "execution_count": null,
   "metadata": {
    "collapsed": true
   },
   "outputs": [],
   "source": []
  }
 ],
 "metadata": {
  "kernelspec": {
   "display_name": "Python 3",
   "language": "python",
   "name": "python3"
  },
  "language_info": {
   "codemirror_mode": {
    "name": "ipython",
    "version": 3
   },
   "file_extension": ".py",
   "mimetype": "text/x-python",
   "name": "python",
   "nbconvert_exporter": "python",
   "pygments_lexer": "ipython3",
   "version": "3.6.3"
  }
 },
 "nbformat": 4,
 "nbformat_minor": 2
}
