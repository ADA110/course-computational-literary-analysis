{
 "cells": [
  {
   "cell_type": "markdown",
   "metadata": {},
   "source": [
    "# Chiastic Structures in _The Moonstone_\n",
    "\n",
    "## Songyue Xiao\n"
   ]
  },
  {
   "cell_type": "code",
   "execution_count": 2,
   "metadata": {},
   "outputs": [],
   "source": [
    "from nltk import word_tokenize\n",
    "from nltk.text import Text\n",
    "from textblob import TextBlob\n",
    "import pandas as pd\n",
    "%matplotlib inline\n",
    "\n",
    "# Don't remove this line. It's necessary for the wordcount function \n",
    "# below to work. \n",
    "from IPython.nbformat import current\n",
    "\n",
    "# This is to make your plots a little bigger.\n",
    "# You may adjust this, but be careful of making your plots too big or too small.\n",
    "import matplotlib.pyplot as plt\n",
    "plt.rcParams['figure.figsize'] = [10, 6]"
   ]
  },
  {
   "cell_type": "markdown",
   "metadata": {},
   "source": [
    "When finishing reading the epilogue of _The Moonstone_, I felt a sense of completeness that was resulted not only from the fact that I finally finished reading this book but also from _The Moonstone_'s special structure. In my opinion, two elements that obviously gave me the sense of completeness were the moonstone's hometown, India, and Betteredge's favorite book, Robinson Crusoe, because they appeared both at the beginning and at the end of the novel. By close reading, I found that Rachel's relation with Franklin was also symmetrical. This kind of amazing structure that gave me the sense of completeness is known as chiastic structure. To argue my point that there are chiastic structures in _The Moonstone_ including the context, India, Robinson Crusoe, and Rachel's relation with Franklin, I will introduce the definition of chiastic structure, prove my point by close reading, and track chiastic structures in _The Moonstone_ using computational analysis. Moreover, I will analyze the function of chiastic structures in _The Moonstone_."
   ]
  },
  {
   "cell_type": "markdown",
   "metadata": {},
   "source": [
    "## The Definition of Chiastic Structure"
   ]
  },
  {
   "cell_type": "markdown",
   "metadata": {},
   "source": [
    "Before introducing chiastic structure, I want to introduce chiasmus, a kind of unique rhetorical device, first. Chiasmus is a reversal of grammatical structures in successive phrases or clauses – but no repetition of words (Corbett and Connors). By using this kind of rhetorical device, authors can let readers realize what they want to emphasize by their words. Applying the definition of chiasmus to the novel's structure, we have the definition of chiastic structure that is also called circular structure or symmetric structure."
   ]
  },
  {
   "cell_type": "markdown",
   "metadata": {},
   "source": [
    "## Close Reading"
   ]
  },
  {
   "cell_type": "markdown",
   "metadata": {},
   "source": [
    "### The Moonstone in India"
   ]
  },
  {
   "cell_type": "markdown",
   "metadata": {},
   "source": [
    "\"One of the wildest of these stories related to a Yellow Diamond–a famous gem in the native annals of India.\"(Collins 47) This sentence that is in the prologue of the novel tells readers that this novel started from India, the hometown of the moonstone. \"How it has found its way back to its wild native land–by what accident, or by what crime, the Indians regained possession of their sacred gem, may be in your knowledge, but is not in mine.\"(Collins 20652) This sentence is in the epilogue of the novel, which shows that the whole story ended with returning the moonstone to the place it belonged to, India, forming exactly a chiastic structure."
   ]
  },
  {
   "cell_type": "markdown",
   "metadata": {},
   "source": [
    "### Robinson Crusoe"
   ]
  },
  {
   "cell_type": "markdown",
   "metadata": {},
   "source": [
    "\"In the first part of ROBINSON CRUSOE, at page one hundred and twenty-nine, you will find it thus written:'Now I saw, though too late, the Folly of beginning a Work before we count the Cost, and before we judge rightly of our own Strength to go through with it.'\"(Collins 258) This sentence is in the first chapter of Betteredge's first narrative. Betteredge's narrative began with one of his understandings of Robinson Crusoe. \"But when I write of ROBINSON CRUSOE, by the Lord it’s serious–and I request you to take it accordingly!\"(Collins 20414) This sentence shows up in the last chapter of Betteredge's last narrative. Betteredge's narrative also ended with his favorite book, Robinson Crusoe, which creats a chiastic structure."
   ]
  },
  {
   "cell_type": "markdown",
   "metadata": {},
   "source": [
    "### Rachel's Relation with Franklin"
   ]
  },
  {
   "cell_type": "markdown",
   "metadata": {},
   "source": [
    "In the whole novel, Rachel's relation with Franklin is not consistent. At first, they got along with each quite well, which we could know from the text that \"Penelope mentioned that she had never known Miss Rachel so particular about the dressing of her hair, and had never seen her look so bright and pretty as she did when she went down to meet Mr. Franklin in the drawing-room.\"(Collins 1954) After the accident of the moonstone, Rachel became disappointed and angry with Franklin because she thought Franklin stole her moonstone, which we could know from words in Franklin's narrative that \"The inference was too plain to be resisted. Rachel declined to see me.\"(Collins 12672) Finally, they became together again after Rachel knew the truth. Betteredge said,\"the fact to which I allude is–the marriage of Miss Rachel and Mr. Franklin Blake. This interesting event took place at our house in Yorkshire, on Tuesday, October ninth, eighteen hundred and forty-nine.\"(Collins 20345), which shows that they made up again. Rachel's relation with Franklin started from loving each other then they broke up. Later, they made up again, forming a chiastic structure."
   ]
  },
  {
   "cell_type": "markdown",
   "metadata": {},
   "source": [
    "## Tracking Chiastic Structures in _The Moonstone_ by Computational Analysis"
   ]
  },
  {
   "cell_type": "code",
   "execution_count": 3,
   "metadata": {},
   "outputs": [],
   "source": [
    "# Creat the corpus\n",
    "moonstoneStr = open('moonstone.md').read()\n",
    "# Make all tokens lower case\n",
    "moonstoneTokens = word_tokenize(moonstoneStr.lower())\n",
    "moonstoneText = Text(moonstoneTokens)"
   ]
  },
  {
   "cell_type": "markdown",
   "metadata": {},
   "source": [
    "### The Moonstone in India"
   ]
  },
  {
   "cell_type": "code",
   "execution_count": 4,
   "metadata": {},
   "outputs": [
    {
     "data": {
      "image/png": "[encoded data removed]",
      "text/plain": [
       "<Figure size 720x432 with 1 Axes>"
      ]
     },
     "metadata": {},
     "output_type": "display_data"
    }
   ],
   "source": [
    "moonstoneText.dispersion_plot(['india', 'moonstone'])"
   ]
  },
  {
   "cell_type": "markdown",
   "metadata": {},
   "source": [
    "Figure 1"
   ]
  },
  {
   "cell_type": "markdown",
   "metadata": {},
   "source": [
    "From figure 1, the dispersion plot, it is clear that the token, 'moonstone', and the token, 'india', do appear both at the beginning of the novel and at the end of the novel. To show it more apparently, I want to find the indexes of their first appearance and last appearance."
   ]
  },
  {
   "cell_type": "code",
   "execution_count": 5,
   "metadata": {},
   "outputs": [],
   "source": [
    "# Reverse the list of moonstone tokens\n",
    "# to show the token's first appearance from the begining and its last appearance form the end\n",
    "moonstoneTokensR = list(reversed(moonstoneTokens))"
   ]
  },
  {
   "cell_type": "code",
   "execution_count": 6,
   "metadata": {},
   "outputs": [],
   "source": [
    "india = []\n",
    "india.append(moonstoneTokens.index('india'))\n",
    "india.append(moonstoneTokensR.index('india'))\n",
    "\n",
    "moonstone = []\n",
    "moonstone.append(moonstoneTokens.index('moonstone'))\n",
    "moonstone.append(moonstoneTokensR.index('moonstone'))"
   ]
  },
  {
   "cell_type": "code",
   "execution_count": 7,
   "metadata": {},
   "outputs": [
    {
     "data": {
      "text/plain": [
       "[283, 404]"
      ]
     },
     "execution_count": 7,
     "metadata": {},
     "output_type": "execute_result"
    }
   ],
   "source": [
    "india"
   ]
  },
  {
   "cell_type": "markdown",
   "metadata": {},
   "source": [
    "Since there are over twenty thousand tokens in the list of the moonstone tokens, this result is quite symmetrical."
   ]
  },
  {
   "cell_type": "code",
   "execution_count": 8,
   "metadata": {},
   "outputs": [
    {
     "data": {
      "text/plain": [
       "[9, 5]"
      ]
     },
     "execution_count": 8,
     "metadata": {},
     "output_type": "execute_result"
    }
   ],
   "source": [
    "moonstone"
   ]
  },
  {
   "cell_type": "markdown",
   "metadata": {},
   "source": [
    "This result is even more symmetrical."
   ]
  },
  {
   "cell_type": "markdown",
   "metadata": {},
   "source": [
    "### Robinson Crusoe"
   ]
  },
  {
   "cell_type": "code",
   "execution_count": 9,
   "metadata": {},
   "outputs": [
    {
     "data": {
      "image/png": "[encoded data removed]",
      "text/plain": [
       "<Figure size 720x432 with 1 Axes>"
      ]
     },
     "metadata": {},
     "output_type": "display_data"
    }
   ],
   "source": [
    "moonstoneText.dispersion_plot(['robinson', 'crusoe'])"
   ]
  },
  {
   "cell_type": "markdown",
   "metadata": {},
   "source": [
    "Figure 2"
   ]
  },
  {
   "cell_type": "markdown",
   "metadata": {},
   "source": [
    "Figure 2 shows that 'Robinson Crusoe' appears at the beginning of the novel and shows up again at the end of the novel."
   ]
  },
  {
   "cell_type": "code",
   "execution_count": 10,
   "metadata": {},
   "outputs": [],
   "source": [
    "robinson = []\n",
    "robinson.append(moonstoneTokens.index('robinson'))\n",
    "robinson.append(moonstoneTokensR.index('robinson'))\n",
    "\n",
    "crusoe = []\n",
    "crusoe.append(moonstoneTokens.index('crusoe'))\n",
    "crusoe.append(moonstoneTokensR.index('crusoe'))"
   ]
  },
  {
   "cell_type": "code",
   "execution_count": 11,
   "metadata": {},
   "outputs": [
    {
     "data": {
      "text/plain": [
       "[2569, 2570]"
      ]
     },
     "execution_count": 11,
     "metadata": {},
     "output_type": "execute_result"
    }
   ],
   "source": [
    "robinson"
   ]
  },
  {
   "cell_type": "code",
   "execution_count": 12,
   "metadata": {},
   "outputs": [
    {
     "data": {
      "text/plain": [
       "[2570, 2569]"
      ]
     },
     "execution_count": 12,
     "metadata": {},
     "output_type": "execute_result"
    }
   ],
   "source": [
    "crusoe"
   ]
  },
  {
   "cell_type": "markdown",
   "metadata": {},
   "source": [
    "I was surprised by my finding that the indexes of their first and last appearance are almost the same, which meets my argument to a great extent."
   ]
  },
  {
   "cell_type": "markdown",
   "metadata": {},
   "source": [
    "### Rachel's Relation with Franklin"
   ]
  },
  {
   "cell_type": "code",
   "execution_count": 13,
   "metadata": {},
   "outputs": [
    {
     "data": {
      "text/plain": [
       "<matplotlib.axes._subplots.AxesSubplot at 0x1a19e140f0>"
      ]
     },
     "execution_count": 13,
     "metadata": {},
     "output_type": "execute_result"
    },
    {
     "data": {
      "image/png": "[encoded data removed]",
      "text/plain": [
       "<Figure size 720x432 with 1 Axes>"
      ]
     },
     "metadata": {},
     "output_type": "display_data"
    }
   ],
   "source": [
    "moonstoneParas = moonstoneStr.split('\\n\\n')\n",
    "# Filter out paragraphs containing the token, 'Rachel'\n",
    "rachelList1 = [para for para in moonstoneParas if 'Rachel' in para]\n",
    "# Connect every hundred paragraphs\n",
    "rachelList2 = [' '.join(rachelList1[i*100:(i+1)*100]) for i in range(int(len(rachelList1)/100))]\n",
    "rachelBlob = [TextBlob(para) for para in rachelList2]\n",
    "rachelSentiments = [blob.sentiment.polarity for blob in rachelBlob]\n",
    "pd.Series(rachelSentiments).plot()"
   ]
  },
  {
   "cell_type": "markdown",
   "metadata": {},
   "source": [
    "Figure 3"
   ]
  },
  {
   "cell_type": "markdown",
   "metadata": {},
   "source": [
    "I want to mention why I did not include paragraphs containing 'Miss Verinder' as well. In Rachel's relation with Franklin, Rachel will rarely be called Miss Verinder. Only people such as their maids or Betteredge will call her Miss Verinder. In this case, I think that Rachel is more representative. In addition, I want to explain why I connected every hundred paragraphs. There are over three hundred paragraphs that contain the token, 'Rachel', which makes it difficult for me to find the general shape and my hypothesis just includes three phases. As Rachel's mood must change following the change of her relation with Franklin, Figure 3 shows that Rachel's sentiment is quite high at first then goes down then goes up again, which corresponds with my hypothesis."
   ]
  },
  {
   "cell_type": "markdown",
   "metadata": {},
   "source": [
    "## The Function of Chiastic Structures in _The Moonstone_"
   ]
  },
  {
   "cell_type": "markdown",
   "metadata": {},
   "source": [
    "### Criticize Britain's Aggresion Against India"
   ]
  },
  {
   "cell_type": "markdown",
   "metadata": {},
   "source": [
    "As we know, Collins strongly disapproves of British's aggression to India. The behavior that Colonel Herncastle plundered the moonstone is somewhat like what Britain did to India. Tragic stories that happened after they gained the possession of the moonstone may convey an information to readers that aggression will never have a good result. At the end, the moonstone was returned to India, which can be treated as an analogy to the fact that Britain stopped aggression against India. Making the moonstone a chiastic structure, Collins successfully let readers know his emphasis on his disfavor with Britain's aggression against India. "
   ]
  },
  {
   "cell_type": "markdown",
   "metadata": {},
   "source": [
    "### The Power of Faith"
   ]
  },
  {
   "cell_type": "markdown",
   "metadata": {},
   "source": [
    "As a very important role in the novel, Betteredge's role starts with _Robinson Crusoe_ and ends with it as well. He takes the novel, _Robinson Crusoe_, as the treatment to his bad mood and often uses words in _Robinson Crusoe_ to inspire himself, which let me feel how much one's faith can influence him. By creating a chiastic structure here, Collins might want to emphasize the power of people's faith."
   ]
  },
  {
   "cell_type": "markdown",
   "metadata": {},
   "source": [
    "### The Courage to Pursue Love"
   ]
  },
  {
   "cell_type": "markdown",
   "metadata": {},
   "source": [
    "Compared with other female characters who are very traditional and afraid to socialize with others alone such as her mother who did not want to communicate with Sergent Cuff alone, Rachel is a quite special girl. She is not willing to live a life like most women at that time but has her own ideas. As long as she fell in love with someone, she would stick to her ideas, which could be proved by the fact that she did not marry Mr. Godfrey very casually but waited for Franklin even if they broke up for a while. The chiastic structure of Rachel's relation with Franklin emphasizes that women should have the courage to pursue what they want and the good result of Rachel and Franklin is endowed with Collins sincere wish to women like Rachel."
   ]
  },
  {
   "cell_type": "markdown",
   "metadata": {},
   "source": [
    "## Conclusion"
   ]
  },
  {
   "cell_type": "markdown",
   "metadata": {},
   "source": [
    "Computational anylysis is really an efficient tool that could visualize special patterns of literature. By this kind of visualisation, readers are allowed to figure out the reasons why the novel gives them unique feelings. In the novel, _The Moonstone_, the author, Collins, uses a literary technique that is known as chiastic structure. By computational analysis above, it is clear that there are three elements that form chiastic structures including the moonstone's hometown, India, Robinson Crusoe, and Rachel's relation with Franklin.\n",
    "\n",
    "As Lanham, Richard A, a scholar of the history of rhetoric, said, \"by keeping the phrase but inverting its meaning, we use our opponent’s own power to overcome him, just as a judo expert does.\"(Lanham), even if Collins did not write what he wanted to emphasize directly, readers can realize his emphasis from the chiastic structures in _The Moonstone_."
   ]
  },
  {
   "cell_type": "markdown",
   "metadata": {},
   "source": [
    "## Works Cited"
   ]
  },
  {
   "cell_type": "markdown",
   "metadata": {},
   "source": [
    "Collins, Wilkie. _The Moonstone_. n.d.\n",
    "\n",
    "Corbett, Edward P. J. and Robert J. Connors. _Style and Statement_. New York: Oxford University Press, 1999.\n",
    "\n",
    "Lanham, Richard A. _Analyzing Prose_, 2nd ed. London: Continuum, 2003."
   ]
  }
 ],
 "metadata": {
  "kernelspec": {
   "display_name": "Python 3",
   "language": "python",
   "name": "python3"
  },
  "language_info": {
   "codemirror_mode": {
    "name": "ipython",
    "version": 3
   },
   "file_extension": ".py",
   "mimetype": "text/x-python",
   "name": "python",
   "nbconvert_exporter": "python",
   "pygments_lexer": "ipython3",
   "version": "3.6.6"
  }
 },
 "nbformat": 4,
 "nbformat_minor": 2
}
