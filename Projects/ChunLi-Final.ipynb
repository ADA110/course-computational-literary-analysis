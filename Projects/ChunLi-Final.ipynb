{
 "cells": [
  {
   "cell_type": "markdown",
   "metadata": {},
   "source": [
    "# Colonialism, Male Patriarchism and mad women in English Literature\n",
    "# Comparison between _Jane Eyre_ and _The Problem of Thor Bridge_\n",
    "\n",
    "\n",
    "## Chun Li\n"
   ]
  },
  {
   "cell_type": "markdown",
   "metadata": {},
   "source": [
    "As we know, literature is the reflection of real life. In European countries and America of the 19th and 20th century, the roles and situation of women were really restrictive, someone of them got the chance to work, but the most common job for women in that time background was being a wife. But being a wife is not that easy and safe. \n",
    "In a man-oriented world, the definition of women in English and American literature would be influenced, the male patriachism shaped the description of women characters in literature. And as “the empire on which the sun never sets”, England has had colonies all over the world, which indulged the proud sentiment of English people. Under the stress of colonialism and male partriachism, the literary image of foreign women who didn’t speak English, is worthy to pay attention to, especially when they were from colonies and were compared with English, white and educated women. Charlotte Brontë has created a very classic \"mad woman\" named Bertha in _Jane Eyre_, she was the wife of Mr. Rochester,described as a monster but not a human. She was a Jamaican, married Mr. Rochester when she was young and beautiful, but after she went mad, she was locked in the attic and was unknown by the external world. Feminist literary criticism in 20th century described the group of women which were abandoned by husbands and excluded away from normal family life. Similarly, in _The Casebook of Sherlock Holmes_, it's a story named_ The Problem of Thor Bridge, there is also a \"mad woman\", who is Mrs. Gibson, she was from Brazil, she was also a beautiful lady when she was young, but her husband cannot stand her “tropical” temper when the time passed and her beauty faded away. She suffered from her husband's bad treatment and was jealous terribly of her husband's attention to their English, young governess, Miss Dunbar. In the end she committed a suicide and made it look like a murder by Miss Dunbar. The plot and characters in common of the two stories make me intereted, the two \"mad women\" both from South America, which was the colonies of western countries, and there are also two gentle, smart and educated English women in the two stories, Jane Eyre and Miss Dunbar, and they are younger then the \"mad women\". Meanwhile, they are not only beautiful and fair, but also can influence the male characters by their intelligence and language. Interestingly, they were more “sexless” and “purer” than those two crazy wives, both of them were unmarried, and took a serious attitude in the communication with their male characters. In Jane Eyre, Jane was engaged to Mr. Rochester, but she acted cool to him before the wedding; Miss Dunbar chose to reject her employer’s propose of being his mistress. They’ve been taken revenge by the two wives in some degree, Bertha made Jane cannot marry Mr. Rochester indirectly; Mrs. Gibson frame Miss Dunbar as a murderer. It’s interesting to find so many phenomena in common and I would like to assemble the description of two pairs of female characters and to find out if there are any connections. So I want to discovery the different emotions of author to female characters from different culture background. The hypothesis is: English literature in 19th or 20th century has the intention to describe women from colonies as more negative than English women.\n",
    "Feminist criticism in literature believed that every awakened woman got the madness innately. Among them, those mad women have taken space in female literature. _The Madwoman in the Attic_, famous pioneer feminist criticism book which was written by Sandra M. Gilbert and Susan Gubar, took the mad women as the other side of the personality of “good women”, madness could be imaged as the revolt of the male power in the house. "
   ]
  },
  {
   "cell_type": "code",
   "execution_count": 1,
   "metadata": {},
   "outputs": [
    {
     "name": "stderr",
     "output_type": "stream",
     "text": [
      "C:\\Users\\dell\\pythoncourse\\lib\\site-packages\\IPython\\nbformat.py:13: ShimWarning: The `IPython.nbformat` package has been deprecated since IPython 4.0. You should import from nbformat instead.\n",
      "  \"You should import from nbformat instead.\", ShimWarning)\n",
      "C:\\Users\\dell\\pythoncourse\\lib\\site-packages\\nbformat\\current.py:19: UserWarning: nbformat.current is deprecated.\n",
      "\n",
      "- use nbformat for read/write/validate public API\n",
      "- use nbformat.vX directly to composing notebooks of a particular version\n",
      "\n",
      "  \"\"\")\n"
     ]
    }
   ],
   "source": [
    "# Import all your libraries here, and only here, please.\n",
    "from collections import Counter\n",
    "import pandas as pd\n",
    "import numpy as np\n",
    "from nltk import word_tokenize, pos_tag,ngrams,sent_tokenize\n",
    "from textblob import TextBlob\n",
    "%matplotlib inline\n",
    "import matplotlib.pyplot as plt\n",
    "from sklearn.feature_extraction.text import TfidfVectorizer\n",
    "import requests\n",
    "import json\n",
    "from sklearn.decomposition import PCA\n",
    "from nltk.text import Text\n",
    "# Don't remove this line. It's necessary for the wordcount function \n",
    "# below to work. \n",
    "from IPython.nbformat import current\n",
    "\n",
    "# This is to make your plots a little bigger.\n",
    "# You may adjust this, but be careful of making your plots too big or too small.\n",
    "import matplotlib.pyplot as plt\n",
    "plt.rcParams['figure.figsize'] = [10, 6]\n",
    "import spacy\n",
    "nlp = spacy.load('en')\n",
    "nlp = spacy.load('en_core_web_lg')\n",
    "import nltk\n",
    "from nltk import text\n",
    "stemmer = nltk.stem.LancasterStemmer()"
   ]
  },
  {
   "cell_type": "code",
   "execution_count": 2,
   "metadata": {},
   "outputs": [],
   "source": [
    "jane=open('JaneEyre.md',encoding='UTF-8').read().lower()\n",
    "janeParts=jane.split('%%%%%') #Open _Jane Eyre_ and split it into parts."
   ]
  },
  {
   "cell_type": "code",
   "execution_count": 3,
   "metadata": {},
   "outputs": [],
   "source": [
    "bertha=janeParts[25]+janeParts[26]+janeParts[27] \n",
    "# Bertha is only involved in these three chapters, she burned the house in CHPATER 29 but there are only three or four sentences.To control its length, I choose Chapter25,26 and 27."
   ]
  },
  {
   "cell_type": "code",
   "execution_count": 4,
   "metadata": {},
   "outputs": [],
   "source": [
    "thor=open('The Problem of Thor Bridge.md',encoding='UTF-8').read().lower() #To open The Problem of Thor Bridge."
   ]
  },
  {
   "cell_type": "code",
   "execution_count": 5,
   "metadata": {},
   "outputs": [],
   "source": [
    "berthaTokens=word_tokenize(bertha)\n",
    "thorTokens=word_tokenize(thor)"
   ]
  },
  {
   "cell_type": "code",
   "execution_count": 6,
   "metadata": {},
   "outputs": [],
   "source": [
    "berthaSents = nltk.sent_tokenize(bertha) \n",
    "thorSents = nltk.sent_tokenize(thor)"
   ]
  },
  {
   "cell_type": "code",
   "execution_count": 7,
   "metadata": {},
   "outputs": [],
   "source": [
    "berthaStems=[]\n",
    "for word in berthaTokens:\n",
    "    stem = stemmer.stem(word)\n",
    "    berthaStems.append(stem)\n",
    "berthaStemsDict={}\n",
    "for stem in berthaStems:\n",
    "    if stem not in berthaStemsDict:\n",
    "        berthaStemsDict[stem]=1\n",
    "    else:\n",
    "        berthaStemsDict[stem]=berthaStemsDict[stem]+1"
   ]
  },
  {
   "cell_type": "code",
   "execution_count": 8,
   "metadata": {},
   "outputs": [],
   "source": [
    "berthaSentenceLengths = []\n",
    "for sent in berthaSents: \n",
    "    berthaSentenceLengths.append(len(sent))"
   ]
  },
  {
   "cell_type": "code",
   "execution_count": 9,
   "metadata": {},
   "outputs": [],
   "source": [
    "thorSentenceLengths = []\n",
    "for sent in thorSents: \n",
    "    thorSentenceLengths.append(len(sent))"
   ]
  },
  {
   "cell_type": "code",
   "execution_count": 10,
   "metadata": {},
   "outputs": [
    {
     "data": {
      "text/plain": [
       "135.00865265760197"
      ]
     },
     "execution_count": 10,
     "metadata": {},
     "output_type": "execute_result"
    }
   ],
   "source": [
    "berthaave=sum(berthaSentenceLengths)/len(berthaSentenceLengths)\n",
    "berthaave    # To count the average length of sentences."
   ]
  },
  {
   "cell_type": "code",
   "execution_count": 11,
   "metadata": {},
   "outputs": [
    {
     "data": {
      "text/plain": [
       "74.01455604075691"
      ]
     },
     "execution_count": 11,
     "metadata": {},
     "output_type": "execute_result"
    }
   ],
   "source": [
    "thorave=sum(thorSentenceLengths)/len(thorSentenceLengths)\n",
    "thorave"
   ]
  },
  {
   "cell_type": "markdown",
   "metadata": {},
   "source": [
    "It seems like that Jane Eyre has the longer sentence than the short case from Sherlock Holmes so far."
   ]
  },
  {
   "cell_type": "code",
   "execution_count": 12,
   "metadata": {},
   "outputs": [],
   "source": [
    "berthaCounts=Counter(berthaTokens)\n",
    "thorCounts= Counter(thorTokens)"
   ]
  },
  {
   "cell_type": "code",
   "execution_count": 13,
   "metadata": {},
   "outputs": [],
   "source": [
    "berthanesses={}               # To find the word frequences of the two texts.\n",
    "thornesses={}\n",
    "for word in berthaCounts:\n",
    "    berthaCount = berthaCounts[word]\n",
    "    berthaProportion = berthaCount / len(berthaTokens)\n",
    "for word in thorCounts:\n",
    "    thorCount = thorCounts[word]\n",
    "    thorProportion = thorCount / len(thorTokens)\n",
    "\n",
    "    berthaness = (berthaProportion-thorProportion)*100\n",
    "    thorness = (thorProportion-berthaProportion)*100\n",
    "    berthanesses[word] = berthaness"
   ]
  },
  {
   "cell_type": "code",
   "execution_count": 14,
   "metadata": {},
   "outputs": [],
   "source": [
    "frequencies=pd.DataFrame([berthaCounts,thorCounts],index=['Jane Eyre','Sherlock Holmes'])\n",
    "frequencies = frequencies.fillna(0)\n",
    "frequencies = frequencies.T"
   ]
  },
  {
   "cell_type": "code",
   "execution_count": 15,
   "metadata": {},
   "outputs": [],
   "source": [
    "frequencies['berthaP'] = (frequencies['Jane Eyre'] / len(berthaTokens)) * 100\n",
    "frequencies['thorP'] = (frequencies['Sherlock Holmes'] / len(thorTokens)) * 100"
   ]
  },
  {
   "cell_type": "code",
   "execution_count": 16,
   "metadata": {},
   "outputs": [],
   "source": [
    "frequencies['berthaness'] = frequencies['berthaP'] - frequencies['thorP']\n",
    "frequencies['thorness'] = frequencies['thorP'] - frequencies['berthaP']"
   ]
  },
  {
   "cell_type": "code",
   "execution_count": 17,
   "metadata": {},
   "outputs": [
    {
     "data": {
      "text/html": [
       "<div>\n",
       "<style scoped>\n",
       "    .dataframe tbody tr th:only-of-type {\n",
       "        vertical-align: middle;\n",
       "    }\n",
       "\n",
       "    .dataframe tbody tr th {\n",
       "        vertical-align: top;\n",
       "    }\n",
       "\n",
       "    .dataframe thead th {\n",
       "        text-align: right;\n",
       "    }\n",
       "</style>\n",
       "<table border=\"1\" class=\"dataframe\">\n",
       "  <thead>\n",
       "    <tr style=\"text-align: right;\">\n",
       "      <th></th>\n",
       "      <th>Jane Eyre</th>\n",
       "      <th>Sherlock Holmes</th>\n",
       "      <th>berthaP</th>\n",
       "      <th>thorP</th>\n",
       "      <th>berthaness</th>\n",
       "      <th>thorness</th>\n",
       "    </tr>\n",
       "  </thead>\n",
       "  <tbody>\n",
       "    <tr>\n",
       "      <th>:</th>\n",
       "      <td>385.0</td>\n",
       "      <td>3.0</td>\n",
       "      <td>1.569571</td>\n",
       "      <td>0.026051</td>\n",
       "      <td>1.543520</td>\n",
       "      <td>-1.543520</td>\n",
       "    </tr>\n",
       "    <tr>\n",
       "      <th>i</th>\n",
       "      <td>952.0</td>\n",
       "      <td>271.0</td>\n",
       "      <td>3.881120</td>\n",
       "      <td>2.353248</td>\n",
       "      <td>1.527873</td>\n",
       "      <td>-1.527873</td>\n",
       "    </tr>\n",
       "    <tr>\n",
       "      <th>“</th>\n",
       "      <td>359.0</td>\n",
       "      <td>0.0</td>\n",
       "      <td>1.463574</td>\n",
       "      <td>0.000000</td>\n",
       "      <td>1.463574</td>\n",
       "      <td>-1.463574</td>\n",
       "    </tr>\n",
       "    <tr>\n",
       "      <th>;</th>\n",
       "      <td>359.0</td>\n",
       "      <td>1.0</td>\n",
       "      <td>1.463574</td>\n",
       "      <td>0.008684</td>\n",
       "      <td>1.454890</td>\n",
       "      <td>-1.454890</td>\n",
       "    </tr>\n",
       "    <tr>\n",
       "      <th>”</th>\n",
       "      <td>342.0</td>\n",
       "      <td>0.0</td>\n",
       "      <td>1.394268</td>\n",
       "      <td>0.000000</td>\n",
       "      <td>1.394268</td>\n",
       "      <td>-1.394268</td>\n",
       "    </tr>\n",
       "    <tr>\n",
       "      <th>,</th>\n",
       "      <td>1553.0</td>\n",
       "      <td>584.0</td>\n",
       "      <td>6.331281</td>\n",
       "      <td>5.071205</td>\n",
       "      <td>1.260076</td>\n",
       "      <td>-1.260076</td>\n",
       "    </tr>\n",
       "    <tr>\n",
       "      <th>and</th>\n",
       "      <td>683.0</td>\n",
       "      <td>215.0</td>\n",
       "      <td>2.784459</td>\n",
       "      <td>1.866968</td>\n",
       "      <td>0.917492</td>\n",
       "      <td>-0.917492</td>\n",
       "    </tr>\n",
       "    <tr>\n",
       "      <th>my</th>\n",
       "      <td>337.0</td>\n",
       "      <td>64.0</td>\n",
       "      <td>1.373884</td>\n",
       "      <td>0.555749</td>\n",
       "      <td>0.818135</td>\n",
       "      <td>-0.818135</td>\n",
       "    </tr>\n",
       "    <tr>\n",
       "      <th>me</th>\n",
       "      <td>274.0</td>\n",
       "      <td>55.0</td>\n",
       "      <td>1.117045</td>\n",
       "      <td>0.477596</td>\n",
       "      <td>0.639449</td>\n",
       "      <td>-0.639449</td>\n",
       "    </tr>\n",
       "    <tr>\n",
       "      <th>you</th>\n",
       "      <td>454.0</td>\n",
       "      <td>155.0</td>\n",
       "      <td>1.850870</td>\n",
       "      <td>1.345953</td>\n",
       "      <td>0.504917</td>\n",
       "      <td>-0.504917</td>\n",
       "    </tr>\n",
       "    <tr>\n",
       "      <th>to</th>\n",
       "      <td>546.0</td>\n",
       "      <td>212.0</td>\n",
       "      <td>2.225937</td>\n",
       "      <td>1.840917</td>\n",
       "      <td>0.385020</td>\n",
       "      <td>-0.385020</td>\n",
       "    </tr>\n",
       "    <tr>\n",
       "      <th>’</th>\n",
       "      <td>90.0</td>\n",
       "      <td>0.0</td>\n",
       "      <td>0.366913</td>\n",
       "      <td>0.000000</td>\n",
       "      <td>0.366913</td>\n",
       "      <td>-0.366913</td>\n",
       "    </tr>\n",
       "    <tr>\n",
       "      <th>!</th>\n",
       "      <td>127.0</td>\n",
       "      <td>18.0</td>\n",
       "      <td>0.517754</td>\n",
       "      <td>0.156304</td>\n",
       "      <td>0.361450</td>\n",
       "      <td>-0.361450</td>\n",
       "    </tr>\n",
       "    <tr>\n",
       "      <th>jane</th>\n",
       "      <td>74.0</td>\n",
       "      <td>0.0</td>\n",
       "      <td>0.301684</td>\n",
       "      <td>0.000000</td>\n",
       "      <td>0.301684</td>\n",
       "      <td>-0.301684</td>\n",
       "    </tr>\n",
       "    <tr>\n",
       "      <th>not</th>\n",
       "      <td>225.0</td>\n",
       "      <td>71.0</td>\n",
       "      <td>0.917282</td>\n",
       "      <td>0.616534</td>\n",
       "      <td>0.300748</td>\n",
       "      <td>-0.300748</td>\n",
       "    </tr>\n",
       "    <tr>\n",
       "      <th>rochester</th>\n",
       "      <td>57.0</td>\n",
       "      <td>0.0</td>\n",
       "      <td>0.232378</td>\n",
       "      <td>0.000000</td>\n",
       "      <td>0.232378</td>\n",
       "      <td>-0.232378</td>\n",
       "    </tr>\n",
       "    <tr>\n",
       "      <th>on</th>\n",
       "      <td>118.0</td>\n",
       "      <td>30.0</td>\n",
       "      <td>0.481063</td>\n",
       "      <td>0.260507</td>\n",
       "      <td>0.220556</td>\n",
       "      <td>-0.220556</td>\n",
       "    </tr>\n",
       "    <tr>\n",
       "      <th>s</th>\n",
       "      <td>41.0</td>\n",
       "      <td>0.0</td>\n",
       "      <td>0.167149</td>\n",
       "      <td>0.000000</td>\n",
       "      <td>0.167149</td>\n",
       "      <td>-0.167149</td>\n",
       "    </tr>\n",
       "    <tr>\n",
       "      <th>your</th>\n",
       "      <td>114.0</td>\n",
       "      <td>36.0</td>\n",
       "      <td>0.464756</td>\n",
       "      <td>0.312609</td>\n",
       "      <td>0.152147</td>\n",
       "      <td>-0.152147</td>\n",
       "    </tr>\n",
       "    <tr>\n",
       "      <th>at</th>\n",
       "      <td>135.0</td>\n",
       "      <td>48.0</td>\n",
       "      <td>0.550369</td>\n",
       "      <td>0.416811</td>\n",
       "      <td>0.133558</td>\n",
       "      <td>-0.133558</td>\n",
       "    </tr>\n",
       "    <tr>\n",
       "      <th>its</th>\n",
       "      <td>37.0</td>\n",
       "      <td>2.0</td>\n",
       "      <td>0.150842</td>\n",
       "      <td>0.017367</td>\n",
       "      <td>0.133475</td>\n",
       "      <td>-0.133475</td>\n",
       "    </tr>\n",
       "    <tr>\n",
       "      <th>now</th>\n",
       "      <td>83.0</td>\n",
       "      <td>24.0</td>\n",
       "      <td>0.338375</td>\n",
       "      <td>0.208406</td>\n",
       "      <td>0.129969</td>\n",
       "      <td>-0.129969</td>\n",
       "    </tr>\n",
       "    <tr>\n",
       "      <th>up</th>\n",
       "      <td>48.0</td>\n",
       "      <td>9.0</td>\n",
       "      <td>0.195687</td>\n",
       "      <td>0.078152</td>\n",
       "      <td>0.117535</td>\n",
       "      <td>-0.117535</td>\n",
       "    </tr>\n",
       "    <tr>\n",
       "      <th>as</th>\n",
       "      <td>175.0</td>\n",
       "      <td>69.0</td>\n",
       "      <td>0.713441</td>\n",
       "      <td>0.599166</td>\n",
       "      <td>0.114275</td>\n",
       "      <td>-0.114275</td>\n",
       "    </tr>\n",
       "    <tr>\n",
       "      <th>mason</th>\n",
       "      <td>28.0</td>\n",
       "      <td>0.0</td>\n",
       "      <td>0.114151</td>\n",
       "      <td>0.000000</td>\n",
       "      <td>0.114151</td>\n",
       "      <td>-0.114151</td>\n",
       "    </tr>\n",
       "    <tr>\n",
       "      <th>shall</th>\n",
       "      <td>29.0</td>\n",
       "      <td>3.0</td>\n",
       "      <td>0.118227</td>\n",
       "      <td>0.026051</td>\n",
       "      <td>0.092177</td>\n",
       "      <td>-0.092177</td>\n",
       "    </tr>\n",
       "    <tr>\n",
       "      <th>sir</th>\n",
       "      <td>50.0</td>\n",
       "      <td>13.0</td>\n",
       "      <td>0.203840</td>\n",
       "      <td>0.112886</td>\n",
       "      <td>0.090954</td>\n",
       "      <td>-0.090954</td>\n",
       "    </tr>\n",
       "    <tr>\n",
       "      <th>thornfield</th>\n",
       "      <td>22.0</td>\n",
       "      <td>0.0</td>\n",
       "      <td>0.089690</td>\n",
       "      <td>0.000000</td>\n",
       "      <td>0.089690</td>\n",
       "      <td>-0.089690</td>\n",
       "    </tr>\n",
       "    <tr>\n",
       "      <th>still</th>\n",
       "      <td>32.0</td>\n",
       "      <td>5.0</td>\n",
       "      <td>0.130458</td>\n",
       "      <td>0.043418</td>\n",
       "      <td>0.087040</td>\n",
       "      <td>-0.087040</td>\n",
       "    </tr>\n",
       "    <tr>\n",
       "      <th>what</th>\n",
       "      <td>89.0</td>\n",
       "      <td>32.0</td>\n",
       "      <td>0.362836</td>\n",
       "      <td>0.277874</td>\n",
       "      <td>0.084962</td>\n",
       "      <td>-0.084962</td>\n",
       "    </tr>\n",
       "    <tr>\n",
       "      <th>...</th>\n",
       "      <td>...</td>\n",
       "      <td>...</td>\n",
       "      <td>...</td>\n",
       "      <td>...</td>\n",
       "      <td>...</td>\n",
       "      <td>...</td>\n",
       "    </tr>\n",
       "    <tr>\n",
       "      <th>miss</th>\n",
       "      <td>1.0</td>\n",
       "      <td>23.0</td>\n",
       "      <td>0.004077</td>\n",
       "      <td>0.199722</td>\n",
       "      <td>-0.195645</td>\n",
       "      <td>0.195645</td>\n",
       "    </tr>\n",
       "    <tr>\n",
       "      <th>mr.</th>\n",
       "      <td>60.0</td>\n",
       "      <td>51.0</td>\n",
       "      <td>0.244608</td>\n",
       "      <td>0.442862</td>\n",
       "      <td>-0.198254</td>\n",
       "      <td>0.198254</td>\n",
       "    </tr>\n",
       "    <tr>\n",
       "      <th>dunbar</th>\n",
       "      <td>0.0</td>\n",
       "      <td>23.0</td>\n",
       "      <td>0.000000</td>\n",
       "      <td>0.199722</td>\n",
       "      <td>-0.199722</td>\n",
       "      <td>0.199722</td>\n",
       "    </tr>\n",
       "    <tr>\n",
       "      <th>he</th>\n",
       "      <td>174.0</td>\n",
       "      <td>105.0</td>\n",
       "      <td>0.709364</td>\n",
       "      <td>0.911775</td>\n",
       "      <td>-0.202410</td>\n",
       "      <td>0.202410</td>\n",
       "    </tr>\n",
       "    <tr>\n",
       "      <th>was</th>\n",
       "      <td>292.0</td>\n",
       "      <td>162.0</td>\n",
       "      <td>1.190428</td>\n",
       "      <td>1.406738</td>\n",
       "      <td>-0.216311</td>\n",
       "      <td>0.216311</td>\n",
       "    </tr>\n",
       "    <tr>\n",
       "      <th>'s</th>\n",
       "      <td>0.0</td>\n",
       "      <td>25.0</td>\n",
       "      <td>0.000000</td>\n",
       "      <td>0.217089</td>\n",
       "      <td>-0.217089</td>\n",
       "      <td>0.217089</td>\n",
       "    </tr>\n",
       "    <tr>\n",
       "      <th>there</th>\n",
       "      <td>51.0</td>\n",
       "      <td>49.0</td>\n",
       "      <td>0.207917</td>\n",
       "      <td>0.425495</td>\n",
       "      <td>-0.217578</td>\n",
       "      <td>0.217578</td>\n",
       "    </tr>\n",
       "    <tr>\n",
       "      <th>our</th>\n",
       "      <td>4.0</td>\n",
       "      <td>27.0</td>\n",
       "      <td>0.016307</td>\n",
       "      <td>0.234456</td>\n",
       "      <td>-0.218149</td>\n",
       "      <td>0.218149</td>\n",
       "    </tr>\n",
       "    <tr>\n",
       "      <th>in</th>\n",
       "      <td>283.0</td>\n",
       "      <td>158.0</td>\n",
       "      <td>1.153736</td>\n",
       "      <td>1.372004</td>\n",
       "      <td>-0.218268</td>\n",
       "      <td>0.218268</td>\n",
       "    </tr>\n",
       "    <tr>\n",
       "      <th>very</th>\n",
       "      <td>23.0</td>\n",
       "      <td>37.0</td>\n",
       "      <td>0.093767</td>\n",
       "      <td>0.321292</td>\n",
       "      <td>-0.227526</td>\n",
       "      <td>0.227526</td>\n",
       "    </tr>\n",
       "    <tr>\n",
       "      <th>have</th>\n",
       "      <td>113.0</td>\n",
       "      <td>80.0</td>\n",
       "      <td>0.460679</td>\n",
       "      <td>0.694686</td>\n",
       "      <td>-0.234006</td>\n",
       "      <td>0.234006</td>\n",
       "    </tr>\n",
       "    <tr>\n",
       "      <th>watson</th>\n",
       "      <td>0.0</td>\n",
       "      <td>27.0</td>\n",
       "      <td>0.000000</td>\n",
       "      <td>0.234456</td>\n",
       "      <td>-0.234456</td>\n",
       "      <td>0.234456</td>\n",
       "    </tr>\n",
       "    <tr>\n",
       "      <th>a</th>\n",
       "      <td>438.0</td>\n",
       "      <td>233.0</td>\n",
       "      <td>1.785641</td>\n",
       "      <td>2.023272</td>\n",
       "      <td>-0.237630</td>\n",
       "      <td>0.237630</td>\n",
       "    </tr>\n",
       "    <tr>\n",
       "      <th>can</th>\n",
       "      <td>36.0</td>\n",
       "      <td>45.0</td>\n",
       "      <td>0.146765</td>\n",
       "      <td>0.390761</td>\n",
       "      <td>-0.243996</td>\n",
       "      <td>0.243996</td>\n",
       "    </tr>\n",
       "    <tr>\n",
       "      <th>his</th>\n",
       "      <td>137.0</td>\n",
       "      <td>93.0</td>\n",
       "      <td>0.558523</td>\n",
       "      <td>0.807572</td>\n",
       "      <td>-0.249050</td>\n",
       "      <td>0.249050</td>\n",
       "    </tr>\n",
       "    <tr>\n",
       "      <th>gibson</th>\n",
       "      <td>0.0</td>\n",
       "      <td>29.0</td>\n",
       "      <td>0.000000</td>\n",
       "      <td>0.251824</td>\n",
       "      <td>-0.251824</td>\n",
       "      <td>0.251824</td>\n",
       "    </tr>\n",
       "    <tr>\n",
       "      <th>which</th>\n",
       "      <td>59.0</td>\n",
       "      <td>57.0</td>\n",
       "      <td>0.240532</td>\n",
       "      <td>0.494964</td>\n",
       "      <td>-0.254432</td>\n",
       "      <td>0.254432</td>\n",
       "    </tr>\n",
       "    <tr>\n",
       "      <th>upon</th>\n",
       "      <td>1.0</td>\n",
       "      <td>34.0</td>\n",
       "      <td>0.004077</td>\n",
       "      <td>0.295241</td>\n",
       "      <td>-0.291165</td>\n",
       "      <td>0.291165</td>\n",
       "    </tr>\n",
       "    <tr>\n",
       "      <th>her</th>\n",
       "      <td>151.0</td>\n",
       "      <td>108.0</td>\n",
       "      <td>0.615598</td>\n",
       "      <td>0.937826</td>\n",
       "      <td>-0.322228</td>\n",
       "      <td>0.322228</td>\n",
       "    </tr>\n",
       "    <tr>\n",
       "      <th>--</th>\n",
       "      <td>6.0</td>\n",
       "      <td>52.0</td>\n",
       "      <td>0.024461</td>\n",
       "      <td>0.451546</td>\n",
       "      <td>-0.427085</td>\n",
       "      <td>0.427085</td>\n",
       "    </tr>\n",
       "    <tr>\n",
       "      <th>we</th>\n",
       "      <td>18.0</td>\n",
       "      <td>61.0</td>\n",
       "      <td>0.073383</td>\n",
       "      <td>0.529698</td>\n",
       "      <td>-0.456315</td>\n",
       "      <td>0.456315</td>\n",
       "    </tr>\n",
       "    <tr>\n",
       "      <th>is</th>\n",
       "      <td>142.0</td>\n",
       "      <td>123.0</td>\n",
       "      <td>0.578907</td>\n",
       "      <td>1.068079</td>\n",
       "      <td>-0.489173</td>\n",
       "      <td>0.489173</td>\n",
       "    </tr>\n",
       "    <tr>\n",
       "      <th>holmes</th>\n",
       "      <td>0.0</td>\n",
       "      <td>59.0</td>\n",
       "      <td>0.000000</td>\n",
       "      <td>0.512331</td>\n",
       "      <td>-0.512331</td>\n",
       "      <td>0.512331</td>\n",
       "    </tr>\n",
       "    <tr>\n",
       "      <th>she</th>\n",
       "      <td>70.0</td>\n",
       "      <td>95.0</td>\n",
       "      <td>0.285376</td>\n",
       "      <td>0.824939</td>\n",
       "      <td>-0.539563</td>\n",
       "      <td>0.539563</td>\n",
       "    </tr>\n",
       "    <tr>\n",
       "      <th>it</th>\n",
       "      <td>257.0</td>\n",
       "      <td>196.0</td>\n",
       "      <td>1.047739</td>\n",
       "      <td>1.701980</td>\n",
       "      <td>-0.654240</td>\n",
       "      <td>0.654240</td>\n",
       "    </tr>\n",
       "    <tr>\n",
       "      <th>the</th>\n",
       "      <td>801.0</td>\n",
       "      <td>480.0</td>\n",
       "      <td>3.265522</td>\n",
       "      <td>4.168114</td>\n",
       "      <td>-0.902591</td>\n",
       "      <td>0.902591</td>\n",
       "    </tr>\n",
       "    <tr>\n",
       "      <th>that</th>\n",
       "      <td>177.0</td>\n",
       "      <td>201.0</td>\n",
       "      <td>0.721595</td>\n",
       "      <td>1.745398</td>\n",
       "      <td>-1.023803</td>\n",
       "      <td>1.023803</td>\n",
       "    </tr>\n",
       "    <tr>\n",
       "      <th>''</th>\n",
       "      <td>0.0</td>\n",
       "      <td>245.0</td>\n",
       "      <td>0.000000</td>\n",
       "      <td>2.127475</td>\n",
       "      <td>-2.127475</td>\n",
       "      <td>2.127475</td>\n",
       "    </tr>\n",
       "    <tr>\n",
       "      <th>``</th>\n",
       "      <td>0.0</td>\n",
       "      <td>246.0</td>\n",
       "      <td>0.000000</td>\n",
       "      <td>2.136158</td>\n",
       "      <td>-2.136158</td>\n",
       "      <td>2.136158</td>\n",
       "    </tr>\n",
       "    <tr>\n",
       "      <th>.</th>\n",
       "      <td>682.0</td>\n",
       "      <td>588.0</td>\n",
       "      <td>2.780382</td>\n",
       "      <td>5.105940</td>\n",
       "      <td>-2.325557</td>\n",
       "      <td>2.325557</td>\n",
       "    </tr>\n",
       "  </tbody>\n",
       "</table>\n",
       "<p>4961 rows × 6 columns</p>\n",
       "</div>"
      ],
      "text/plain": [
       "            Jane Eyre  Sherlock Holmes   berthaP     thorP  berthaness  \\\n",
       ":               385.0              3.0  1.569571  0.026051    1.543520   \n",
       "i               952.0            271.0  3.881120  2.353248    1.527873   \n",
       "“               359.0              0.0  1.463574  0.000000    1.463574   \n",
       ";               359.0              1.0  1.463574  0.008684    1.454890   \n",
       "”               342.0              0.0  1.394268  0.000000    1.394268   \n",
       ",              1553.0            584.0  6.331281  5.071205    1.260076   \n",
       "and             683.0            215.0  2.784459  1.866968    0.917492   \n",
       "my              337.0             64.0  1.373884  0.555749    0.818135   \n",
       "me              274.0             55.0  1.117045  0.477596    0.639449   \n",
       "you             454.0            155.0  1.850870  1.345953    0.504917   \n",
       "to              546.0            212.0  2.225937  1.840917    0.385020   \n",
       "’                90.0              0.0  0.366913  0.000000    0.366913   \n",
       "!               127.0             18.0  0.517754  0.156304    0.361450   \n",
       "jane             74.0              0.0  0.301684  0.000000    0.301684   \n",
       "not             225.0             71.0  0.917282  0.616534    0.300748   \n",
       "rochester        57.0              0.0  0.232378  0.000000    0.232378   \n",
       "on              118.0             30.0  0.481063  0.260507    0.220556   \n",
       "s                41.0              0.0  0.167149  0.000000    0.167149   \n",
       "your            114.0             36.0  0.464756  0.312609    0.152147   \n",
       "at              135.0             48.0  0.550369  0.416811    0.133558   \n",
       "its              37.0              2.0  0.150842  0.017367    0.133475   \n",
       "now              83.0             24.0  0.338375  0.208406    0.129969   \n",
       "up               48.0              9.0  0.195687  0.078152    0.117535   \n",
       "as              175.0             69.0  0.713441  0.599166    0.114275   \n",
       "mason            28.0              0.0  0.114151  0.000000    0.114151   \n",
       "shall            29.0              3.0  0.118227  0.026051    0.092177   \n",
       "sir              50.0             13.0  0.203840  0.112886    0.090954   \n",
       "thornfield       22.0              0.0  0.089690  0.000000    0.089690   \n",
       "still            32.0              5.0  0.130458  0.043418    0.087040   \n",
       "what             89.0             32.0  0.362836  0.277874    0.084962   \n",
       "...               ...              ...       ...       ...         ...   \n",
       "miss              1.0             23.0  0.004077  0.199722   -0.195645   \n",
       "mr.              60.0             51.0  0.244608  0.442862   -0.198254   \n",
       "dunbar            0.0             23.0  0.000000  0.199722   -0.199722   \n",
       "he              174.0            105.0  0.709364  0.911775   -0.202410   \n",
       "was             292.0            162.0  1.190428  1.406738   -0.216311   \n",
       "'s                0.0             25.0  0.000000  0.217089   -0.217089   \n",
       "there            51.0             49.0  0.207917  0.425495   -0.217578   \n",
       "our               4.0             27.0  0.016307  0.234456   -0.218149   \n",
       "in              283.0            158.0  1.153736  1.372004   -0.218268   \n",
       "very             23.0             37.0  0.093767  0.321292   -0.227526   \n",
       "have            113.0             80.0  0.460679  0.694686   -0.234006   \n",
       "watson            0.0             27.0  0.000000  0.234456   -0.234456   \n",
       "a               438.0            233.0  1.785641  2.023272   -0.237630   \n",
       "can              36.0             45.0  0.146765  0.390761   -0.243996   \n",
       "his             137.0             93.0  0.558523  0.807572   -0.249050   \n",
       "gibson            0.0             29.0  0.000000  0.251824   -0.251824   \n",
       "which            59.0             57.0  0.240532  0.494964   -0.254432   \n",
       "upon              1.0             34.0  0.004077  0.295241   -0.291165   \n",
       "her             151.0            108.0  0.615598  0.937826   -0.322228   \n",
       "--                6.0             52.0  0.024461  0.451546   -0.427085   \n",
       "we               18.0             61.0  0.073383  0.529698   -0.456315   \n",
       "is              142.0            123.0  0.578907  1.068079   -0.489173   \n",
       "holmes            0.0             59.0  0.000000  0.512331   -0.512331   \n",
       "she              70.0             95.0  0.285376  0.824939   -0.539563   \n",
       "it              257.0            196.0  1.047739  1.701980   -0.654240   \n",
       "the             801.0            480.0  3.265522  4.168114   -0.902591   \n",
       "that            177.0            201.0  0.721595  1.745398   -1.023803   \n",
       "''                0.0            245.0  0.000000  2.127475   -2.127475   \n",
       "``                0.0            246.0  0.000000  2.136158   -2.136158   \n",
       ".               682.0            588.0  2.780382  5.105940   -2.325557   \n",
       "\n",
       "            thorness  \n",
       ":          -1.543520  \n",
       "i          -1.527873  \n",
       "“          -1.463574  \n",
       ";          -1.454890  \n",
       "”          -1.394268  \n",
       ",          -1.260076  \n",
       "and        -0.917492  \n",
       "my         -0.818135  \n",
       "me         -0.639449  \n",
       "you        -0.504917  \n",
       "to         -0.385020  \n",
       "’          -0.366913  \n",
       "!          -0.361450  \n",
       "jane       -0.301684  \n",
       "not        -0.300748  \n",
       "rochester  -0.232378  \n",
       "on         -0.220556  \n",
       "s          -0.167149  \n",
       "your       -0.152147  \n",
       "at         -0.133558  \n",
       "its        -0.133475  \n",
       "now        -0.129969  \n",
       "up         -0.117535  \n",
       "as         -0.114275  \n",
       "mason      -0.114151  \n",
       "shall      -0.092177  \n",
       "sir        -0.090954  \n",
       "thornfield -0.089690  \n",
       "still      -0.087040  \n",
       "what       -0.084962  \n",
       "...              ...  \n",
       "miss        0.195645  \n",
       "mr.         0.198254  \n",
       "dunbar      0.199722  \n",
       "he          0.202410  \n",
       "was         0.216311  \n",
       "'s          0.217089  \n",
       "there       0.217578  \n",
       "our         0.218149  \n",
       "in          0.218268  \n",
       "very        0.227526  \n",
       "have        0.234006  \n",
       "watson      0.234456  \n",
       "a           0.237630  \n",
       "can         0.243996  \n",
       "his         0.249050  \n",
       "gibson      0.251824  \n",
       "which       0.254432  \n",
       "upon        0.291165  \n",
       "her         0.322228  \n",
       "--          0.427085  \n",
       "we          0.456315  \n",
       "is          0.489173  \n",
       "holmes      0.512331  \n",
       "she         0.539563  \n",
       "it          0.654240  \n",
       "the         0.902591  \n",
       "that        1.023803  \n",
       "''          2.127475  \n",
       "``          2.136158  \n",
       ".           2.325557  \n",
       "\n",
       "[4961 rows x 6 columns]"
      ]
     },
     "execution_count": 17,
     "metadata": {},
     "output_type": "execute_result"
    }
   ],
   "source": [
    "frequencies.sort_values('berthaness', ascending=False)"
   ]
  },
  {
   "cell_type": "markdown",
   "metadata": {},
   "source": [
    "Interesting finding: Not for the hypothesis, but _Jane Eyre_ got bigger proportion of  \":\" and \"\"\"\" than the ones of _The Problem of Thor Bridge_, what means there are more  coversation in _Jane Eyre_. That may due to _Jane Eyre_ is a romantic novel, so it will need more conversations to reveal the emotion of characters and the story changes. Instead, _The Problem of Thor Bridge_ is a detective novel, and the story is told in reverse, so there are fewer conversation."
   ]
  },
  {
   "cell_type": "code",
   "execution_count": 18,
   "metadata": {},
   "outputs": [],
   "source": [
    "chapter1=janeParts[1]  #To name the points for PCA.\n",
    "chapter2=janeParts[2]\n",
    "chapter3=janeParts[3]\n",
    "chapter4=janeParts[4]\n",
    "chapter5=janeParts[5]\n",
    "chapter6=janeParts[6]\n",
    "chapter7=janeParts[7]\n",
    "chapter8=janeParts[8]\n",
    "chapter9=janeParts[9]\n",
    "chapter10=janeParts[10]\n",
    "chapter11=janeParts[11]\n",
    "chapter12=janeParts[12]\n",
    "chapter13=janeParts[13]\n",
    "chapter14=janeParts[14]\n",
    "chapter15=janeParts[15]\n",
    "chapter16=janeParts[16]\n",
    "chapter17=janeParts[17]\n",
    "chapter18=janeParts[18]\n",
    "chapter19=janeParts[19]\n",
    "chapter20=janeParts[20]\n",
    "chapter21=janeParts[21]\n",
    "chapter22=janeParts[22]\n",
    "chapter23=janeParts[23]\n",
    "chapter24=janeParts[24]\n",
    "chapter25=janeParts[25]\n",
    "chapter26=janeParts[26]\n",
    "chapter27=janeParts[27]\n",
    "chapter28=janeParts[28]\n",
    "chapter29=janeParts[29]\n",
    "chapter30=janeParts[30]"
   ]
  },
  {
   "cell_type": "code",
   "execution_count": 19,
   "metadata": {},
   "outputs": [
    {
     "data": {
      "text/plain": [
       "<31x11661 sparse matrix of type '<class 'numpy.float64'>'\n",
       "\twith 44616 stored elements in Compressed Sparse Row format>"
      ]
     },
     "execution_count": 19,
     "metadata": {},
     "output_type": "execute_result"
    }
   ],
   "source": [
    "tfidf = TfidfVectorizer(use_idf=False)\n",
    "tf = tfidf.fit_transform([chapter1, chapter2,chapter3,chapter4,chapter5,chapter6,chapter7,chapter8,chapter9,chapter10,chapter11,chapter12,chapter13,chapter14,chapter15,chapter16,chapter17,chapter18,chapter19,chapter20,chapter21,chapter22,chapter23,chapter24,chapter25,chapter26,chapter27,chapter28,chapter29,chapter30,thor])\n",
    "tf"
   ]
  },
  {
   "cell_type": "code",
   "execution_count": 20,
   "metadata": {},
   "outputs": [],
   "source": [
    "allRaw=([chapter1,chapter2,chapter3,chapter4,chapter5,chapter6,chapter7,chapter8,chapter9,chapter10,chapter11,chapter12,chapter13,chapter14,chapter15,chapter16,chapter17,chapter18,chapter19,chapter20,chapter21,chapter22,chapter23,chapter24,chapter25,chapter26,chapter27,chapter28,chapter29,chapter30,thor])"
   ]
  },
  {
   "cell_type": "code",
   "execution_count": 21,
   "metadata": {},
   "outputs": [],
   "source": [
    "allTf = tfidf.fit_transform(allRaw)\n",
    "allTfDense = allTf.todense()\n",
    "allTextLabels=['chapter1', 'chapter2', 'chapter3','chapter4','chapter5','chapter6','chapter7','chapter8','chapter9','chapter10','chapter11','chapter12','chapter13','chapter14','chapter15','chapter16','chapter17','chapter18','chapter19','chapter20','chapter21','chapter22','chapter23','chapter24','chapter25','chapter26','chapter27','chapter28','chapter29','chapter30','THOR']\n",
    "allWordLabels=tfidf.get_feature_names()"
   ]
  },
  {
   "cell_type": "code",
   "execution_count": 22,
   "metadata": {},
   "outputs": [
    {
     "data": {
      "text/plain": [
       "(31, 11661)"
      ]
     },
     "execution_count": 22,
     "metadata": {},
     "output_type": "execute_result"
    }
   ],
   "source": [
    "allTf.shape"
   ]
  },
  {
   "cell_type": "code",
   "execution_count": 23,
   "metadata": {},
   "outputs": [],
   "source": [
    "tfidf=TfidfVectorizer(use_idf=False,max_features=800)"
   ]
  },
  {
   "cell_type": "code",
   "execution_count": 24,
   "metadata": {},
   "outputs": [],
   "source": [
    "pca = PCA(2)\n",
    "pcaOut = pca.fit_transform(allTfDense)"
   ]
  },
  {
   "cell_type": "code",
   "execution_count": 25,
   "metadata": {},
   "outputs": [
    {
     "data": {
      "text/plain": [
       "array([[-0.14104095, -0.09432644],\n",
       "       [-0.09505281,  0.06069398],\n",
       "       [-0.03511972,  0.03175582],\n",
       "       [ 0.02501092,  0.13442556],\n",
       "       [-0.2512167 ,  0.01579421],\n",
       "       [-0.00836407,  0.12887744],\n",
       "       [-0.20065348,  0.00459069],\n",
       "       [ 0.01239841,  0.24567866],\n",
       "       [-0.13080602,  0.08800502],\n",
       "       [-0.09129882,  0.02630593],\n",
       "       [-0.08706831,  0.04262525],\n",
       "       [-0.08793125, -0.05348822],\n",
       "       [ 0.03110824, -0.14194051],\n",
       "       [ 0.25025152, -0.00465157],\n",
       "       [-0.00953803, -0.12840918],\n",
       "       [-0.02319988,  0.06827036],\n",
       "       [-0.12518359,  0.04083489],\n",
       "       [-0.20137979, -0.02861043],\n",
       "       [ 0.19135533, -0.02311784],\n",
       "       [ 0.06713742, -0.20123535],\n",
       "       [ 0.04075671,  0.1530341 ],\n",
       "       [ 0.09285154,  0.08915911],\n",
       "       [ 0.2180065 , -0.03304948],\n",
       "       [ 0.25584899,  0.021158  ],\n",
       "       [ 0.11360108, -0.09547445],\n",
       "       [-0.02542856, -0.1675753 ],\n",
       "       [ 0.20823394,  0.04444911],\n",
       "       [-0.06946492, -0.02597487],\n",
       "       [ 0.11724434,  0.05842653],\n",
       "       [-0.03324587, -0.12709151],\n",
       "       [-0.00781214, -0.12913955]])"
      ]
     },
     "execution_count": 25,
     "metadata": {},
     "output_type": "execute_result"
    }
   ],
   "source": [
    "pcaOut"
   ]
  },
  {
   "cell_type": "code",
   "execution_count": 26,
   "metadata": {},
   "outputs": [],
   "source": [
    "import pandas as pd\n",
    "url = \"https://archive.ics.uci.edu/ml/machine-learning-databases/iris/iris.data\"\n",
    "# load dataset into Pandas DataFrame\n",
    "df = pd.read_csv(url, names=['sepal length','sepal width','petal length','petal width','target'])\n",
    "from sklearn.preprocessing import StandardScaler\n",
    "features = ['sepal length', 'sepal width', 'petal length', 'petal width']\n",
    "# Separating out the features\n",
    "x = df.loc[:, features].values\n",
    "# Separating out the target\n",
    "y = df.loc[:,['target']].values\n",
    "# Standardizing the features\n",
    "x = StandardScaler().fit_transform(x)"
   ]
  },
  {
   "cell_type": "code",
   "execution_count": 27,
   "metadata": {},
   "outputs": [
    {
     "data": {
      "image/png": "[encoded data removed]",
      "text/plain": [
       "<Figure size 432x288 with 1 Axes>"
      ]
     },
     "metadata": {},
     "output_type": "display_data"
    }
   ],
   "source": [
    "xs, ys = pcaOut[:,0], pcaOut[:,1]\n",
    "for i in range(len(xs)): \n",
    "    plt.scatter(xs[i], ys[i])\n",
    "    plt.annotate(allTextLabels[i], (xs[i], ys[i]))\n",
    "plt.rcParams['figure.figsize'] = [18, 10]"
   ]
  },
  {
   "cell_type": "markdown",
   "metadata": {},
   "source": [
    "These points are disperse, Chapter 25 and 26 are close to Thor, but Chapter 27 is kind of far away from them."
   ]
  },
  {
   "cell_type": "code",
   "execution_count": 28,
   "metadata": {},
   "outputs": [],
   "source": [
    "def typeTokenRatio(tokens): \n",
    "    numTokens = len(tokens)\n",
    "    numTypes = len(set(tokens))\n",
    "    return numTypes/numTokens"
   ]
  },
  {
   "cell_type": "code",
   "execution_count": 29,
   "metadata": {},
   "outputs": [
    {
     "data": {
      "text/plain": [
       "0.1653960618043948"
      ]
     },
     "execution_count": 29,
     "metadata": {},
     "output_type": "execute_result"
    }
   ],
   "source": [
    "typeTokenRatio(berthaTokens)"
   ]
  },
  {
   "cell_type": "code",
   "execution_count": 30,
   "metadata": {},
   "outputs": [
    {
     "data": {
      "text/plain": [
       "0.16906912122264675"
      ]
     },
     "execution_count": 30,
     "metadata": {},
     "output_type": "execute_result"
    }
   ],
   "source": [
    "typeTokenRatio(thorTokens)"
   ]
  },
  {
   "cell_type": "code",
   "execution_count": 31,
   "metadata": {},
   "outputs": [],
   "source": [
    "lengths = [len(text) for text in [bertha,thor]]\n",
    "berthatext=Text(berthaTokens)\n",
    "thortext=Text(thorTokens)"
   ]
  },
  {
   "cell_type": "code",
   "execution_count": 32,
   "metadata": {},
   "outputs": [],
   "source": [
    "ttrs = [typeTokenRatio(text[:100000]) for text in [berthatext,thortext]]\n",
    "labels = [berthaTokens[0],thorTokens[3]]"
   ]
  },
  {
   "cell_type": "code",
   "execution_count": 33,
   "metadata": {},
   "outputs": [
    {
     "data": {
      "text/plain": [
       "<matplotlib.axes._subplots.AxesSubplot at 0x1b932b3c940>"
      ]
     },
     "execution_count": 33,
     "metadata": {},
     "output_type": "execute_result"
    },
    {
     "data": {
      "image/png": "[encoded data removed]",
      "text/plain": [
       "<Figure size 1296x720 with 1 Axes>"
      ]
     },
     "metadata": {},
     "output_type": "display_data"
    }
   ],
   "source": [
    "pd.Series(ttrs, index=labels).plot(kind='bar')"
   ]
  },
  {
   "cell_type": "markdown",
   "metadata": {},
   "source": [
    "It seems like that Doyle and Bronte got the similar writing style, so their works are comparable. It makes sense because they were both English writers and their time backgrounds were similar, when England had a high international status. "
   ]
  },
  {
   "cell_type": "markdown",
   "metadata": {},
   "source": [
    "I'd like to use concordance to extract sentences for two pairs of female characters, after my close reading, I confirmed a series of names for them. For example, Bertha was called as \"wife\",\" Mrs. Rochester\", sometimes even \"monster\". Looking through the sentences can help me get further, clearer impression of the characters to be researched, which helps me feel the attitude of authors better."
   ]
  },
  {
   "cell_type": "code",
   "execution_count": 34,
   "metadata": {},
   "outputs": [
    {
     "name": "stdout",
     "output_type": "stream",
     "text": [
      "Displaying 24 of 24 matches:\n",
      "e civil wars , and of elizabeth , his wife . our place was taken at the communio\n",
      "t thou have this woman for thy wedded wife ? ” —when a distinct and near voice s\n",
      "evious marriage . mr. rochester has a wife now living. ” my nerves vibrated to t\n",
      "don. ” “ and you would thrust on me a wife ? ” “ i would remind you of your lady\n",
      "on , merchant , and of antoinetta his wife , a creole , at -- - church , spanish\n",
      "hat the woman mentioned therein as my wife is still living. ” “ she was living t\n",
      "r , whether or not this gentleman ’ s wife is still living ? ” “ courage , ” urg\n",
      "ess . i now inform you that she is my wife , whom i married fifteen years ago , \n",
      "visit mrs. poole ’ s patient , and my wife ! you shall see what sort of a being \n",
      "oth acrid and desolate . “ that is my wife , ” said he . “ such is the sole conj\n",
      " will answer for you—because i have a wife already , you would reply.—i guess ri\n",
      "o hundred a year to live here with my wife , as you term that fearful hag : grac\n",
      "ve her aid in the paroxysms , when my wife is prompted by her familiar to burn p\n",
      " only my station , and the rank of my wife , that you valued ? now that you thin\n",
      "it is all right : you shall yet be my wife : i am not married . you shall be mrs\n",
      "still i dared to speak . “ sir , your wife is living : that is a fact acknowledg\n",
      "ade them no subject of reproach to my wife , even when i found her nature wholly\n",
      "es which must attend a man bound to a wife at once intemperate and unchaste . “ \n",
      "or the doctors now discovered that my wife was mad—her excesses had prematurely \n",
      " be the husband of another and better wife ; and , though five years my senior (\n",
      " so blighted your youth , is not your wife , nor are you her husband . see that \n",
      "very soon the infamous conduct of the wife my father had selected for me was suc\n",
      "you . to tell me that i had already a wife is empty mockery : you know now that \n",
      " with you . what then is left ? for a wife i have but the maniac upstairs : as w\n"
     ]
    }
   ],
   "source": [
    "berthatext.concordance('wife')   "
   ]
  },
  {
   "cell_type": "code",
   "execution_count": 35,
   "metadata": {},
   "outputs": [
    {
     "name": "stdout",
     "output_type": "stream",
     "text": [
      "Displaying 5 of 5 matches:\n",
      "england , was married to my sister , bertha antoinetta mason , daughter of jonas\n",
      "most as soon strike a woman as you . bertha mason is mad ; and she came of a mad\n",
      "re silent on family secrets before . bertha , like a dutiful child , copied her \n",
      "ow ! you won ’ t kiss the husband of bertha mason ? you consider my arms filled \n",
      " those propensities entailed on me ! bertha mason , the true daughter of an infa\n"
     ]
    }
   ],
   "source": [
    "berthatext.concordance('bertha')"
   ]
  },
  {
   "cell_type": "code",
   "execution_count": 36,
   "metadata": {},
   "outputs": [
    {
     "name": "stdout",
     "output_type": "stream",
     "text": [
      "Displaying 18 of 18 matches:\n",
      "ffix them , or to have them affixed . mrs. rochester ! she did not exist : she w\n",
      " has disturbed you . let me hear it . mrs. fairfax has said something , perhaps \n",
      "sophie , it was not leah , it was not mrs. fairfax : it was not—no , i was sure \n",
      "rshal : none but mr. rochester and i. mrs. fairfax stood in the hall as we passe\n",
      "urhood , sir , and i never heard of a mrs. rochester at thornfield hall. ” i saw\n",
      " lives ! you say you never heard of a mrs. rochester at the house up yonder , wo\n",
      "all to come up to the house and visit mrs. poole ’ s patient , and my wife ! you\n",
      "be wanted to-day. ” at our entrance , mrs. fairfax , adèle , sophie , leah , adv\n",
      "d its head and face . “ good-morrow , mrs. poole ! ” said mr. rochester . “ how \n",
      "rple face , —those bloated features . mrs. poole advanced . “ keep out of the wa\n",
      "èle had tapped at the door ; not even mrs. fairfax had sought me . “ friends alw\n",
      "board the lower windows : i ’ ll give mrs. poole two hundred a year to live here\n",
      "ife : i am not married . you shall be mrs. rochester—both virtually and nominall\n",
      "brother older than i ? ” “ i remember mrs. fairfax told me so once. ” “ and did \n",
      "have ever admitted to my confidence . mrs. fairfax may indeed have suspected som\n",
      " on to an ideal heaven . the voice of mrs. fairfax , speaking to a servant in th\n",
      " ’ you ran downstairs and demanded of mrs. fairfax some occupation : the weekly \n",
      "tole from my room . “ farewell , kind mrs. fairfax ! ” i whispered , as i glided\n"
     ]
    }
   ],
   "source": [
    "berthatext.concordance('mrs.')"
   ]
  },
  {
   "cell_type": "code",
   "execution_count": 37,
   "metadata": {},
   "outputs": [
    {
     "name": "stdout",
     "output_type": "stream",
     "text": [
      "Displaying 3 of 3 matches:\n",
      "-shire , england , was married to my sister , bertha antoinetta mason , daughter\n",
      " years ago , —bertha mason by name ; sister of this resolute personage , who is \n",
      "ed interest he takes in his wretched sister , and also in a dog-like attachment \n"
     ]
    }
   ],
   "source": [
    "berthatext.concordance('sister')"
   ]
  },
  {
   "cell_type": "code",
   "execution_count": 38,
   "metadata": {},
   "outputs": [
    {
     "name": "stdout",
     "output_type": "stream",
     "text": [
      "Displaying 1 of 1 matches:\n",
      "d and growled like some strange wild animal : but it was covered with clothing ,\n"
     ]
    }
   ],
   "source": [
    "berthatext.concordance('animal')"
   ]
  },
  {
   "cell_type": "code",
   "execution_count": 39,
   "metadata": {},
   "outputs": [
    {
     "name": "stdout",
     "output_type": "stream",
     "text": [
      "Displaying 3 of 3 matches:\n",
      "escaped mason ’ s white lips . “ the devil is in it if you can not answer disti\n",
      "the last . i am little better than a devil at this moment ; and , as my pastor \n",
      "er , ” whispered mason . “ go to the devil ! ” was his brother-in-law ’ s recom\n"
     ]
    }
   ],
   "source": [
    "berthatext.concordance('devil')"
   ]
  },
  {
   "cell_type": "code",
   "execution_count": 40,
   "metadata": {},
   "outputs": [
    {
     "name": "stdout",
     "output_type": "stream",
     "text": [
      "Displaying 1 of 1 matches:\n",
      "hing about her money ; but he told me miss mason was the boast of spanish town f\n"
     ]
    }
   ],
   "source": [
    "berthatext.concordance('miss')"
   ]
  },
  {
   "cell_type": "code",
   "execution_count": 41,
   "metadata": {},
   "outputs": [
    {
     "name": "stdout",
     "output_type": "stream",
     "text": [
      "Displaying 25 of 25 matches:\n",
      ".v . ) , —or rather , not i , but one jane rochester , a person whom as yet i kn\n",
      " you : but i think you are feverish , jane : both your cheek and hand are burnin\n",
      "old to seek your shepherd , did you , jane ? ” “ i wanted you : but don ’ t boas\n",
      ". “ take a seat and bear me company , jane : please god , it is the last meal bu\n",
      "he prospect of a journey before you , jane ? is it the thoughts of going to lond\n",
      "t , ” i said . “ yes : but remember , jane , you promised to wake with me the ni\n",
      "ou uttered that word— ‘ very well , ’ jane ! what a bright spot of colour you ha\n",
      " charged ? ” “ this is hypochondria , jane . you have been over-excited , or ove\n",
      "flushed . “ give me your confidence , jane , ” he said : “ relieve your mind of \n",
      "passing ? ” “ no. ” “ you puzzle me , jane : your look and tone of sorrowful aud\n",
      "se dreams weigh on your spirits now , jane , when i am close to you ? little ner\n",
      "ecause i love you. ’ do you love me , jane ? —repeat it. ” “ i do , sir—i do , w\n",
      "e spirit were near me . look wicked , jane : as you know well how to look : coin\n",
      "t hear me to the end. ” “ i thought , jane , you had told me all . i thought i h\n",
      " balance , fell , and woke. ” “ now , jane , that is all. ” “ all the preface , \n",
      "tant. ” “ and since i can not do it , jane , it must have been unreal. ” “ but ,\n",
      "u ; but not now . are you satisfied , jane ? do you accept my solution of the my\n",
      "you must share it with her to-night , jane : it is no wonder that the incident y\n",
      "ed almost the image of a stranger . “ jane ! ” called a voice , and i hastened d\n",
      "chman in his seat. ” “ yes , sir. ” “ jane , are you ready ? ” i rose . there we\n",
      " or maimed me . and yet where was the jane eyre of yesterday ? —where was her li\n",
      "er life ? —where were her prospects ? jane eyre , who had been an ardent , expec\n",
      "t has been weeping blood ? ” “ well , jane ! not a word of reproach ? nothing bi\n",
      "d me with a weary , passive look. ” “ jane , i never meant to wound you thus . i\n",
      " core . “ you know i am a scoundrel , jane ? ” ere long he inquired wistfully—wo\n"
     ]
    }
   ],
   "source": [
    "berthatext.concordance('jane')"
   ]
  },
  {
   "cell_type": "code",
   "execution_count": 42,
   "metadata": {},
   "outputs": [
    {
     "name": "stdout",
     "output_type": "stream",
     "text": [
      "Displaying 3 of 3 matches:\n",
      " with something at least human . this girl , ” he continued , looking at me , “ \n",
      " hand on my shoulder ) : “ this young girl , who stands so grave and quiet at th\n",
      "lmost a bride , was a cold , solitary girl again : her life was pale ; her prosp\n"
     ]
    }
   ],
   "source": [
    "berthatext.concordance('girl')"
   ]
  },
  {
   "cell_type": "code",
   "execution_count": 43,
   "metadata": {},
   "outputs": [
    {
     "name": "stdout",
     "output_type": "stream",
     "text": [
      "Displaying 3 of 3 matches:\n",
      " under this roof only as adèle ’ s governess ; if ever i say a friendly word to\n",
      "only one way—adèle must have a new governess , sir. ” “ oh , adèle will go to s\n",
      " i feared adèle never would have a governess to stay if she knew with what inma\n"
     ]
    }
   ],
   "source": [
    "berthatext.concordance('governess')"
   ]
  },
  {
   "cell_type": "code",
   "execution_count": 44,
   "metadata": {},
   "outputs": [
    {
     "name": "stdout",
     "output_type": "stream",
     "text": [
      "Displaying 6 of 6 matches:\n",
      "“ but is there anything the matter , janet , that you come to meet me at such a\n",
      "al happiness ! you say you love me , janet : yes—i will not forget that ; and y\n",
      "e , he continued , cheerily— “ now , janet , i ’ ll explain to you all about it\n",
      "re thoughts : chase dull care away , janet . don ’ t you hear to what soft whis\n",
      "quiringly into my eyes , “ how is my janet now ? ” “ the night is serene , sir \n",
      "usly you smiled to and at yourself , janet ! there was much sense in your smile\n"
     ]
    }
   ],
   "source": [
    "berthatext.concordance('janet')"
   ]
  },
  {
   "cell_type": "code",
   "execution_count": 45,
   "metadata": {},
   "outputs": [],
   "source": [
    "berthaBlob=TextBlob(bertha)\n",
    "berthaSents=sent_tokenize(bertha)"
   ]
  },
  {
   "cell_type": "code",
   "execution_count": 46,
   "metadata": {},
   "outputs": [],
   "source": [
    "berthaSlist=[]\n",
    "for sentence in (berthaSents):\n",
    "        if 'bertha'in sentence:             \n",
    "            berthaSlist.append(sentence)\n",
    "        if 'mrs. rochester'in sentence:\n",
    "            berthaSlist.append(sentence)\n",
    "        if 'wife' in sentence:\n",
    "            berthaSlist.append(sentence)\n",
    "        if 'monster'in sentence:\n",
    "            berthaSlist.append(sentence)\n",
    "        if 'sister'in sentence:\n",
    "            berthaSlist.append(sentence)\n",
    "        if 'mad'in sentence:\n",
    "            berthaSlist.append(sentence)\n",
    "        if 'mad-woman'in sentence:\n",
    "            berthaSlist.append(sentence)\n",
    "        if 'animal'in sentence:\n",
    "            berthaSlist.append(sentence)\n",
    "        if 'devil'in sentence:\n",
    "            berthaSlist.append(sentence)\n",
    "        if 'miss'in sentence:\n",
    "            berthaSlist.append(sentence)"
   ]
  },
  {
   "cell_type": "code",
   "execution_count": 47,
   "metadata": {},
   "outputs": [],
   "source": [
    "BERTHASentiments=[TextBlob(sent).sentiment.polarity\n",
    "                  for sent in berthaSlist]"
   ]
  },
  {
   "cell_type": "code",
   "execution_count": 48,
   "metadata": {},
   "outputs": [],
   "source": [
    "mrsbertha=pd.Series(BERTHASentiments) # To save the space, the sentiment lines of individuals will be omitted, they will be showed in the group figures."
   ]
  },
  {
   "cell_type": "code",
   "execution_count": 49,
   "metadata": {},
   "outputs": [
    {
     "name": "stdout",
     "output_type": "stream",
     "text": [
      "0.0 mrs. rochester!\n",
      "0.13113636363636363 “i am feverish: i hear the wind blowing: i will go out of doors and feel it.” it was not only the hu\n",
      "0.12023809523809524 “you did right to hold fast to each other,” i said: as if the monster-splinters were living things, \n",
      "0.65 step on my boot-toe; give me both hands: mount!” i obeyed: joy made me agile: i sprang up before him\n",
      "-0.05555555555555555 as john took his horse, and he followed me into the hall, he told me to make haste and put something\n",
      "-0.029166666666666664 i walked a little while on the pavement after tea, thinking of you; and i beheld you in imagination \n",
      "-0.18333333333333335 the gale still rising, seemed to my ear to muffle a mournful under-sound; whether in the house or ab\n",
      "-0.05000000000000001 i thought, sir, that you were on the road a long way before me; and i strained every nerve to overta\n",
      "0.005555555555555559 i must be careful of you, my treasure: nerves like yours were not made for rough handling.” “sir, de\n",
      "0.25 my conjecture had been correct: the strangers had slipped in before us, and they now stood by the va\n",
      "0.03333333333333333 and the clergyman, who had not lifted his eyes from his book, and had held his breath but for a mome\n",
      "-0.3333333333333333 mr. rochester has a wife now living.” my nerves vibrated to those low-spoken words as they had never\n",
      "0.0 i looked at mr. rochester: i made him look at me.\n",
      "0.1273809523809524 “my name is briggs, a solicitor of --- street, london.” “and you would thrust on me a wife?” “i woul\n",
      "0.1273809523809524 “my name is briggs, a solicitor of --- street, london.” “and you would thrust on me a wife?” “i woul\n",
      "0.1273809523809524 “my name is briggs, a solicitor of --- street, london.” “and you would thrust on me a wife?” “i woul\n",
      "0.325 signed, richard mason.’” “that—if a genuine document—may prove i have been married, but it does not \n",
      "0.3 “the devil is in it if you cannot answer distinctly.\n",
      "0.2375 i again demand, what have you to say?” “sir—sir,” interrupted the clergyman, “do not forget you are \n",
      "-0.17500000000000002 i am an old resident in this neighbourhood, sir, and i never heard of a mrs. rochester at thornfield\n",
      "0.15625 i am little better than a devil at this moment; and, as my pastor there would tell me, deserve no do\n",
      "0.25 you say you never heard of a mrs. rochester at the house up yonder, wood; but i daresay you have man\n",
      "0.0 some have whispered to you that she is my bastard half-sister: some, my cast-off mistress.\n",
      "0.125 i now inform you that she is my wife, whom i married fifteen years ago,—bertha mason by name; sister\n",
      "0.125 i now inform you that she is my wife, whom i married fifteen years ago,—bertha mason by name; sister\n",
      "0.125 i now inform you that she is my wife, whom i married fifteen years ago,—bertha mason by name; sister\n",
      "-0.75 bertha mason is mad; and she came of a mad family; idiots and maniacs through three generations!\n",
      "-0.75 bertha mason is mad; and she came of a mad family; idiots and maniacs through three generations!\n",
      "0.0 her mother, the creole, was both a madwoman and a drunkard!—as i found out after i had wed the daugh\n",
      "0.0 bertha, like a dutiful child, copied her parent in both points.\n",
      "0.0 briggs, wood, mason, i invite you all to come up to the house and visit mrs. poole’s patient, and my\n",
      "-0.31875 this girl,” he continued, looking at me, “knew no more than you, wood, of the disgusting secret: she\n",
      "0.04166666666666668 what it was, whether beast or human being, one could not, at first sight, tell: it grovelled, seemin\n",
      "0.0 “go to the devil!” was his brother-in-law’s recommendation.\n",
      "0.0 “that is my wife,” said he.\n",
      "0.625 “you, madam,” said he, “are cleared from all blame: your uncle will be glad to hear it—if, indeed, h\n",
      "0.0 when your uncle received your letter intimating the contemplated union between yourself and mr. roch\n",
      "0.03857142857142857 were i not morally certain that your uncle will be dead ere you reach madeira, i would advise you to\n",
      "-0.25 “no, no—let us be gone,” was the anxious reply; and without waiting to take leave of mr. rochester, \n",
      "0.00714285714285715 the morning had been a quiet morning enough—all except the brief scene with the lunatic: the transac\n",
      "0.00714285714285715 the morning had been a quiet morning enough—all except the brief scene with the lunatic: the transac\n",
      "0.0 you won’t kiss the husband of bertha mason?\n",
      "-0.009183673469387754 i will spare you the trouble of much talking; i will answer for you—because i have a wife already, y\n",
      "0.06068181818181817 you intend to make yourself a complete stranger to me: to live under this roof only as adèle’s gover\n",
      "-0.013333333333333336 i charged them to conceal from you, before i ever saw you, all knowledge of the curse of the place; \n",
      "-0.02777777777777779 “concealing the mad-woman’s neighbourhood from you, however, was something like covering a child wit\n",
      "-0.02777777777777779 “concealing the mad-woman’s neighbourhood from you, however, was something like covering a child wit\n",
      "-0.13772727272727275 but i’ll shut up thornfield hall: i’ll nail up the front door and board the lower windows: i’ll give\n",
      "-0.559375 it is cruel—she cannot help being mad.” “jane, my little darling (so i will call you, for so you are\n",
      "-0.18125000000000002 if you were mad, do you think i should hate you?” “i do indeed, sir.” “then you are mistaken, and yo\n",
      "0.0 now he made an effort to rest his head on my shoulder, but i would not permit it.\n",
      "-0.4 it was only my station, and the rank of my wife, that you valued?\n",
      "0.0 i pass over the madness about parting from me.\n",
      "0.09902597402597402 as to the new existence, it is all right: you shall yet be my wife: i am not married.\n",
      "0.0 you shall be mrs. rochester—both virtually and nominally.\n",
      "0.0 “sir, your wife is living: that is a fact acknowledged this morning by yourself.\n",
      "0.13809523809523808 he was certain his possessions were real and vast: he made inquiries.\n",
      "0.0 my father said nothing about her money; but he told me miss mason was the boast of spanish town for \n",
      "-0.6666666666666666 there is no folly so besotted that the idiotic rivalries of society, the prurience, the rashness, th\n",
      "-0.3125 the honeymoon over, i learned my mistake; she was only mad, and shut up in a lunatic asylum.\n",
      "-0.43333333333333335 the elder one, whom you have seen (and whom i cannot hate, whilst i abhor all his kindred, because h\n",
      "-0.10372023809523809 my father and my brother rowland knew all this; but they thought only of the thirty thousand pounds,\n",
      "-0.10372023809523809 my father and my brother rowland knew all this; but they thought only of the thirty thousand pounds,\n",
      "-0.2833333333333333 bertha mason, the true daughter of an infamous mother, dragged me through all the hideous and degrad\n",
      "-0.2833333333333333 bertha mason, the true daughter of an infamous mother, dragged me through all the hideous and degrad\n",
      "0.15000000000000002 and i could not rid myself of it by any legal proceedings: for the doctors now discovered that my wi\n",
      "0.15000000000000002 and i could not rid myself of it by any legal proceedings: for the doctors now discovered that my wi\n",
      "-0.11249999999999999 i accept it, jane; let the daughter have free advent—my arms wait to receive her.” “now, sir, procee\n",
      "0.1147186147186147 mixed with the air i breathed; and besides, i remembered i had once been her husband—that recollecti\n",
      "-0.17500000000000002 “one night i had been awakened by her yells—(since the medical men had pronounced her mad, she had, \n",
      "-0.9 that woman, who has so abused your long-suffering, so sullied your name, so outraged your honour, so\n",
      "0.012499999999999997 my father and brother had not made my marriage known to their acquaintance; because, in the very fir\n",
      "0.012499999999999997 my father and brother had not made my marriage known to their acquaintance; because, in the very fir\n",
      "-0.45 “to england, then, i conveyed her; a fearful voyage i had with such a monster in the vessel.\n",
      "0.09999999999999999 glad was i when i at last got her to thornfield, and saw her safely lodged in that third-storey room\n",
      "-0.6 disappointment made me reckless.\n",
      "0.08333333333333333 i made you talk: ere long i found you full of strange contrasts.\n",
      "0.17777777777777778 there was something glad in your glance, and genial in your manner, when you conversed: i saw you ha\n",
      "0.15833333333333333 i was now too fond of you often to simulate the first whim; and, when i stretched my hand out cordia\n",
      "-0.1 to tell me that i had already a wife is empty mockery: you know now that i had but a hideous demon.\n",
      "0.0 for a wife i have but the maniac upstairs: as well might you refer me to some corpse in yonder churc\n",
      "0.0 i will hold to the principles received by me when i was sane, and not mad—as i am now.\n",
      "-0.125 the other articles i made up in a parcel; my purse, containing twenty shillings (it was all i had), \n"
     ]
    }
   ],
   "source": [
    "for sent,sentiment in zip(berthaSlist,BERTHASentiments):\n",
    "    print(sentiment,sent.replace('\\n',' ')[:100])"
   ]
  },
  {
   "cell_type": "markdown",
   "metadata": {},
   "source": [
    "After looking through these sentences, I found most of them have the negative meanings. Below are the sentences for Jane. Her addersses are fewer than Bertha. Most of the time she was called as \"Jane\" by Mr. Rochester, who called her most frequently. Because they were very much in love before the wedding, so sometimes Mr. Rochester called her with some nicknames."
   ]
  },
  {
   "cell_type": "code",
   "execution_count": 50,
   "metadata": {},
   "outputs": [],
   "source": [
    "janeSlist=[]\n",
    "for sentence in (berthaSents):\n",
    "        if 'jane'in sentence: \n",
    "            janeSlist.append(sentence)\n",
    "        if 'girl' in sentence:\n",
    "            janeSlist.append(sentence)\n",
    "        if 'governess'in sentence:\n",
    "            janeSlist.append(sentence)\n",
    "        if 'janet'in sentence:\n",
    "            janeSlist.append(sentence)"
   ]
  },
  {
   "cell_type": "code",
   "execution_count": 51,
   "metadata": {},
   "outputs": [],
   "source": [
    "JANESentiments=[TextBlob(sent).sentiment.polarity\n",
    "                  for sent in janeSlist]"
   ]
  },
  {
   "cell_type": "code",
   "execution_count": 52,
   "metadata": {},
   "outputs": [],
   "source": [
    "msjane=pd.Series(JANESentiments)"
   ]
  },
  {
   "cell_type": "code",
   "execution_count": 53,
   "metadata": {},
   "outputs": [
    {
     "name": "stdout",
     "output_type": "stream",
     "text": [
      "0.0 ),—or rather, not i, but one jane rochester, a person whom as yet i knew not.\n",
      "0.0 he checked himself in his exultation to demand, “but is there anything the matter, janet, that you c\n",
      "0.0 he checked himself in his exultation to demand, “but is there anything the matter, janet, that you c\n",
      "-0.01666666666666668 yes, you are dripping like a mermaid; pull my cloak round you: but i think you are feverish, jane: b\n",
      "0.0 you wandered out of the fold to seek your shepherd, did you, jane?” “i wanted you: but don’t boast.\n",
      "-0.0263888888888889 “take a seat and bear me company, jane: please god, it is the last meal but one you will eat at thor\n",
      "0.0 “is it because you have the prospect of a journey before you, jane?\n",
      "0.0 “sir, have you finished supper?” “yes, jane.” i rang the bell and ordered away the tray.\n",
      "0.14722222222222223 “yes: but remember, jane, you promised to wake with me the night before my wedding.” “i did; and i w\n",
      "0.0 i wish this present hour would never end: who knows with what fate the next may come charged?” “this\n",
      "0.0 “give me your confidence, jane,” he said: “relieve your mind of any weight that oppresses it, by imp\n",
      "0.3242424242424242 what do you fear?—that i shall not prove a good husband?” “it is the idea farthest from my thoughts.\n",
      "-0.05000000000000001 i thought, sir, that you were on the road a long way before me; and i strained every nerve to overta\n",
      "0.5 you say you love me, janet: yes—i will not forget that; and you cannot deny it.\n",
      "0.5 you say you love me, janet: yes—i will not forget that; and you cannot deny it.\n",
      "0.125 i heard them clear and soft: a thought too solemn perhaps, but sweet as music—‘i think it is a glori\n",
      "-0.4000000000000001 look wicked, jane: as you know well how to look: coin one of your wild, shy, provoking smiles; tell \n",
      "-0.11851851851851854 i sat down on the narrow ledge; i hushed the scared infant in my lap: you turned an angle of the roa\n",
      "-0.043558029272315 the shape standing before me had never crossed my eyes within the precincts of thornfield hall befor\n",
      "-0.27111111111111114 i wish i could forget the roll of the red eyes and the fearful blackened inflation of the lineaments\n",
      "0.10454545454545455 i wish i could believe them to be only such: i wish it more now than ever; since even you cannot exp\n",
      "0.0 after some minutes’ silence, he continued, cheerily— “now, janet, i’ll explain to you all about it.\n",
      "0.0 after some minutes’ silence, he continued, cheerily— “now, janet, i’ll explain to you all about it.\n",
      "0.5 are you satisfied, jane?\n",
      "0.35000000000000003 you must share it with her to-night, jane: it is no wonder that the incident you have related should\n",
      "-0.27083333333333337 and now, no more sombre thoughts: chase dull care away, janet.\n",
      "-0.27083333333333337 and now, no more sombre thoughts: chase dull care away, janet.\n",
      "0.3491666666666667 “well,” said mr. rochester, gazing inquiringly into my eyes, “how is my janet now?” “the night is se\n",
      "0.3491666666666667 “well,” said mr. rochester, gazing inquiringly into my eyes, “how is my janet now?” “the night is se\n",
      "-0.15555555555555559 “jane!” called a voice, and i hastened down.\n",
      "0.3333333333333333 wood is in the vestry, sir, putting on his surplice.” “and the carriage?” “the horses are harnessing\n",
      "0.030000000000000006 “delay an instant: lean on me, jane.” and now i can recall the picture of the grey old house of god \n",
      "-0.31875 this girl,” he continued, looking at me, “knew no more than you, wood, of the disgusting secret: she\n",
      "0.05 and this is what i wished to have” (laying his hand on my shoulder): “this young girl, who stands so\n",
      "0.0 and yet where was the jane eyre of yesterday?—where was her life?—where were her prospects?\n",
      "-0.40499999999999997 jane eyre, who had been an ardent, expectant woman—almost a bride, was a cold, solitary girl again: \n",
      "-0.40499999999999997 jane eyre, who had been an ardent, expectant woman—almost a bride, was a cold, solitary girl again: \n",
      "0.0 i suppose, then, your heart has been weeping blood?” “well, jane!\n",
      "0.0 you sit quietly where i have placed you, and regard me with a weary, passive look.” “jane, i never m\n",
      "-0.05 “you know i am a scoundrel, jane?” ere long he inquired wistfully—wondering, i suppose, at my contin\n",
      "0.45 i do not want to leave him—i cannot leave him.” “how are you now, jane?” “much better, sir; i shall \n",
      "0.4 you consider my arms filled and my embraces appropriated?” “at any rate, there is neither room nor c\n",
      "0.06068181818181817 you intend to make yourself a complete stranger to me: to live under this roof only as adèle’s gover\n",
      "-0.5 jane, you shall not stay here, nor will i.  i was wrong ever to bring you to thornfield hall, knowin\n",
      "-0.013333333333333336 i charged them to conceal from you, before i ever saw you, all knowledge of the curse of the place; \n",
      "-0.559375 it is cruel—she cannot help being mad.” “jane, my little darling (so i will call you, for so you are\n",
      "0.3125 i only ask you to endure one more night under this roof, jane; and then, farewell to its miseries an\n",
      "0.04375000000000001 i have a place to repair to, which will be a secure sanctuary from hateful reminiscences, from unwel\n",
      "0.17500000000000002 “now for the hitch in jane’s character,” he said at last, speaking more calmly than from his look i \n",
      "0.0 “jane!\n",
      "0.058750000000000004 “but i am not angry, jane: i only love you too well; and you had steeled your little pale face with \n",
      "0.0 “jane!\n",
      "0.25 jane!” he said, in such an accent of bitter sadness it thrilled along every nerve i had; “you don’t \n",
      "0.25 “i do love you,” i said, “more than ever: but i must not show or indulge the feeling: and this is th\n",
      "-0.05 rochester, i must leave you.” “for how long, jane?\n",
      "0.20714285714285713 jane, you must be reasonable, or in truth i shall again become frantic.” his voice and hand quivered\n",
      "-0.28750000000000003 if i lived with you as you desire, i should then be your mistress: to say otherwise is sophistical—i\n",
      "0.26785714285714285 oh, i am certain jane will agree with me in opinion, when she knows all that i know!\n",
      "0.03333333333333333 just put your hand in mine, janet—that i may have the evidence of touch as well as sight, to prove y\n",
      "0.03333333333333333 just put your hand in mine, janet—that i may have the evidence of touch as well as sight, to prove y\n",
      "0.4333333333333333 jane, did you ever hear or know that i was not the eldest son of my house: that i had once a brother\n",
      "0.26666666666666666 “jane, i will not trouble you with abominable details: some strong words shall express what i have t\n",
      "-0.1875 jane, you don’t like my narrative; you look almost sick—shall i defer the rest to another day?” “no,\n",
      "0.15 but that is not your pity, jane; it is not the feeling of which your whole face is full at this mome\n",
      "-0.11249999999999999 i accept it, jane; let the daughter have free advent—my arms wait to receive her.” “now, sir, procee\n",
      "0.08392857142857141 while i walked under the dripping orange-trees of my wet garden, and amongst its drenched pomegranat\n",
      "0.0 where did you go?” “what did i do, jane?\n",
      "0.29285714285714287 i meant to tell my tale plainly, and make my proposals openly: and it appeared to me so absolutely r\n",
      "0.2 but, jane, i see by your face you are not forming a very favourable opinion of me just now.\n",
      "-0.17714285714285716 i now hate the recollection of the time i passed with céline, giacinta, and clara.” i felt the truth\n",
      "0.0 “now, jane, why don’t you say ‘well, sir?’  i have not done.\n",
      "-0.125 i heard you come home that night, jane, though probably you were not aware that i thought of you or \n",
      "-0.012499999999999997 adèle claimed your outward attention for a while; yet i fancied your thoughts were elsewhere: but yo\n",
      "0.325 the voice of mrs. fairfax, speaking to a servant in the hall, wakened you: and how curiously you smi\n",
      "0.325 the voice of mrs. fairfax, speaking to a servant in the hall, wakened you: and how curiously you smi\n",
      "0.15595238095238095 very soon you seemed to get used to me: i believe you felt the existence of sympathy between you and\n",
      "0.14241071428571428 your habitual expression in those days, jane, was a thoughtful look; not despondent, for you were no\n",
      "0.04444444444444446 i used to enjoy a chance meeting with you, jane, at this time: there was a curious hesitation in you\n",
      "-0.008333333333333331 “no, jane,” he returned: “what necessity is there to dwell on the past, when the present is so much \n",
      "0.0 jane—give it me now.” a pause.\n",
      "0.0 “why are you silent, jane?” i was experiencing an ordeal: a hand of fiery iron grasped my vitals.\n",
      "0.0 one drear word comprised my intolerable duty—“depart!” “jane, you understand what i want of you?\n",
      "-0.2961111111111111 “jane!” recommenced he, with a gentleness that broke me down with grief, and turned me stone-cold wi\n",
      "-0.125 “oh, jane, this is bitter!\n",
      "0.0 “one instant, jane.\n",
      "0.0 what shall i do, jane?\n",
      "0.0 come, jane, come!” as he said this, he released me from his clutch, and only looked at me.\n",
      "0.0 “you are going, jane?” “i am going, sir.” “you are leaving me?” “yes.” “you will not come?\n",
      "-0.27083333333333337 how hard it was to reiterate firmly, “i am going.” “jane!” “mr.\n",
      "0.6 go up to your own room; think over all i have said, and, jane, cast a glance on my sufferings—think \n",
      "0.0 “oh, jane!\n",
      "0.1325 “god keep you from harm and wrong—direct you, solace you—reward you well for your past kindness to m\n",
      "0.5 but jane will give me her love: yes—nobly, generously.” up the blood rushed to his face; forth flash\n"
     ]
    }
   ],
   "source": [
    "for sent,sentiment in zip(janeSlist,JANESentiments):\n",
    "    print(sentiment,sent.replace('\\n',' ')[:100])"
   ]
  },
  {
   "cell_type": "code",
   "execution_count": 54,
   "metadata": {},
   "outputs": [],
   "source": [
    "mrsberthaNormed = mrsbertha/np.linalg.norm(mrsbertha)\n",
    "msjaneNormed = msjane/np.linalg.norm(msjane)"
   ]
  },
  {
   "cell_type": "code",
   "execution_count": 55,
   "metadata": {},
   "outputs": [
    {
     "data": {
      "text/plain": [
       "0.04655671076946038"
      ]
     },
     "execution_count": 55,
     "metadata": {},
     "output_type": "execute_result"
    }
   ],
   "source": [
    "sum(msjane)/len(msjane)"
   ]
  },
  {
   "cell_type": "code",
   "execution_count": 56,
   "metadata": {},
   "outputs": [
    {
     "data": {
      "text/plain": [
       "-0.04467499714380093"
      ]
     },
     "execution_count": 56,
     "metadata": {},
     "output_type": "execute_result"
    }
   ],
   "source": [
    "sum(mrsbertha)/len(mrsbertha)"
   ]
  },
  {
   "cell_type": "markdown",
   "metadata": {},
   "source": [
    "The pair of numbers for sentiments of different characters are for the hypothesis very much, they are almost opposite to each other, which shows they are the two sides of women. Jane stands for the positive side and Bertha stands for the negative. Charlotte Brontë was influenced by the colonialism and male patriarchism of that background in some degree, having Bertha as negative example as a woman, Jane would get more agreements by the society of the day, her love with Mr. Rochester would be more comprehensive."
   ]
  },
  {
   "cell_type": "markdown",
   "metadata": {},
   "source": [
    "But sometimes sentences which include character's name may not reflect emotion directly, such as \"What's up, Jane?\", it's a sentence without direct sentiments. Maybe adjectives in these sentences could express the writers' intention better. I will extract all adjectives of the sentencelist above, and put them in a fixed, meaningless sentence of \"It's a _ thing\", and calculate the sentiments of these adjectives again."
   ]
  },
  {
   "cell_type": "code",
   "execution_count": 57,
   "metadata": {},
   "outputs": [],
   "source": [
    "aa=str(berthaSlist)\n",
    "bb=word_tokenize(aa) \n",
    "cc=pos_tag(bb)\n",
    "dd= [pair[0] for pair in cc\n",
    "               if pair[1] in ['JJ', 'JJR', 'JJS'] and pair[0].isalpha()] "
   ]
  },
  {
   "cell_type": "code",
   "execution_count": 58,
   "metadata": {},
   "outputs": [
    {
     "data": {
      "text/plain": [
       "[('i', 11),\n",
       " ('mad', 8),\n",
       " ('fifteen', 6),\n",
       " ('hideous', 6),\n",
       " ('first', 5),\n",
       " ('such', 5),\n",
       " ('secret', 5),\n",
       " ('real', 4),\n",
       " ('low', 4),\n",
       " ('ferndean', 4),\n",
       " ('spanish', 4),\n",
       " ('lunatic', 4),\n",
       " ('quiet', 4),\n",
       " ('single', 4),\n",
       " ('infamous', 4),\n",
       " ('new', 3),\n",
       " ('more', 3),\n",
       " ('last', 3),\n",
       " ('old', 3),\n",
       " ('deep', 3)]"
      ]
     },
     "execution_count": 58,
     "metadata": {},
     "output_type": "execute_result"
    }
   ],
   "source": [
    "Counter(dd).most_common(20)"
   ]
  },
  {
   "cell_type": "markdown",
   "metadata": {},
   "source": [
    "Most of the adjectives for Bertha are negative, like \"mad\", \"infamous\", \"hideous\"."
   ]
  },
  {
   "cell_type": "code",
   "execution_count": 59,
   "metadata": {},
   "outputs": [],
   "source": [
    "makeBerthalist=[] # To build a list of new sentences including adjectives.\n",
    "for word in dd: \n",
    "    makeBerthalist.append(\"It's a \"+word+\" thing\"+\".\")"
   ]
  },
  {
   "cell_type": "code",
   "execution_count": 60,
   "metadata": {},
   "outputs": [],
   "source": [
    "berthaSentiments=[TextBlob(sent).sentiment.polarity\n",
    "                  for sent in makeBerthalist]"
   ]
  },
  {
   "cell_type": "code",
   "execution_count": 61,
   "metadata": {},
   "outputs": [
    {
     "name": "stdout",
     "output_type": "stream",
     "text": [
      "-0.1 It's a feverish thing.\n",
      "-0.1 It's a feverish thing.\n",
      "0.8 It's a great thing.\n",
      "0.13636363636363635 It's a new thing.\n",
      "-0.3 It's a late thing.\n",
      "0.0 It's a third thing.\n",
      "0.5 It's a more thing.\n",
      "-0.125 It's a other thing.\n",
      "-0.05 It's a long thing.\n",
      "-0.1875 It's a little thing.\n",
      "0.0 It's a actual thing.\n",
      "0.0 It's a mournful thing.\n",
      "0.25 It's a first thing.\n",
      "-0.8 It's a doubtful thing.\n",
      "0.0 It's a doleful thing.\n",
      "0.0 It's a last thing.\n",
      "-0.05 It's a long thing.\n",
      "-0.1 It's a inarticulate thing.\n",
      "-0.1 It's a careful thing.\n",
      "-0.1 It's a rough thing.\n",
      "0.2 It's a real thing.\n",
      "-0.16666666666666666 It's a previous thing.\n",
      "0.2 It's a real thing.\n",
      "0.0 It's a correct thing.\n",
      "0.1 It's a old thing.\n",
      "0.0 It's a civil thing.\n",
      "0.3 It's a distinct thing.\n",
      "0.1 It's a near thing.\n",
      "0.0 It's a same thing.\n",
      "0.0 It's a firmer thing.\n",
      "0.0 It's a deep thing.\n",
      "0.0 It's a low thing.\n",
      "-0.3333333333333333 It's a subtle thing.\n",
      "0.0 It's a lady thing.\n",
      "0.0 It's a nasal thing.\n",
      "0.0 It's a fifteen thing.\n",
      "0.0 It's a ferndean thing.\n",
      "0.0 It's a spanish thing.\n",
      "0.0 It's a lady thing.\n",
      "0.0 It's a nasal thing.\n",
      "0.0 It's a fifteen thing.\n",
      "0.0 It's a ferndean thing.\n",
      "0.0 It's a spanish thing.\n",
      "0.0 It's a lady thing.\n",
      "0.0 It's a nasal thing.\n",
      "0.0 It's a fifteen thing.\n",
      "0.0 It's a ferndean thing.\n",
      "0.0 It's a spanish thing.\n",
      "0.0 It's a richard thing.\n",
      "0.4 It's a genuine thing.\n",
      "0.0 It's a sacred thing.\n",
      "0.25 It's a aware thing.\n",
      "0.0 It's a s thing.\n",
      "0.0 It's a articulate thing.\n",
      "0.0 It's a last thing.\n",
      "0.1 It's a old thing.\n",
      "-1.0 It's a grim thing.\n",
      "0.5 It's a better thing.\n",
      "0.0 It's a sternest thing.\n",
      "0.5 It's a many thing.\n",
      "0.0 It's a mysterious thing.\n",
      "0.0 It's a lunatic thing.\n",
      "0.0 It's a bastard thing.\n",
      "0.0 It's a fifteen thing.\n",
      "0.0 It's a white thing.\n",
      "0.0 It's a stout thing.\n",
      "0.0 It's a fifteen thing.\n",
      "0.0 It's a white thing.\n",
      "0.0 It's a stout thing.\n",
      "0.0 It's a fifteen thing.\n",
      "0.0 It's a white thing.\n",
      "0.0 It's a stout thing.\n",
      "-0.625 It's a mad thing.\n",
      "-0.625 It's a mad thing.\n",
      "-0.625 It's a mad thing.\n",
      "-0.625 It's a mad thing.\n",
      "0.0 It's a dutiful thing.\n",
      "0.5 It's a more thing.\n",
      "0.7 It's a fair thing.\n",
      "0.2 It's a legal thing.\n",
      "0.0 It's a defrauded thing.\n",
      "-0.6999999999999998 It's a bad thing.\n",
      "-0.625 It's a mad thing.\n",
      "0.0 It's a human thing.\n",
      "0.25 It's a first thing.\n",
      "-0.05 It's a strange thing.\n",
      "0.1 It's a wild thing.\n",
      "0.1 It's a wild thing.\n",
      "0.5 It's a glad thing.\n",
      "0.21428571428571427 It's a certain thing.\n",
      "-0.2 It's a dead thing.\n",
      "0.0 It's a madeira thing.\n",
      "0.0 It's a i thing.\n",
      "0.5 It's a better thing.\n",
      "-0.25 It's a anxious thing.\n",
      "0.0 It's a quiet thing.\n",
      "0.0 It's a brief thing.\n",
      "0.0 It's a lunatic thing.\n",
      "0.1 It's a loud thing.\n",
      "-0.2 It's a few thing.\n",
      "0.0 It's a short thing.\n",
      "0.0 It's a open thing.\n",
      "0.0 It's a quiet thing.\n",
      "0.0 It's a brief thing.\n",
      "0.0 It's a lunatic thing.\n",
      "0.1 It's a loud thing.\n",
      "-0.2 It's a few thing.\n",
      "0.0 It's a short thing.\n",
      "0.0 It's a open thing.\n",
      "0.2 It's a much thing.\n",
      "-0.05 It's a strange thing.\n",
      "0.0 It's a low thing.\n",
      "0.1 It's a complete thing.\n",
      "0.0 It's a adèle thing.\n",
      "0.375 It's a friendly thing.\n",
      "0.375 It's a friendly thing.\n",
      "0.0 It's a continual thing.\n",
      "0.13636363636363635 It's a new thing.\n",
      "0.0 It's a i thing.\n",
      "0.0 It's a hideous thing.\n",
      "0.0 It's a open thing.\n",
      "-0.2 It's a narrow thing.\n",
      "0.2 It's a real thing.\n",
      "-0.4 It's a worse thing.\n",
      "0.0 It's a such thing.\n",
      "0.0 It's a i thing.\n",
      "0.0 It's a adèle thing.\n",
      "0.1 It's a old thing.\n",
      "0.0 It's a ferndean thing.\n",
      "0.0 It's a retired thing.\n",
      "-0.16666666666666666 It's a hidden thing.\n",
      "0.0 It's a enough thing.\n",
      "0.0 It's a s thing.\n",
      "0.0 It's a s thing.\n",
      "0.0 It's a i thing.\n",
      "0.0 It's a thornfield thing.\n",
      "0.0 It's a front thing.\n",
      "0.0 It's a lower thing.\n",
      "0.0 It's a give thing.\n",
      "-0.9 It's a fearful thing.\n",
      "0.0 It's a grimsby thing.\n",
      "0.375 It's a familiar thing.\n",
      "0.0 It's a inexorable thing.\n",
      "-0.5 It's a unfortunate thing.\n",
      "0.0 It's a vindictive thing.\n",
      "-0.1875 It's a little thing.\n",
      "-0.625 It's a mad thing.\n",
      "0.0 It's a i thing.\n",
      "0.2 It's a capable thing.\n",
      "0.13636363636363635 It's a new thing.\n",
      "0.2857142857142857 It's a right thing.\n",
      "0.21428571428571427 It's a certain thing.\n",
      "0.2 It's a real thing.\n",
      "0.0 It's a vast thing.\n",
      "0.0 It's a spanish thing.\n",
      "0.0 It's a besotted thing.\n",
      "-0.6666666666666666 It's a idiotic thing.\n",
      "-0.625 It's a mad thing.\n",
      "0.0 It's a lunatic thing.\n",
      "0.0 It's a elder thing.\n",
      "0.0 It's a i thing.\n",
      "-0.5 It's a feeble thing.\n",
      "0.0 It's a continued thing.\n",
      "0.0 It's a wretched thing.\n",
      "0.0 It's a same thing.\n",
      "0.0 It's a vile thing.\n",
      "-0.25 It's a alien thing.\n",
      "0.0 It's a obnoxious thing.\n",
      "-0.3 It's a common thing.\n",
      "0.0 It's a low thing.\n",
      "-0.2 It's a narrow thing.\n",
      "0.0 It's a incapable thing.\n",
      "0.25 It's a higher thing.\n",
      "-0.07142857142857142 It's a single thing.\n",
      "-0.07142857142857142 It's a single thing.\n",
      "0.0 It's a coarse thing.\n",
      "0.0 It's a trite thing.\n",
      "0.0 It's a perverse thing.\n",
      "0.0 It's a quiet thing.\n",
      "0.0 It's a continued thing.\n",
      "0.0 It's a unreasonable thing.\n",
      "0.0 It's a upbraiding thing.\n",
      "-0.4 It's a secret thing.\n",
      "0.0 It's a deep thing.\n",
      "0.0 It's a vile thing.\n",
      "-0.25 It's a alien thing.\n",
      "0.0 It's a obnoxious thing.\n",
      "-0.3 It's a common thing.\n",
      "0.0 It's a low thing.\n",
      "-0.2 It's a narrow thing.\n",
      "0.0 It's a incapable thing.\n",
      "0.25 It's a higher thing.\n",
      "-0.07142857142857142 It's a single thing.\n",
      "-0.07142857142857142 It's a single thing.\n",
      "0.0 It's a coarse thing.\n",
      "0.0 It's a trite thing.\n",
      "0.0 It's a perverse thing.\n",
      "0.0 It's a quiet thing.\n",
      "0.0 It's a continued thing.\n",
      "0.0 It's a unreasonable thing.\n",
      "0.0 It's a upbraiding thing.\n",
      "-0.4 It's a secret thing.\n",
      "0.0 It's a deep thing.\n",
      "0.35 It's a true thing.\n",
      "-0.5 It's a infamous thing.\n",
      "0.0 It's a hideous thing.\n",
      "0.0 It's a intemperate thing.\n",
      "0.35 It's a true thing.\n",
      "-0.5 It's a infamous thing.\n",
      "0.0 It's a hideous thing.\n",
      "0.0 It's a intemperate thing.\n",
      "0.2 It's a legal thing.\n",
      "0.2 It's a legal thing.\n",
      "0.4 It's a free thing.\n",
      "-0.625 It's a mad thing.\n",
      "0.0 It's a odious thing.\n",
      "0.5 It's a better thing.\n",
      "0.0 It's a senior thing.\n",
      "0.0 It's a likely thing.\n",
      "0.0 It's a medical thing.\n",
      "0.0 It's a fiery thing.\n",
      "0.0 It's a indian thing.\n",
      "0.0 It's a sullied thing.\n",
      "-0.9 It's a outraged thing.\n",
      "0.0 It's a blighted thing.\n",
      "0.25 It's a first thing.\n",
      "-0.125 It's a extreme thing.\n",
      "0.0 It's a hideous thing.\n",
      "0.0 It's a urgent thing.\n",
      "-0.4 It's a secret thing.\n",
      "-0.5 It's a infamous thing.\n",
      "0.0 It's a such thing.\n",
      "0.25 It's a first thing.\n",
      "-0.125 It's a extreme thing.\n",
      "0.0 It's a hideous thing.\n",
      "0.0 It's a urgent thing.\n",
      "-0.4 It's a secret thing.\n",
      "-0.5 It's a infamous thing.\n",
      "0.0 It's a such thing.\n",
      "0.0 It's a i thing.\n",
      "-0.9 It's a fearful thing.\n",
      "0.0 It's a such thing.\n",
      "0.0 It's a i thing.\n",
      "0.0 It's a last thing.\n",
      "-0.4 It's a secret thing.\n",
      "0.1 It's a wild thing.\n",
      "0.0 It's a reckless thing.\n",
      "0.0 It's a i thing.\n",
      "0.35 It's a full thing.\n",
      "-0.05 It's a strange thing.\n",
      "0.0 It's a genial thing.\n",
      "0.03333333333333333 It's a social thing.\n",
      "0.0 It's a silent thing.\n",
      "0.0 It's a mournful thing.\n",
      "0.25 It's a first thing.\n",
      "0.0 It's a such thing.\n",
      "0.1 It's a young thing.\n",
      "0.0 It's a wistful thing.\n",
      "0.2 It's a much thing.\n",
      "0.5 It's a more thing.\n",
      "-0.5 It's a difficult thing.\n",
      "-0.1 It's a empty thing.\n",
      "0.0 It's a hideous thing.\n",
      "0.0 It's a maniac thing.\n",
      "0.0 It's a yonder thing.\n",
      "0.0 It's a i thing.\n",
      "-0.125 It's a other thing.\n",
      "0.0 It's a twenty thing.\n",
      "0.0 It's a i thing.\n",
      "0.0 It's a straw thing.\n"
     ]
    }
   ],
   "source": [
    "for sent,sentiment in zip(makeBerthalist,berthaSentiments):\n",
    "    print(sentiment,sent.replace('\\n',' ')[:100])"
   ]
  },
  {
   "cell_type": "code",
   "execution_count": 62,
   "metadata": {},
   "outputs": [],
   "source": [
    "madbertha=pd.Series(berthaSentiments)"
   ]
  },
  {
   "cell_type": "code",
   "execution_count": 63,
   "metadata": {},
   "outputs": [],
   "source": [
    "ee=str(janeSlist)\n",
    "ff=word_tokenize(ee)\n",
    "gg=pos_tag(ff)\n",
    "hh=[pair[0] for pair in gg\n",
    "               if pair[1] in ['JJ', 'JJR', 'JJS'] and pair[0].isalpha()] "
   ]
  },
  {
   "cell_type": "code",
   "execution_count": 64,
   "metadata": {},
   "outputs": [
    {
     "data": {
      "text/plain": [
       "[('i', 18),\n",
       " ('little', 7),\n",
       " ('last', 5),\n",
       " ('more', 5),\n",
       " ('long', 4),\n",
       " ('new', 4),\n",
       " ('pale', 4),\n",
       " ('such', 3),\n",
       " ('mad', 3),\n",
       " ('real', 3),\n",
       " ('certain', 3),\n",
       " ('whole', 2),\n",
       " ('narrow', 2),\n",
       " ('large', 2),\n",
       " ('dark', 2),\n",
       " ('wish', 2),\n",
       " ('full', 2),\n",
       " ('ll', 2),\n",
       " ('sombre', 2),\n",
       " ('serene', 2)]"
      ]
     },
     "execution_count": 64,
     "metadata": {},
     "output_type": "execute_result"
    }
   ],
   "source": [
    "Counter(hh).most_common(20)"
   ]
  },
  {
   "cell_type": "code",
   "execution_count": 65,
   "metadata": {},
   "outputs": [],
   "source": [
    "makeJanelist=[] #The same steps for Jane.\n",
    "for word in hh: \n",
    "    makeJanelist.append(\"It's a \"+word+\" thing\"+\".\")"
   ]
  },
  {
   "cell_type": "code",
   "execution_count": 66,
   "metadata": {},
   "outputs": [],
   "source": [
    "janeSentiments=[TextBlob(sent).sentiment.polarity\n",
    "                  for sent in makeJanelist]"
   ]
  },
  {
   "cell_type": "code",
   "execution_count": 67,
   "metadata": {},
   "outputs": [
    {
     "name": "stdout",
     "output_type": "stream",
     "text": [
      "0.0 It's a i thing.\n",
      "0.0 It's a i thing.\n",
      "0.0 It's a i thing.\n",
      "-0.1 It's a feverish thing.\n",
      "0.25 It's a hot thing.\n",
      "0.0 It's a last thing.\n",
      "-0.05 It's a long thing.\n",
      "-0.3 It's a least thing.\n",
      "0.3333333333333333 It's a extraordinary thing.\n",
      "0.0 It's a present thing.\n",
      "0.0 It's a next thing.\n",
      "0.0 It's a hypochondria thing.\n",
      "0.0 It's a i thing.\n",
      "0.7 It's a good thing.\n",
      "0.0 It's a apprehensive thing.\n",
      "0.13636363636363635 It's a new thing.\n",
      "0.13636363636363635 It's a new thing.\n",
      "0.0 It's a sorrowful thing.\n",
      "-0.05 It's a long thing.\n",
      "-0.1 It's a inarticulate thing.\n",
      "0.10000000000000002 It's a clear thing.\n",
      "0.1 It's a soft thing.\n",
      "0.0 It's a solemn thing.\n",
      "0.0 It's a glorious thing.\n",
      "0.0 It's a i thing.\n",
      "0.2 It's a whole thing.\n",
      "-0.05 It's a strange thing.\n",
      "-0.2 It's a narrow thing.\n",
      "0.0 It's a scared thing.\n",
      "0.0 It's a i thing.\n",
      "0.0 It's a last thing.\n",
      "0.13636363636363635 It's a new thing.\n",
      "0.21428571428571427 It's a large thing.\n",
      "-0.30000000000000004 It's a thick thing.\n",
      "-0.15 It's a dark thing.\n",
      "0.0 It's a wish thing.\n",
      "0.0 It's a red thing.\n",
      "-0.9 It's a fearful thing.\n",
      "0.0 It's a blackened thing.\n",
      "-0.21 It's a pale thing.\n",
      "0.0 It's a purple thing.\n",
      "-0.15 It's a dark thing.\n",
      "-0.16666666666666666 It's a black thing.\n",
      "0.0 It's a bloodshot thing.\n",
      "0.0 It's a wish thing.\n",
      "0.0 It's a such thing.\n",
      "0.0 It's a i thing.\n",
      "-1.0 It's a awful thing.\n",
      "0.4 It's a cheerful thing.\n",
      "0.375 It's a familiar thing.\n",
      "0.35 It's a full thing.\n",
      "0.3 It's a distinct thing.\n",
      "0.5 It's a top thing.\n",
      "0.0 It's a i thing.\n",
      "0.0 It's a ll thing.\n",
      "0.0 It's a i thing.\n",
      "0.0 It's a ll thing.\n",
      "0.0 It's a nervous thing.\n",
      "0.5 It's a glad thing.\n",
      "0.5 It's a more thing.\n",
      "0.0 It's a sombre thing.\n",
      "0.5 It's a more thing.\n",
      "0.0 It's a sombre thing.\n",
      "0.0 It's a serene thing.\n",
      "0.8 It's a happy thing.\n",
      "0.0 It's a blissful thing.\n",
      "-0.1875 It's a little thing.\n",
      "0.0 It's a i thing.\n",
      "0.0 It's a serene thing.\n",
      "0.8 It's a happy thing.\n",
      "0.0 It's a blissful thing.\n",
      "-0.1875 It's a little thing.\n",
      "0.0 It's a i thing.\n",
      "0.2 It's a ready thing.\n",
      "0.2 It's a ready thing.\n",
      "-0.05 It's a grey thing.\n",
      "0.1 It's a old thing.\n",
      "0.0 It's a ruddy thing.\n",
      "0.5 It's a more thing.\n",
      "0.7 It's a fair thing.\n",
      "0.2 It's a legal thing.\n",
      "0.0 It's a defrauded thing.\n",
      "-0.6999999999999998 It's a bad thing.\n",
      "-0.625 It's a mad thing.\n",
      "0.1 It's a young thing.\n",
      "0.0 It's a grave thing.\n",
      "0.0 It's a quiet thing.\n",
      "0.0 It's a fierce thing.\n",
      "0.0 It's a expectant thing.\n",
      "-0.6 It's a cold thing.\n",
      "0.0 It's a solitary thing.\n",
      "-0.21 It's a pale thing.\n",
      "0.0 It's a desolate thing.\n",
      "0.0 It's a expectant thing.\n",
      "-0.6 It's a cold thing.\n",
      "0.0 It's a solitary thing.\n",
      "-0.21 It's a pale thing.\n",
      "0.0 It's a desolate thing.\n",
      "0.0 It's a weary thing.\n",
      "0.0 It's a passive thing.\n",
      "0.0 It's a continued thing.\n",
      "0.5 It's a better thing.\n",
      "0.1 It's a complete thing.\n",
      "0.0 It's a adèle thing.\n",
      "0.375 It's a friendly thing.\n",
      "0.375 It's a friendly thing.\n",
      "0.0 It's a continual thing.\n",
      "0.13636363636363635 It's a new thing.\n",
      "0.0 It's a i thing.\n",
      "0.0 It's a hideous thing.\n",
      "0.0 It's a open thing.\n",
      "-0.2 It's a narrow thing.\n",
      "0.2 It's a real thing.\n",
      "-0.4 It's a worse thing.\n",
      "0.0 It's a such thing.\n",
      "-0.5 It's a wrong thing.\n",
      "0.0 It's a i thing.\n",
      "0.0 It's a adèle thing.\n",
      "0.1 It's a old thing.\n",
      "0.0 It's a ferndean thing.\n",
      "0.0 It's a retired thing.\n",
      "-0.16666666666666666 It's a hidden thing.\n",
      "0.0 It's a enough thing.\n",
      "-0.1875 It's a little thing.\n",
      "-0.625 It's a mad thing.\n",
      "0.0 It's a i thing.\n",
      "0.5 It's a more thing.\n",
      "0.4 It's a secure thing.\n",
      "0.0 It's a hateful thing.\n",
      "0.0 It's a unwelcome thing.\n",
      "0.0 It's a last thing.\n",
      "0.5 It's a more thing.\n",
      "0.0 It's a i thing.\n",
      "-0.5 It's a angry thing.\n",
      "-0.1875 It's a little thing.\n",
      "-0.21 It's a pale thing.\n",
      "0.0 It's a frozen thing.\n",
      "0.0 It's a such thing.\n",
      "-0.1 It's a bitter thing.\n",
      "0.0 It's a last thing.\n",
      "0.0 It's a last thing.\n",
      "-0.05 It's a long thing.\n",
      "0.2 It's a reasonable thing.\n",
      "0.21428571428571427 It's a large thing.\n",
      "0.35 It's a cool thing.\n",
      "0.21428571428571427 It's a certain thing.\n",
      "-0.2 It's a few thing.\n",
      "0.2 It's a real thing.\n",
      "-0.2 It's a few thing.\n",
      "0.2 It's a real thing.\n",
      "0.0 It's a eldest thing.\n",
      "0.16666666666666666 It's a older thing.\n",
      "0.0 It's a avaricious thing.\n",
      "0.7 It's a fair thing.\n",
      "0.0 It's a abominable thing.\n",
      "0.4333333333333333 It's a strong thing.\n",
      "0.0 It's a narrative thing.\n",
      "0.0 It's a i thing.\n",
      "0.0 It's a noxious thing.\n",
      "-1.0 It's a insulting thing.\n",
      "0.0 It's a callous thing.\n",
      "-0.5 It's a selfish thing.\n",
      "0.0 It's a hybrid thing.\n",
      "0.0 It's a egotistical thing.\n",
      "0.0 It's a ignorant thing.\n",
      "0.2 It's a whole thing.\n",
      "0.35 It's a full thing.\n",
      "0.4 It's a free thing.\n",
      "-0.625 It's a mad thing.\n",
      "-0.1 It's a wet thing.\n",
      "0.0 It's a drenched thing.\n",
      "0.0 It's a refulgent thing.\n",
      "0.35 It's a true thing.\n",
      "0.2857142857142857 It's a right thing.\n",
      "0.0 It's a rational thing.\n",
      "0.4 It's a free thing.\n",
      "0.25 It's a willing thing.\n",
      "0.5 It's a able thing.\n",
      "0.0 It's a inquisitive thing.\n",
      "0.3 It's a smile thing.\n",
      "0.0 It's a i thing.\n",
      "0.0 It's a favourable thing.\n",
      "0.21428571428571427 It's a certain thing.\n",
      "-0.4 It's a poor thing.\n",
      "0.0 It's a same thing.\n",
      "0.25 It's a aware thing.\n",
      "0.0 It's a i thing.\n",
      "0.0 It's a outward thing.\n",
      "0.0 It's a patient thing.\n",
      "-0.1875 It's a little thing.\n",
      "-0.05 It's a long thing.\n",
      "0.21428571428571427 It's a certain thing.\n",
      "0.7333333333333333 It's a pleasant thing.\n",
      "0.0 It's a simple thing.\n",
      "0.0 It's a sagacious thing.\n",
      "0.0 It's a habitual thing.\n",
      "0.4 It's a thoughtful thing.\n",
      "-0.7142857142857143 It's a sickly thing.\n",
      "0.0 It's a buoyant thing.\n",
      "-0.1875 It's a little thing.\n",
      "0.0 It's a actual thing.\n",
      "-0.1 It's a curious thing.\n",
      "-0.16666666666666666 It's a slight thing.\n",
      "0.0 It's a stern thing.\n",
      "0.0 It's a benignant thing.\n",
      "0.2 It's a much thing.\n",
      "0.2 It's a much thing.\n",
      "-0.2 It's a infatuated thing.\n",
      "0.0 It's a silent thing.\n",
      "0.0 It's a drear thing.\n",
      "0.0 It's a intolerable thing.\n",
      "0.0 It's a ominous thing.\n",
      "-0.1 It's a bitter thing.\n",
      "-0.2916666666666667 It's a hard thing.\n",
      "0.6 It's a own thing.\n",
      "-0.25 It's a past thing.\n",
      "-0.1875 It's a little thing.\n",
      "1.0 It's a best thing.\n"
     ]
    }
   ],
   "source": [
    "for sent,sentiment in zip(makeJanelist,janeSentiments):\n",
    "    print(sentiment,sent.replace('\\n',' ')[:100])"
   ]
  },
  {
   "cell_type": "code",
   "execution_count": 68,
   "metadata": {},
   "outputs": [],
   "source": [
    "clamjane=pd.Series(janeSentiments) # I name the figure as \"clamjane, because she is really clam!\""
   ]
  },
  {
   "cell_type": "code",
   "execution_count": 69,
   "metadata": {},
   "outputs": [],
   "source": [
    "madberthaNormed = madbertha/np.linalg.norm(madbertha)\n",
    "clamjaneNormed = clamjane/np.linalg.norm(clamjane)"
   ]
  },
  {
   "cell_type": "code",
   "execution_count": 70,
   "metadata": {},
   "outputs": [
    {
     "data": {
      "text/plain": [
       "<matplotlib.axes._subplots.AxesSubplot at 0x1b939629da0>"
      ]
     },
     "execution_count": 70,
     "metadata": {},
     "output_type": "execute_result"
    },
    {
     "data": {
      "image/png": "[encoded data removed]",
      "text/plain": [
       "<Figure size 1296x720 with 1 Axes>"
      ]
     },
     "metadata": {},
     "output_type": "display_data"
    },
    {
     "data": {
      "image/png": "[encoded data removed]",
      "text/plain": [
       "<Figure size 1296x720 with 1 Axes>"
      ]
     },
     "metadata": {},
     "output_type": "display_data"
    }
   ],
   "source": [
    "df = pd.DataFrame([pd.Series(mrsberthaNormed).rolling(window=10).mean(), pd.Series(msjaneNormed).rolling(window=10).mean()], index=['mrsbertha', 'msjane']).T\n",
    "df.plot()\n",
    "df = pd.DataFrame([pd.Series(madberthaNormed).rolling(window=10).mean(), pd.Series(clamjaneNormed).rolling(window=10).mean()], index=['madbertha', 'clamjane']).T\n",
    "df.plot()"
   ]
  },
  {
   "cell_type": "markdown",
   "metadata": {},
   "source": [
    "# Figure1: Sentiments analysis of descriptions of Bertha and Jane (upper: respective sentiments analysis of sentences; lower: respective sentiments analysis of adjectives.)"
   ]
  },
  {
   "cell_type": "markdown",
   "metadata": {},
   "source": [
    "There are obvious difference of the orange (jane) and blue (bertha) line above, the blue lines are under the 0 line most of the time, especially in the upper graph, the two lines are nearly symmetry, which reveals the clear attitude of Charlotte Brontë."
   ]
  },
  {
   "cell_type": "markdown",
   "metadata": {},
   "source": [
    "Now I will repeat my operation just like _Jane Eyre_ to _The Problem of Thor Bridge_."
   ]
  },
  {
   "cell_type": "code",
   "execution_count": 71,
   "metadata": {},
   "outputs": [
    {
     "name": "stdout",
     "output_type": "stream",
     "text": [
      "Displaying 11 of 11 matches:\n",
      "lready heard of the tragic end of his wife ? '' `` of course . i remember it now\n",
      "d formidable character . he married a wife , the victim of this tragedy , of who\n",
      " state . then as to the tragedy . the wife was found in the grounds nearly half \n",
      "bson is an attractive person . if his wife dies , who more likely to succeed her\n",
      "over his private iniquities . but his wife was his chief victim . he was brutal \n",
      "s path , and when i remember that his wife may have been an obstacle and an obje\n",
      " go deeper than is needful . i met my wife when i was gold-hunting in brazil . m\n",
      " is worth . there is no doubt that my wife was bitterly jealous . there is a sou\n",
      " as any body-jealousy , and though my wife had no cause -- and i think she under\n",
      "ery way . he may well have wished his wife out of the road . and these americans\n",
      "our true relations with mr. gibson 's wife . '' `` she hated me , mr. holmes . s\n"
     ]
    }
   ],
   "source": [
    "thortext.concordance('wife')"
   ]
  },
  {
   "cell_type": "code",
   "execution_count": 72,
   "metadata": {},
   "outputs": [
    {
     "name": "stdout",
     "output_type": "stream",
     "text": [
      "Displaying 1 of 1 matches:\n",
      "i was gold-hunting in brazil . maria pinto was the daughter of a government off\n"
     ]
    }
   ],
   "source": [
    "thortext.concordance('pinto')"
   ]
  },
  {
   "cell_type": "code",
   "execution_count": 73,
   "metadata": {},
   "outputs": [
    {
     "name": "stdout",
     "output_type": "stream",
     "text": [
      "Displaying 3 of 3 matches:\n",
      "ted to the ground . `` that was where mrs. gibson 's body lay . i marked it by t\n",
      "t she had made an appointment to meet mrs. gibson at the bridge . beyond this sh\n",
      "e that night , i received a note from mrs. gibson in the morning . it lay on the\n"
     ]
    }
   ],
   "source": [
    "thortext.concordance('mrs.')"
   ]
  },
  {
   "cell_type": "code",
   "execution_count": 74,
   "metadata": {},
   "outputs": [
    {
     "name": "stdout",
     "output_type": "stream",
     "text": [
      "Displaying 23 of 23 matches:\n",
      "ut i know beyond all doubt that miss dunbar is innocent . you know the facts -- \n",
      "exact relations between you and miss dunbar ? '' the gold king gave a violent st\n",
      "er , that the relations between miss dunbar and me do n't really touch this case\n",
      "ed as ever . `` then came miss grace dunbar . she answered our advertisement and\n",
      "he might have planned to murder miss dunbar -- or we will say to threaten her wi\n",
      "inst such a supposition ? '' `` miss dunbar herself . '' `` well , perhaps . '' \n",
      "g that . '' `` you 've not seen miss dunbar . she is a wonderful fine woman in e\n",
      "no weapon . the short note from miss dunbar was clutched in her left hand . '' `\n",
      "or bridge at nine o'clock . '' `` g. dunbar . was that not so ? '' `` yes , sir \n",
      "o ? '' `` yes , sir . '' `` did miss dunbar admit writing it ? '' `` yes , sir .\n",
      "er , for i should desire to see miss dunbar before we go farther . '' mr. neil g\n",
      "e o'clock . on the other hand , miss dunbar , as i understand it , admits that s\n",
      "mple , there is this revolver . miss dunbar disclaims all knowledge of it . on o\n",
      "n never forget the effect which miss dunbar produced upon me . it was no wonder \n",
      "ad left the house . '' `` now , miss dunbar , '' said holmes , `` i beg you to t\n",
      "ole morning . '' `` thank you , miss dunbar . is there any other point which cou\n",
      "e coincidence . '' `` curious , miss dunbar , very curious . why should it appea\n",
      "ou will get news by to-morrow , miss dunbar , and meanwhile take my assurance th\n",
      "g , when steps can be taken for miss dunbar 's vindication . '' late that evenin\n",
      " love can bring about . whether miss dunbar was her rival in a physical or in a \n",
      "as extracted very cleverly from miss dunbar which would make it appear that she \n",
      "e she concealed that morning in miss dunbar 's wardrobe after discharging one ba\n",
      "etting rid of her weapon . when miss dunbar appeared she used her last breath in\n"
     ]
    }
   ],
   "source": [
    "thortext.concordance('dunbar')"
   ]
  },
  {
   "cell_type": "code",
   "execution_count": 75,
   "metadata": {},
   "outputs": [
    {
     "name": "stdout",
     "output_type": "stream",
     "text": [
      "Displaying 5 of 5 matches:\n",
      "e unfortunate as a very attractive governess superintended the education of two\n",
      "l very clear . but why suspect the governess ? '' `` well , in the first place \n",
      " that very place and signed by the governess . how 's that ? finally there is t\n",
      "t what were his relations with the governess , and how did you discover them ? \n",
      "wered our advertisement and became governess to our two children . perhaps you \n"
     ]
    }
   ],
   "source": [
    "thortext.concordance('governess')"
   ]
  },
  {
   "cell_type": "code",
   "execution_count": 76,
   "metadata": {},
   "outputs": [
    {
     "name": "stdout",
     "output_type": "stream",
     "text": [
      "Displaying 2 of 2 matches:\n",
      " you have tried to ruin a defenceless girl who was under your roof . some of you\n",
      "ter , she was aware that this english girl exerted an influence upon my mind and\n"
     ]
    }
   ],
   "source": [
    "thortext.concordance('girl')"
   ]
  },
  {
   "cell_type": "code",
   "execution_count": 77,
   "metadata": {},
   "outputs": [],
   "source": [
    "gibsonSlist=[]\n",
    "# The list for \"the mad woman.\"\n",
    "for sentence in (thorSents):\n",
    "        if 'wife'in sentence: \n",
    "            gibsonSlist.append(sentence)\n",
    "        if 'mrs. gibson'in sentence:\n",
    "            gibsonSlist.append(sentence)\n",
    "        if 'victim' in sentence:    \n",
    "            gibsonSlist.append(sentence)\n",
    "        if 'amazon'in sentence:\n",
    "            gibsonSlist.append(sentence)\n",
    "        if 'victim'in sentence:\n",
    "            gibsonSlist.append(sentence)\n",
    "        if 'brazilian'in sentence:\n",
    "            gibsonSlist.append(sentence)\n",
    "        if 'tropical'in sentence:\n",
    "            gibsonSlist.append(sentence)\n",
    "        if 'maria pinto'in sentence:\n",
    "            gibsonSlist.append(sentence)\n",
    "        if 'poor lady'in sentence:\n",
    "            gibsonSlist.append(sentence)\n",
    "        if 'unhappy woman'in sentence:\n",
    "            gibsonSlist.append(sentence)"
   ]
  },
  {
   "cell_type": "code",
   "execution_count": 78,
   "metadata": {},
   "outputs": [],
   "source": [
    "GIBSONSentiments=[TextBlob(sent).sentiment.polarity\n",
    "                  for sent in gibsonSlist]"
   ]
  },
  {
   "cell_type": "code",
   "execution_count": 79,
   "metadata": {},
   "outputs": [
    {
     "name": "stdout",
     "output_type": "stream",
     "text": [
      "-0.375 possibly you have already heard of the tragic end of his wife?\"\n",
      "0.14642857142857144 he married a wife, the victim of this tragedy, of whom i know nothing save that she was past her pri\n",
      "0.14642857142857144 he married a wife, the victim of this tragedy, of whom i know nothing save that she was past her pri\n",
      "0.14642857142857144 he married a wife, the victim of this tragedy, of whom i know nothing save that she was past her pri\n",
      "-0.23333333333333334 the wife was found in the grounds nearly half a mile from the house, late at night, clad in her dinn\n",
      "0.19999999999999998 if his wife dies, who more likely to succeed her than the young lady who had already by all accounts\n",
      "-0.07500000000000001 but his wife was his chief victim.\n",
      "-0.07500000000000001 but his wife was his chief victim.\n",
      "-0.07500000000000001 but his wife was his chief victim.\n",
      "0.0 she was a creature of the tropics, a brazilian by birth, as no doubt you know.\"\n",
      "0.0 \"tropical by birth and tropical by nature.\n",
      "0.08333333333333333 \"well, holmes, i must confess that when i consider that this is a man who would certainly brush any \n",
      "0.045000000000000005 when i considered the passionate, unconventional, unbusinesslike tone of his letter and contrasted i\n",
      "0.045000000000000005 when i considered the passionate, unconventional, unbusinesslike tone of his letter and contrasted i\n",
      "0.0 i met my wife when i was gold-hunting in brazil.\n",
      "1.0 maria pinto was the daughter of a government official at manaos, and she was very beautiful.\n",
      "0.065 it was a deep rich nature, too, passionate, whole-hearted, tropical, ill-balanced, very different fr\n",
      "0.0 she adored me in those english woods as she had adored me twenty years ago on the banks of the amazo\n",
      "-0.1 there is no doubt that my wife was bitterly jealous.\n",
      "0.08333333333333333 there is a soul-jealousy that can be as frantic as any body-jealousy, and though my wife had no caus\n",
      "-0.6 she was crazy with hatred and the heat of the amazon was always in her blood.\n",
      "0.0 he may well have wished his wife out of the road.\n",
      "0.0 \"that was where mrs. gibson's body lay.\n",
      "0.04999999999999999 i am sure that the poor lady who has passed was often terrified.\"\n",
      "-0.125 on the other hand, miss dunbar, as i understand it, admits that she had made an appointment to meet \n",
      "-0.07500000000000001 the victim has come.\n",
      "-0.07500000000000001 the victim has come.\n",
      "0.35 \"tell us, then, of your true relations with mr. gibson's wife.\"\n",
      "-0.9 she hated me with all the fervour of her tropical nature.\n",
      "0.0 \"with regard, then, to my presence at thor bridge that night, i received a note from mrs. gibson in \n",
      "0.34166666666666673 you will also find beside it the revolver, string and weight with which this vindictive woman attemp\n",
      "0.34166666666666673 you will also find beside it the revolver, string and weight with which this vindictive woman attemp\n",
      "-0.23333333333333334 \"it must be admitted that the workings of this unhappy woman's mind were deep and subtle, so that it\n",
      "-0.0625 her second was to do it in such a way as to involve her victim in a fate which was worse far than an\n",
      "-0.0625 her second was to do it in such a way as to involve her victim in a fate which was worse far than an\n"
     ]
    }
   ],
   "source": [
    "for sent,sentiment in zip(gibsonSlist,GIBSONSentiments):\n",
    "    print(sentiment,sent.replace('\\n',' ')[:100])"
   ]
  },
  {
   "cell_type": "code",
   "execution_count": 80,
   "metadata": {},
   "outputs": [],
   "source": [
    "mrsgibson=pd.Series(GIBSONSentiments)"
   ]
  },
  {
   "cell_type": "code",
   "execution_count": 81,
   "metadata": {},
   "outputs": [],
   "source": [
    "dunbarSlist=[]\n",
    "# The list for English girl. \n",
    "for sentence in (thorSents):\n",
    "        if 'governess 'in sentence: \n",
    "            dunbarSlist.append(sentence)\n",
    "        if 'dunbar'in sentence:\n",
    "            dunbarSlist.append(sentence)\n",
    "        if 'young lady' in sentence:    \n",
    "            dunbarSlist.append(sentence)\n",
    "        if 'girl'in sentence:\n",
    "            dunbarSlist.append(sentence)\n",
    "        if 'best woman'in sentence:\n",
    "            dunbarSlist.append(sentence)\n",
    "        if 'grace'in sentence:\n",
    "            dunbarSlist.append(sentence)"
   ]
  },
  {
   "cell_type": "code",
   "execution_count": 82,
   "metadata": {},
   "outputs": [],
   "source": [
    "DUNBARSentiments=[TextBlob(sent).sentiment.polarity\n",
    "                  for sent in dunbarSlist]"
   ]
  },
  {
   "cell_type": "code",
   "execution_count": 83,
   "metadata": {},
   "outputs": [
    {
     "name": "stdout",
     "output_type": "stream",
     "text": [
      "-0.10000000000000002 it was a wild morning in october, and i observed as i was dressing how the last remaining leaves wer\n",
      "0.5 dear mr. sherlock holmes: i can't see the best woman god ever made go to her death without doing all\n",
      "0.5 i can't explain things -- i can't even try to explain them, but i know beyond all doubt that miss du\n",
      "0.14642857142857144 he married a wife, the victim of this tragedy, of whom i know nothing save that she was past her pri\n",
      "0.19999999999999998 if his wife dies, who more likely to succeed her than the young lady who had already by all accounts\n",
      "0.25 \"what were the exact relations between you and miss dunbar?\"\n",
      "0.05 \"then i can assure you that our relations were entirely and always those of an employer towards a yo\n",
      "0.2 i can assure you, however, that the relations between miss dunbar and me don't really touch this cas\n",
      "0.0 \"then came miss grace dunbar.\n",
      "0.0 \"then came miss grace dunbar.\n",
      "0.0 she answered our advertisement and became governess to our two children.\n",
      "0.1 i should blame you if you expressed it, since this young lady was in a sense under your protection.\"\n",
      "0.05 \"it is only for the young lady's sake that i touch your case at all,\" said holmes sternly.\n",
      "-0.4 \"i don't know that anything she is accused of is really worse than what you have yourself admitted, \n",
      "0.08333333333333333 there is a soul-jealousy that can be as frantic as any body-jealousy, and though my wife had no caus\n",
      "0.0 she might have planned to murder miss dunbar -- or we will say to threaten her with a gun and so fri\n",
      "0.0 \"miss dunbar herself.\"\n",
      "0.15 when i have seen this young lady it is very possible that i may be of more use to you in the matter,\n",
      "0.0 \"you've not seen miss dunbar.\n",
      "0.0 the short note from miss dunbar was clutched in her left hand.\"\n",
      "0.0 \"g. dunbar.\n",
      "0.0 \"did miss dunbar admit writing it?\"\n",
      "0.0 then we shall get on to winchester, for i should desire to see miss dunbar before we go farther.\"\n",
      "-0.125 on the other hand, miss dunbar, as i understand it, admits that she had made an appointment to meet \n",
      "0.16583333333333333 we have several very vital questions to ask that young lady, and my mind will not be easy until we h\n",
      "0.0 miss dunbar disclaims all knowledge of it.\n",
      "0.05 we were compelled to spend the night at winchester, as the formalities had not yet been completed, b\n",
      "0.375 i had expected from all that we had heard to see a beautiful woman, but i can never forget the effec\n",
      "0.1 \"my dear young lady,\" cried holmes earnestly, \"i beg you to have no illusions upon the point.\n",
      "0.25 \"now, miss dunbar,\" said holmes, \"i beg you to tell us exactly what occurred that evening.\"\n",
      "0.0 \"thank you, miss dunbar.\n",
      "-0.115 \"curious, miss dunbar, very curious.\n",
      "0.4 you will get news by to-morrow, miss dunbar, and meanwhile take my assurance that the clouds are lif\n",
      "0.0 you can let mr. gibson know that i will see him in the morning, when steps can be taken for miss dun\n",
      "-0.03333333333333333 whether miss dunbar was her rival in a physical or in a merely mental sense seems to have been equal\n",
      "0.21666666666666667 a note was extracted very cleverly from miss dunbar which would make it appear that she had chosen t\n",
      "0.21666666666666667 a similar one she concealed that morning in miss dunbar's wardrobe after discharging one barrel, whi\n",
      "-0.5 when miss dunbar appeared she used her last breath in pouring out her hatred, and then, when she was\n"
     ]
    }
   ],
   "source": [
    "for sent,sentiment in zip(dunbarSlist,DUNBARSentiments):\n",
    "    print(sentiment,sent.replace('\\n',' ')[:100])"
   ]
  },
  {
   "cell_type": "code",
   "execution_count": 84,
   "metadata": {},
   "outputs": [],
   "source": [
    "msdunbar=pd.Series(DUNBARSentiments)"
   ]
  },
  {
   "cell_type": "code",
   "execution_count": 85,
   "metadata": {},
   "outputs": [],
   "source": [
    "mrsgibsonNormed = mrsgibson/np.linalg.norm(mrsgibson) \n",
    "msdunbarNormed = msdunbar/np.linalg.norm(msdunbar)"
   ]
  },
  {
   "cell_type": "code",
   "execution_count": 86,
   "metadata": {},
   "outputs": [
    {
     "data": {
      "text/plain": [
       "-0.0006394557823129239"
      ]
     },
     "execution_count": 86,
     "metadata": {},
     "output_type": "execute_result"
    }
   ],
   "source": [
    "sum(mrsgibson)/len(mrsgibson)"
   ]
  },
  {
   "cell_type": "code",
   "execution_count": 87,
   "metadata": {},
   "outputs": [
    {
     "data": {
      "text/plain": [
       "0.07185776942355888"
      ]
     },
     "execution_count": 87,
     "metadata": {},
     "output_type": "execute_result"
    }
   ],
   "source": [
    "sum(msdunbar)/len(msdunbar)"
   ]
  },
  {
   "cell_type": "markdown",
   "metadata": {},
   "source": [
    "The contrast has become less obvious... Mrs. Gibson is not \"that bad\" here, is it because it was the 20th century, and Doyle got a more objective opinion and more sympathies to women? "
   ]
  },
  {
   "cell_type": "code",
   "execution_count": 88,
   "metadata": {},
   "outputs": [],
   "source": [
    "ii= str(gibsonSlist)\n",
    "jj=word_tokenize(ii)\n",
    "kk=pos_tag(jj)\n",
    "ll=[pair[0] for pair in kk\n",
    "               if pair[1] in ['JJ', 'JJR', 'JJS'] and pair[0].isalpha()] "
   ]
  },
  {
   "cell_type": "code",
   "execution_count": 89,
   "metadata": {},
   "outputs": [
    {
     "data": {
      "text/plain": [
       "[('young', 4),\n",
       " ('tropical', 4),\n",
       " ('i', 4),\n",
       " ('deep', 4),\n",
       " ('more', 3),\n",
       " ('unfortunate', 3),\n",
       " ('attractive', 3),\n",
       " ('chief', 3),\n",
       " ('unconventional', 2),\n",
       " ('unbusinesslike', 2),\n",
       " ('clear', 2),\n",
       " ('accused', 2),\n",
       " ('english', 2),\n",
       " ('vindictive', 2),\n",
       " ('own', 2),\n",
       " ('innocent', 2),\n",
       " ('second', 2),\n",
       " ('worse', 2),\n",
       " ('sudden', 2),\n",
       " ('tragic', 1)]"
      ]
     },
     "execution_count": 89,
     "metadata": {},
     "output_type": "execute_result"
    }
   ],
   "source": [
    "Counter(ll).most_common(20)"
   ]
  },
  {
   "cell_type": "code",
   "execution_count": 90,
   "metadata": {},
   "outputs": [],
   "source": [
    "makeGibsonlist=[]\n",
    "for word in ll: \n",
    "    makeGibsonlist.append(\"It's a \"+word+\" thing\"+\".\")"
   ]
  },
  {
   "cell_type": "code",
   "execution_count": 91,
   "metadata": {},
   "outputs": [],
   "source": [
    "gibsonSentiments=[TextBlob(sent).sentiment.polarity\n",
    "                  for sent in makeGibsonlist]"
   ]
  },
  {
   "cell_type": "code",
   "execution_count": 92,
   "metadata": {},
   "outputs": [
    {
     "name": "stdout",
     "output_type": "stream",
     "text": [
      "-0.75 It's a tragic thing.\n",
      "0.5 It's a more thing.\n",
      "-0.5 It's a unfortunate thing.\n",
      "0.8 It's a attractive thing.\n",
      "0.1 It's a young thing.\n",
      "0.5 It's a more thing.\n",
      "-0.5 It's a unfortunate thing.\n",
      "0.8 It's a attractive thing.\n",
      "0.1 It's a young thing.\n",
      "0.5 It's a more thing.\n",
      "-0.5 It's a unfortunate thing.\n",
      "0.8 It's a attractive thing.\n",
      "0.1 It's a young thing.\n",
      "0.0 It's a likely thing.\n",
      "0.1 It's a young thing.\n",
      "0.0 It's a chief thing.\n",
      "0.0 It's a chief thing.\n",
      "0.0 It's a chief thing.\n",
      "0.0 It's a brazilian thing.\n",
      "0.0 It's a tropical thing.\n",
      "0.0 It's a tropical thing.\n",
      "0.0 It's a i thing.\n",
      "0.0 It's a i thing.\n",
      "0.0 It's a told thing.\n",
      "0.0 It's a unconventional thing.\n",
      "0.0 It's a unbusinesslike thing.\n",
      "0.10000000000000002 It's a clear thing.\n",
      "0.0 It's a deep thing.\n",
      "0.0 It's a accused thing.\n",
      "0.0 It's a unconventional thing.\n",
      "0.0 It's a unbusinesslike thing.\n",
      "0.10000000000000002 It's a clear thing.\n",
      "0.0 It's a deep thing.\n",
      "0.0 It's a accused thing.\n",
      "0.85 It's a beautiful thing.\n",
      "0.0 It's a deep thing.\n",
      "0.375 It's a rich thing.\n",
      "0.0 It's a tropical thing.\n",
      "0.0 It's a different thing.\n",
      "0.0 It's a american thing.\n",
      "0.0 It's a english thing.\n",
      "0.0 It's a jealous thing.\n",
      "0.0 It's a frantic thing.\n",
      "0.0 It's a i thing.\n",
      "0.25 It's a aware thing.\n",
      "0.0 It's a english thing.\n",
      "-0.6 It's a crazy thing.\n",
      "0.0 It's a hatred thing.\n",
      "0.5 It's a sure thing.\n",
      "-0.4 It's a poor thing.\n",
      "-0.125 It's a other thing.\n",
      "0.0 It's a miss thing.\n",
      "0.0 It's a i thing.\n",
      "0.35 It's a true thing.\n",
      "0.0 It's a tropical thing.\n",
      "0.0 It's a vindictive thing.\n",
      "0.6 It's a own thing.\n",
      "0.5 It's a innocent thing.\n",
      "0.0 It's a vindictive thing.\n",
      "0.6 It's a own thing.\n",
      "0.5 It's a innocent thing.\n",
      "-0.6 It's a unhappy thing.\n",
      "0.0 It's a deep thing.\n",
      "-0.3333333333333333 It's a subtle thing.\n",
      "0.0 It's a simple thing.\n",
      "0.0 It's a second thing.\n",
      "-0.4 It's a worse thing.\n",
      "0.0 It's a sudden thing.\n",
      "0.0 It's a second thing.\n",
      "-0.4 It's a worse thing.\n",
      "0.0 It's a sudden thing.\n"
     ]
    }
   ],
   "source": [
    "for sent,sentiment in zip(makeGibsonlist,gibsonSentiments):\n",
    "    print(sentiment,sent.replace('\\n',' ')[:100])"
   ]
  },
  {
   "cell_type": "code",
   "execution_count": 93,
   "metadata": {},
   "outputs": [],
   "source": [
    "angrygibson=pd.Series(gibsonSentiments) # I name the graph as \"angrygibson because her had a fiery temper in story.\""
   ]
  },
  {
   "cell_type": "code",
   "execution_count": 94,
   "metadata": {},
   "outputs": [],
   "source": [
    "mm= str(dunbarSlist)\n",
    "nn= word_tokenize(mm)\n",
    "oo= pos_tag(nn)\n",
    "pp=[pair[0] for pair in oo\n",
    "               if pair[1] in ['JJ', 'JJR', 'JJS'] and pair[0].isalpha()] "
   ]
  },
  {
   "cell_type": "code",
   "execution_count": 95,
   "metadata": {},
   "outputs": [
    {
     "data": {
      "text/plain": [
       "[('miss', 15),\n",
       " ('young', 9),\n",
       " ('i', 3),\n",
       " ('last', 2),\n",
       " ('possible', 2),\n",
       " ('more', 2),\n",
       " ('curious', 2),\n",
       " ('wild', 1),\n",
       " ('remaining', 1),\n",
       " ('solitary', 1),\n",
       " ('best', 1),\n",
       " ('innocent', 1),\n",
       " ('unfortunate', 1),\n",
       " ('attractive', 1),\n",
       " ('likely', 1),\n",
       " ('exact', 1),\n",
       " ('worse', 1),\n",
       " ('defenceless', 1),\n",
       " ('frantic', 1),\n",
       " ('aware', 1)]"
      ]
     },
     "execution_count": 95,
     "metadata": {},
     "output_type": "execute_result"
    }
   ],
   "source": [
    "Counter(pp).most_common(20)"
   ]
  },
  {
   "cell_type": "code",
   "execution_count": 96,
   "metadata": {},
   "outputs": [],
   "source": [
    "makeDunbarlist=[]\n",
    "for word in pp: \n",
    "    makeDunbarlist.append(\"It's a \"+word+\" thing\"+\".\")"
   ]
  },
  {
   "cell_type": "code",
   "execution_count": 97,
   "metadata": {},
   "outputs": [],
   "source": [
    "dunbarSentiments=[TextBlob(sent).sentiment.polarity\n",
    "                  for sent in makeDunbarlist]"
   ]
  },
  {
   "cell_type": "code",
   "execution_count": 98,
   "metadata": {},
   "outputs": [
    {
     "name": "stdout",
     "output_type": "stream",
     "text": [
      "0.1 It's a wild thing.\n",
      "0.0 It's a last thing.\n",
      "0.0 It's a remaining thing.\n",
      "0.0 It's a solitary thing.\n",
      "1.0 It's a best thing.\n",
      "0.0 It's a possible thing.\n",
      "0.0 It's a miss thing.\n",
      "0.5 It's a innocent thing.\n",
      "0.5 It's a more thing.\n",
      "-0.5 It's a unfortunate thing.\n",
      "0.8 It's a attractive thing.\n",
      "0.1 It's a young thing.\n",
      "0.0 It's a likely thing.\n",
      "0.1 It's a young thing.\n",
      "0.25 It's a exact thing.\n",
      "0.1 It's a young thing.\n",
      "0.0 It's a miss thing.\n",
      "0.0 It's a miss thing.\n",
      "0.0 It's a miss thing.\n",
      "0.1 It's a young thing.\n",
      "0.1 It's a young thing.\n",
      "0.0 It's a i thing.\n",
      "-0.4 It's a worse thing.\n",
      "0.0 It's a defenceless thing.\n",
      "0.0 It's a frantic thing.\n",
      "0.0 It's a i thing.\n",
      "0.25 It's a aware thing.\n",
      "0.0 It's a english thing.\n",
      "0.0 It's a miss thing.\n",
      "0.1 It's a young thing.\n",
      "0.0 It's a possible thing.\n",
      "0.5 It's a more thing.\n",
      "0.0 It's a such thing.\n",
      "0.0 It's a miss thing.\n",
      "0.0 It's a short thing.\n",
      "0.0 It's a miss thing.\n",
      "0.0 It's a left thing.\n",
      "0.0 It's a miss thing.\n",
      "-0.125 It's a other thing.\n",
      "0.0 It's a miss thing.\n",
      "0.0 It's a i thing.\n",
      "0.0 It's a several thing.\n",
      "0.1 It's a vital thing.\n",
      "0.1 It's a young thing.\n",
      "0.43333333333333335 It's a easy thing.\n",
      "0.0 It's a next thing.\n",
      "0.1 It's a young thing.\n",
      "0.85 It's a beautiful thing.\n",
      "0.0 It's a dear thing.\n",
      "0.1 It's a young thing.\n",
      "0.0 It's a miss thing.\n",
      "-0.1 It's a curious thing.\n",
      "0.0 It's a miss thing.\n",
      "-0.1 It's a curious thing.\n",
      "0.0 It's a miss thing.\n",
      "0.0 It's a miss thing.\n",
      "0.0 It's a physical thing.\n",
      "-0.1 It's a mental thing.\n",
      "0.0 It's a unforgivable thing.\n",
      "0.0 It's a similar thing.\n",
      "0.0 It's a miss thing.\n",
      "0.0 It's a miss thing.\n",
      "0.0 It's a last thing.\n",
      "0.0 It's a hatred thing.\n",
      "-1.0 It's a terrible thing.\n"
     ]
    }
   ],
   "source": [
    "for sent,sentiment in zip(makeDunbarlist,dunbarSentiments):\n",
    "    print(sentiment,sent.replace('\\n',' ')[:100])"
   ]
  },
  {
   "cell_type": "code",
   "execution_count": 99,
   "metadata": {},
   "outputs": [],
   "source": [
    "innocentdunbar=pd.Series(dunbarSentiments) #Because Miss Dunbar is innocent."
   ]
  },
  {
   "cell_type": "code",
   "execution_count": 100,
   "metadata": {},
   "outputs": [],
   "source": [
    "angrygibsonNormed = angrygibson/np.linalg.norm(angrygibson) \n",
    "innocentdunbarNormed = innocentdunbar/np.linalg.norm(innocentdunbar)"
   ]
  },
  {
   "cell_type": "code",
   "execution_count": 101,
   "metadata": {},
   "outputs": [
    {
     "data": {
      "text/plain": [
       "<matplotlib.axes._subplots.AxesSubplot at 0x1b93a850048>"
      ]
     },
     "execution_count": 101,
     "metadata": {},
     "output_type": "execute_result"
    },
    {
     "data": {
      "image/png": "[encoded data removed]",
      "text/plain": [
       "<Figure size 1296x720 with 1 Axes>"
      ]
     },
     "metadata": {},
     "output_type": "display_data"
    },
    {
     "data": {
      "image/png": "[encoded data removed]",
      "text/plain": [
       "<Figure size 1296x720 with 1 Axes>"
      ]
     },
     "metadata": {},
     "output_type": "display_data"
    }
   ],
   "source": [
    "df = pd.DataFrame([pd.Series(mrsgibsonNormed).rolling(window=10).mean(), pd.Series(msdunbarNormed).rolling(window=10).mean()], index=['mrsgibson', 'msdunbar']).T\n",
    "df.plot()\n",
    "df = pd.DataFrame([pd.Series(angrygibsonNormed).rolling(window=10).mean(), pd.Series(innocentdunbarNormed).rolling(window=10).mean()], index=['mrsgibson', 'msdunbar']).T\n",
    "df.plot()"
   ]
  },
  {
   "cell_type": "markdown",
   "metadata": {},
   "source": [
    "# Figure 2: Sentiments analysis of descriptions of Mrs. Gibson and Miss Dunbar (upper: respective sentiments analysis of sentences; lower: respective sentiments analysis of adjectives.)"
   ]
  },
  {
   "cell_type": "markdown",
   "metadata": {},
   "source": [
    "The contrasts are still obvious, but they are not as sharp as the ones in _Jane Eyre_, the mad woman, Mrs. Gibson went mad for reasons: her husband was tried of her and didn't respect her at all, she had an unhappylife and she was jealous of Miss Dunbar. Her experience has made her look like a \"human\" and a \"woman\" more, and her behaviors are more comprehensible than Bertha."
   ]
  },
  {
   "cell_type": "markdown",
   "metadata": {},
   "source": [
    "# Conclusion: The description between the \"good women\" and \"mad women\" in Jane Eyre and The Problem of Thor Bridge is almost opposite, but the description of the latter one is like more objective. After 75 years, the cognition of foreign women may become more objective. Not like Bertha who even acted as a monster, Mrs Gibson acted more normally and more like a \"person\", and a woman."
   ]
  },
  {
   "cell_type": "markdown",
   "metadata": {},
   "source": [
    "Sadly, either Bertha or Mrs. Gibson, they had no chance to speak for themselves. After using concordance, no complete sentences were discovered as they were said by them. Bertha, being locked in attic, looked like a monster in a jail, could only just roar and attack others. She was dangerous and mad, but also poor and helpless. She has got sympathy of generations of readers. _Wide Sargasso Sea_, by Jean Rhys, is a book which imagines Bertha's youth and explores the power relationships between men and women and develops postcolonial themes, such as racism, displacement and assimilation. Mrs. Gibson were dead at the very beginning of the story, all we know is that she hated Miss Dunbar and said something really bad to Miss Dunbar before her suicide, but what did she say? What did she look like as a mother, a woman? Doyle didn't show them to us, but he has talked about her husband treated her terribly and she was really unhappy, which could be seen as a progress to Brontë. In Jane Eyre, there are no words about Bertha's feelings. But essentially, in that writing background, no one cared about why they went mad. They were taken from their own homeland, thinking they met true love. They had no friends or families in England, they were not good at English or English etiquette, they may don't like English food, and didn't know how to rule a manor or be a respectful hostess. The only dependence was husband, but as time passed they weren't as beautiful as before, their husbands started tried of them and moved on to flirt with their English young governess, the loneliness and sadness would turn to madness and jealousy. In the end, they became the \"the mad women in the attic\"."
   ]
  }
 ],
 "metadata": {
  "kernelspec": {
   "display_name": "Python 3",
   "language": "python",
   "name": "python3"
  },
  "language_info": {
   "codemirror_mode": {
    "name": "ipython",
    "version": 3
   },
   "file_extension": ".py",
   "mimetype": "text/x-python",
   "name": "python",
   "nbconvert_exporter": "python",
   "pygments_lexer": "ipython3",
   "version": "3.6.6"
  }
 },
 "nbformat": 4,
 "nbformat_minor": 2
}
